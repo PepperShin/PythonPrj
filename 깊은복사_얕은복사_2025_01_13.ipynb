{
 "cells": [
  {
   "cell_type": "code",
   "execution_count": 4,
   "metadata": {},
   "outputs": [
    {
     "name": "stdout",
     "output_type": "stream",
     "text": [
      "True\n",
      "2961350550032 2961350542512\n",
      "False\n",
      "True\n",
      "2961270702384 2961270702384\n",
      "True\n"
     ]
    }
   ],
   "source": [
    "a = 1000\n",
    "b = 1000\n",
    "\n",
    "print(a == b)\n",
    "print(id(a), id(b))\n",
    "print(a is b) # 맨 처음 100일때는 둘 다 True가 나왔는데 1000일때는 False가 나온다.\n",
    "\n",
    "a = 3\n",
    "b = 3\n",
    "\n",
    "print(a == b)\n",
    "print(id(a), id(b))\n",
    "print(a is b) #is는 주소값이 같은지 확인한다."
   ]
  },
  {
   "cell_type": "code",
   "execution_count": 9,
   "metadata": {},
   "outputs": [
    {
     "name": "stdout",
     "output_type": "stream",
     "text": [
      "True\n",
      "False\n",
      "True\n",
      "[1, 2, 3, 4]\n"
     ]
    }
   ],
   "source": [
    "r1 = [1, 2, 3]\n",
    "r2 = [1, 2, 3] # 이때는 주소값이 다르다.\n",
    "\n",
    "print(r1 == r2) # True\n",
    "print(r1 is r2) # False\n",
    "\n",
    "r2 = r1 # r1의 주소값을 r2에 넣어준다.\n",
    "\n",
    "print(r1 is r2) # True\n",
    "\n",
    "r2.append(4)\n",
    "print(r1) # [1, 2, 3, 4] r2에 4를 추가했는데 r1에도 추가되었다. r1과 r2는 같은 주소값을 가지고 있기 때문이다."
   ]
  },
  {
   "cell_type": "code",
   "execution_count": 18,
   "metadata": {},
   "outputs": [
    {
     "name": "stdout",
     "output_type": "stream",
     "text": [
      "False\n",
      "John\n",
      "['John', ('man', 'USA'), [180, 23]]\n",
      "['John', ('man', 'USA'), [180, 23]]\n",
      "2961351023296 2961351031168\n",
      "2961351026928 2961351026928\n",
      "True\n"
     ]
    }
   ],
   "source": [
    "r1 = ['John',('man','USA'),[175,23]] #John은 미국남자로 175cm 23세\n",
    "\n",
    "r2 = list(r1) # r1의 내용으로 새로운 리스트를 만듦\n",
    "\n",
    "print(r1 is r2) # False\n",
    "print(r1[0])\n",
    "\n",
    "r1[2][0] = 180\n",
    "\n",
    "print(r1)\n",
    "print(r2) # r1과 r2의 주소가 다름에도 불구하고 r2안의 리스트의 값도 바뀌어버렸다. \n",
    "\n",
    "print(id(r1), id(r2))\n",
    "print(id(r1[0]), id(r2[0]))\n",
    "print(r1[0] is r2[0]) # True"
   ]
  },
  {
   "cell_type": "code",
   "execution_count": 20,
   "metadata": {},
   "outputs": [
    {
     "name": "stdout",
     "output_type": "stream",
     "text": [
      "['John', ('man', 'USA'), [175, 24]]\n",
      "['John', ('man', 'USA'), [175, 24]]\n",
      "['John', ('man', 'USA'), [175, 24]]\n",
      "['John', ('man', 'USA'), [175, 23]]\n"
     ]
    }
   ],
   "source": [
    "# 깊은 복사\n",
    "import copy # deepcopy 함수를 사용하기 위해 copy 모듈을 import\n",
    "\n",
    "john = ['John',('man','USA'),[175,23]]\n",
    "\n",
    "tom = list(john) # john의 내용을 tom에 복사\n",
    "kim = copy.copy(john) # john의 내용을 kim에 복사\n",
    "younghee = copy.deepcopy(john) # john의 내용을 younghee에 깊은 복사\n",
    "\n",
    "\n",
    "john[2][1] += 1\n",
    "\n",
    "print(john)\n",
    "print(tom) # list()\n",
    "print(kim) # copy.copy()\n",
    "print(younghee) # copy.deepcopy()"
   ]
  }
 ],
 "metadata": {
  "kernelspec": {
   "display_name": "env_django",
   "language": "python",
   "name": "python3"
  },
  "language_info": {
   "codemirror_mode": {
    "name": "ipython",
    "version": 3
   },
   "file_extension": ".py",
   "mimetype": "text/x-python",
   "name": "python",
   "nbconvert_exporter": "python",
   "pygments_lexer": "ipython3",
   "version": "3.10.16"
  }
 },
 "nbformat": 4,
 "nbformat_minor": 2
}
