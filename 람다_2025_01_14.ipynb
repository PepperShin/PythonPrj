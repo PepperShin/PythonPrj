{
 "cells": [
  {
   "cell_type": "code",
   "execution_count": 5,
   "metadata": {},
   "outputs": [
    {
     "name": "stdout",
     "output_type": "stream",
     "text": [
      "<class 'function'>\n",
      "hello\n",
      "bye\n"
     ]
    }
   ],
   "source": [
    "# 함수도 객체다.\n",
    "# 람다\n",
    "\n",
    "def func1(n):\n",
    "    print(\"hello\")\n",
    "\n",
    "print(type(func1))\n",
    "\n",
    "def say1():\n",
    "    print(\"hello\")\n",
    "\n",
    "def say2():\n",
    "    print(\"bye\")\n",
    "\n",
    "def caller(fct): # callback 함수\n",
    "    fct()\n",
    "\n",
    "caller(say1) # 함수 호출이 아닌 함수 이름만 입력\n",
    "caller(say2) # 자바 스크립트, 파이썬에서만 사용 가능. 자바에서는 불가능. c, c++에서는 void 포인터로 사용 가능."
   ]
  },
  {
   "cell_type": "code",
   "execution_count": 4,
   "metadata": {},
   "outputs": [
    {
     "name": "stdout",
     "output_type": "stream",
     "text": [
      "100\n",
      "1000\n",
      "10000\n"
     ]
    }
   ],
   "source": [
    "def fct_fac(n):\n",
    "\n",
    "    def exp(x):\n",
    "        return x ** n\n",
    "    \n",
    "    return exp\n",
    "\n",
    "f1 = fct_fac(2)\n",
    "'''\n",
    "f = def exp(x):\n",
    "    return x ** 2\n",
    "이 된다...\n",
    "'''\n",
    "print(f1(10))\n",
    "\n",
    "f2 = fct_fac(3)\n",
    "f3 = fct_fac(4)\n",
    "\n",
    "print(f2(10))\n",
    "print(f3(10))"
   ]
  },
  {
   "cell_type": "code",
   "execution_count": 6,
   "metadata": {},
   "outputs": [
    {
     "name": "stdout",
     "output_type": "stream",
     "text": [
      "안녕하세요\n"
     ]
    }
   ],
   "source": [
    "# 람다. 이름 없는 함수\n",
    "\n",
    "ref = lambda s : print(s)\n",
    "\n",
    "ref(\"안녕하세요\")"
   ]
  },
  {
   "cell_type": "code",
   "execution_count": 11,
   "metadata": {},
   "outputs": [
    {
     "name": "stdout",
     "output_type": "stream",
     "text": [
      "7\n",
      "6\n",
      "None\n"
     ]
    }
   ],
   "source": [
    "f1 = lambda i, j : i + j\n",
    "\n",
    "print(f1(3, 4))\n",
    "\n",
    "f2 = lambda string : len(string)\n",
    "\n",
    "print(f2('simple'))"
   ]
  },
  {
   "cell_type": "code",
   "execution_count": 21,
   "metadata": {},
   "outputs": [
    {
     "name": "stdout",
     "output_type": "stream",
     "text": [
      "yes\n",
      "64\n",
      "16\n",
      "125\n",
      "6\n",
      "6\n"
     ]
    }
   ],
   "source": [
    "# 파라미터가 없을 경우\n",
    "f1 = lambda : print(\"yes\")\n",
    "\n",
    "f1() # yes\n",
    "\n",
    "# 아래의 함수를 람다로 만드시오\n",
    "def fct_fac(n):\n",
    "\n",
    "    def exp(x):\n",
    "        return x ** n\n",
    "    \n",
    "    return exp\n",
    "\n",
    "def fct_fac(n):\n",
    "    fct = lambda x : x ** n\n",
    "    \n",
    "    return fct\n",
    "\n",
    "f2 = fct_fac(3)\n",
    "print(f2(4))\n",
    "\n",
    "f3 = lambda n, x : x ** n\n",
    "print(f3(2, 4))\n",
    "\n",
    "fct = lambda n : lambda x : x ** n\n",
    "f4 = fct(3) # f4 = lambda x : x ** 3 이 된다.\n",
    "print(f4(5))\n",
    "\n",
    "# 미쳐버린 다중 람다\n",
    "\n",
    "lamb = lambda x : (lambda y : (lambda z : x * y * z))\n",
    "\n",
    "print(lamb(1)(2)(3))\n",
    "\n",
    "lamb2 = lambda x : lambda y : lambda z : x * y * z\n",
    "\n",
    "print(lamb2(1)(2)(3))"
   ]
  },
  {
   "cell_type": "code",
   "execution_count": 19,
   "metadata": {},
   "outputs": [
    {
     "name": "stdout",
     "output_type": "stream",
     "text": [
      "6\n"
     ]
    }
   ],
   "source": [
    "# 람다 만들어서 바로 실행\n",
    "\n",
    "print((lambda x : x + 1)(5)) # 5를 바로 x에 넣어서 실행\n",
    "\n",
    "#(lambda x : x + 1)(5) 뒤에 ()가 와서 즉시 실행하게 된다."
   ]
  }
 ],
 "metadata": {
  "kernelspec": {
   "display_name": "env_django",
   "language": "python",
   "name": "python3"
  },
  "language_info": {
   "codemirror_mode": {
    "name": "ipython",
    "version": 3
   },
   "file_extension": ".py",
   "mimetype": "text/x-python",
   "name": "python",
   "nbconvert_exporter": "python",
   "pygments_lexer": "ipython3",
   "version": "3.10.16"
  }
 },
 "nbformat": 4,
 "nbformat_minor": 2
}
