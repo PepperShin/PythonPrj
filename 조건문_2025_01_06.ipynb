{
 "cells": [
  {
   "cell_type": "markdown",
   "metadata": {},
   "source": [
    "조건문"
   ]
  },
  {
   "cell_type": "code",
   "execution_count": 54,
   "metadata": {},
   "outputs": [
    {
     "name": "stdout",
     "output_type": "stream",
     "text": [
      "True\n",
      "<class 'bool'>\n",
      "False\n",
      "<class 'bool'>\n"
     ]
    }
   ],
   "source": [
    "True\n",
    "print(True)\n",
    "print(type(True))\n",
    "\n",
    "False\n",
    "print(False)\n",
    "print(type(False))"
   ]
  },
  {
   "cell_type": "code",
   "execution_count": 56,
   "metadata": {},
   "outputs": [
    {
     "data": {
      "text/plain": [
       "False"
      ]
     },
     "execution_count": 56,
     "metadata": {},
     "output_type": "execute_result"
    }
   ],
   "source": [
    "3 > 10"
   ]
  },
  {
   "cell_type": "code",
   "execution_count": 59,
   "metadata": {},
   "outputs": [],
   "source": [
    "num = int(input(\"정수 입력\"))\n",
    "\n",
    "if num > 0: # True False가 리턴되는 구문\n",
    "    print(\"양수\")\n",
    "\n",
    "if num < 0:\n",
    "    print(\"음수\")\n"
   ]
  },
  {
   "cell_type": "code",
   "execution_count": 60,
   "metadata": {},
   "outputs": [
    {
     "name": "stdout",
     "output_type": "stream",
     "text": [
      "양수\n"
     ]
    }
   ],
   "source": [
    "num = int(input(\"정수 입력\"))\n",
    "\n",
    "if num > 0: # True False가 리턴되는 구문\n",
    "    print(\"양수\")\n",
    "\n",
    "else:\n",
    "    print(\"음수\")"
   ]
  },
  {
   "cell_type": "code",
   "execution_count": 65,
   "metadata": {},
   "outputs": [
    {
     "name": "stdout",
     "output_type": "stream",
     "text": [
      "음수\n"
     ]
    }
   ],
   "source": [
    "num = int(input(\"정수 입력\"))\n",
    "\n",
    "if num > 0:\n",
    "    print(\"양수\")\n",
    "\n",
    "elif num < 0:\n",
    "    print(\"음수\")\n",
    "\n",
    "else:\n",
    "    print(\"0\")"
   ]
  },
  {
   "cell_type": "code",
   "execution_count": 67,
   "metadata": {},
   "outputs": [
    {
     "name": "stdout",
     "output_type": "stream",
     "text": [
      "거짓\n"
     ]
    }
   ],
   "source": [
    "if True and False:\n",
    "    print(\"참\")\n",
    "else:\n",
    "    print(\"거짓\")"
   ]
  },
  {
   "cell_type": "code",
   "execution_count": 68,
   "metadata": {},
   "outputs": [
    {
     "name": "stdout",
     "output_type": "stream",
     "text": [
      "False\n",
      "True\n"
     ]
    }
   ],
   "source": [
    "print(not True)\n",
    "print(not False)"
   ]
  },
  {
   "cell_type": "code",
   "execution_count": 71,
   "metadata": {},
   "outputs": [
    {
     "name": "stdout",
     "output_type": "stream",
     "text": [
      "2의 배수도, 3의 배수도 아닙니다.\n"
     ]
    }
   ],
   "source": [
    "num = int(input(\"숫자를 적어주세요\"))\n",
    "\n",
    "if num % 2 == 0: # 2의 배수인가?\n",
    "    if num % 3 == 0: # 3의 배수인가?\n",
    "        print(\"2의 배수이면서 3의 배수입니다\")\n",
    "    else:\n",
    "        print(\"2의 배수이지만 3의 배수는 아닙니다\")\n",
    "else:\n",
    "    print(\"2의 배수도, 3의 배수도 아닙니다.\")"
   ]
  },
  {
   "cell_type": "code",
   "execution_count": 72,
   "metadata": {},
   "outputs": [
    {
     "name": "stdout",
     "output_type": "stream",
     "text": [
      "2의 배수이면서 3의 배수입니다\n"
     ]
    }
   ],
   "source": [
    "num = int(input(\"숫자를 적어주세요\"))\n",
    "\n",
    "if (num % 2) == 0 and (num % 3) == 0:\n",
    "    print(\"2의 배수이면서 3의 배수입니다\")\n",
    "else:\n",
    "    print(\"2의 배수도, 3의 배수도 아닙니다.\")"
   ]
  },
  {
   "cell_type": "code",
   "execution_count": null,
   "metadata": {},
   "outputs": [
    {
     "name": "stdout",
     "output_type": "stream",
     "text": [
      "수\n"
     ]
    }
   ],
   "source": [
    "#문제 풀기 \n",
    "def total(kor, eng, math):\n",
    "    return kor + eng + math\n",
    "\n",
    "def avg(total):\n",
    "    return (kor + eng + math) / 3\n",
    "\n",
    "kor, eng, math = input(\"국어 영어 수학 점수를 적어주세요\").split(\" \")\n",
    "\n",
    "kor = int(kor)\n",
    "eng = int(eng)\n",
    "math = int(math)\n",
    "\n",
    "\n",
    "def grade(avg):\n",
    "    if avg >= 90:\n",
    "        return \"수\"\n",
    "    elif avg >= 80:\n",
    "        return \"우\"\n",
    "    elif avg >= 70:\n",
    "        return \"미\"\n",
    "    elif avg >= 60:\n",
    "        return \"양\"\n",
    "    else:\n",
    "        return \"가\"\n",
    "\n",
    "print(grade(avg(total(kor, eng, math))))"
   ]
  },
  {
   "cell_type": "code",
   "execution_count": 78,
   "metadata": {},
   "outputs": [
    {
     "name": "stdout",
     "output_type": "stream",
     "text": [
      "True\n",
      "False\n",
      "True\n",
      "False\n"
     ]
    }
   ],
   "source": [
    "print(\"abc\" == \"abc\")\n",
    "print(\"abc\" == \"Abc\")\n",
    "\n",
    "print([1,2] == [1,2])\n",
    "print([1,2] == [1,3])"
   ]
  },
  {
   "cell_type": "code",
   "execution_count": 79,
   "metadata": {},
   "outputs": [
    {
     "name": "stdout",
     "output_type": "stream",
     "text": [
      "False\n",
      "True\n"
     ]
    }
   ],
   "source": [
    "print(\"abc\".isdigit())\n",
    "print(\"123\".isdigit())"
   ]
  },
  {
   "cell_type": "code",
   "execution_count": 80,
   "metadata": {},
   "outputs": [
    {
     "name": "stdout",
     "output_type": "stream",
     "text": [
      "True\n",
      "False\n"
     ]
    }
   ],
   "source": [
    "print(\"abc\".isalpha())\n",
    "print(\"123\".isalpha())"
   ]
  },
  {
   "cell_type": "code",
   "execution_count": 2,
   "metadata": {},
   "outputs": [
    {
     "name": "stdout",
     "output_type": "stream",
     "text": [
      "정상적인 입력입니다.\n"
     ]
    }
   ],
   "source": [
    "def main():\n",
    "    pnum = input(\"전화번호를 입력해 주세요\")\n",
    "    if pnum.isdigit() and pnum.startswith(\"010\"):\n",
    "        print(\"정상적인 입력입니다.\")\n",
    "    else:\n",
    "        print(\"잘못된 입력입니다.\")\n",
    "\n",
    "main()"
   ]
  },
  {
   "cell_type": "code",
   "execution_count": null,
   "metadata": {},
   "outputs": [
    {
     "name": "stdout",
     "output_type": "stream",
     "text": [
      "Yes\n",
      "있습니다.\n"
     ]
    },
    {
     "data": {
      "text/plain": [
       "False"
      ]
     },
     "execution_count": 5,
     "metadata": {},
     "output_type": "execute_result"
    }
   ],
   "source": [
    "s = input(\"\")\n",
    "if s.find(\"ghe\") != -1:\n",
    "    print(\"Yes\")\n",
    "else:\n",
    "    print(\"No\")    "
   ]
  },
  {
   "cell_type": "code",
   "execution_count": 6,
   "metadata": {},
   "outputs": [
    {
     "name": "stdout",
     "output_type": "stream",
     "text": [
      "있습니다.\n"
     ]
    },
    {
     "data": {
      "text/plain": [
       "False"
      ]
     },
     "execution_count": 6,
     "metadata": {},
     "output_type": "execute_result"
    }
   ],
   "source": [
    "s = input(\"\")\n",
    "\n",
    "if \"ghe\" in s:\n",
    "    print(\"있습니다.\")\n",
    "else:\n",
    "    print(\"없습니다\")\n",
    "\n",
    "[3] in [1, 2, 3]"
   ]
  },
  {
   "cell_type": "code",
   "execution_count": 7,
   "metadata": {},
   "outputs": [
    {
     "name": "stdout",
     "output_type": "stream",
     "text": [
      "참\n",
      "거짓\n"
     ]
    }
   ],
   "source": [
    "if 1:\n",
    "    print(\"참\")\n",
    "else:\n",
    "    print(\"거짓\")\n",
    "\n",
    "if 0:\n",
    "    print(\"참\")\n",
    "else:\n",
    "    print(\"거짓\")"
   ]
  },
  {
   "cell_type": "code",
   "execution_count": 8,
   "metadata": {},
   "outputs": [
    {
     "name": "stdout",
     "output_type": "stream",
     "text": [
      "True\n",
      "False\n",
      "True\n",
      "False\n"
     ]
    }
   ],
   "source": [
    "print(bool(\"what\"))\n",
    "print(bool(\"\"))\n",
    "\n",
    "print(bool([1, 2, 3]))\n",
    "print(bool([]))"
   ]
  }
 ],
 "metadata": {
  "kernelspec": {
   "display_name": "env_django",
   "language": "python",
   "name": "python3"
  },
  "language_info": {
   "codemirror_mode": {
    "name": "ipython",
    "version": 3
   },
   "file_extension": ".py",
   "mimetype": "text/x-python",
   "name": "python",
   "nbconvert_exporter": "python",
   "pygments_lexer": "ipython3",
   "version": "3.10.16"
  }
 },
 "nbformat": 4,
 "nbformat_minor": 2
}
