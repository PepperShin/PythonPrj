{
 "cells": [
  {
   "cell_type": "code",
   "execution_count": 6,
   "metadata": {},
   "outputs": [
    {
     "name": "stdout",
     "output_type": "stream",
     "text": [
      "(12, 15)\n",
      "(12, 15)\n",
      "12 25\n"
     ]
    }
   ],
   "source": [
    "# 패킹과 언패킹\n",
    "\n",
    "tri_one = (12, 15)\n",
    "print(tri_one)\n",
    "\n",
    "tri_two = 12, 15\n",
    "print(tri_two)\n",
    "\n",
    "tri_three = (12, 25)\n",
    "bt, ht = tri_three # 튜플 패킹\n",
    "print(bt, ht)"
   ]
  },
  {
   "cell_type": "code",
   "execution_count": 8,
   "metadata": {},
   "outputs": [
    {
     "name": "stdout",
     "output_type": "stream",
     "text": [
      "1 2 [3, 4, 5]\n",
      "1 [2, 3, 4] 5\n",
      "[1, 2, 3] 4 5\n"
     ]
    }
   ],
   "source": [
    "nums = (1, 2, 3, 4, 5)\n",
    "n1, n2, *others = nums # 둘 이상의 값을 리스트로 패킹하고 있다. 포인터 아님! *(에스트릭)은 변수 선언할때만 사용하면 된다.\n",
    "print(n1, n2, others)\n",
    "\n",
    "nums = (1, 2, 3, 4, 5)\n",
    "first, *others, last = nums # 앞 뒤의 값을 제외한 나머지 값을 리스트로 묶었다.\n",
    "print(first, others, last)\n",
    "\n",
    "*others, n1, n2 = nums # 마지막 둘을 제외한 나머지 값을 리스트로 묶었다.\n",
    "print(others, n1, n2)"
   ]
  },
  {
   "cell_type": "code",
   "execution_count": 5,
   "metadata": {},
   "outputs": [
    {
     "name": "stdout",
     "output_type": "stream",
     "text": [
      "1 2 (3, 4, 5)\n",
      "6\n"
     ]
    }
   ],
   "source": [
    "# 함수에서 쓰일때는 튜플로 묶인다.\n",
    "\n",
    "'''\n",
    "함수에도 * 파라미터로 쓸수 있음\n",
    "1. 단독으로 파라미터로 쓸때\n",
    "def only_keyword(*,x,y): # 키워드 인자만 받겠다\n",
    "return x + y\n",
    "\n",
    "2. *변수명 이 붙을경우\n",
    "함수에 *적용\n",
    "def show_nums(n1,n2,*ohter):\n",
    "    print(n1,n2,ohter)\n",
    "\n",
    "show_nums(1,2,3,4,5)\n",
    "'''\n",
    "\n",
    "\n",
    "# 함수에 튜플 패킹 적용\n",
    "def show_nums(n1, n2, *others): # 튜플로 묶는다...\n",
    "    print(n1, n2, others)\n",
    "\n",
    "show_nums(1, 2, 3, 4, 5)\n",
    "\n",
    "\n",
    "# *파라미터의 응용\n",
    "def sum(*nums):\n",
    "    s = 0\n",
    "    for i in nums:\n",
    "        s += i\n",
    "\n",
    "    return s\n",
    "\n",
    "print(sum(1, 2, 3)) # 여러개의 파라미터를 하나로 묶을 수 있다! 게다가 길이도 상관 없다!"
   ]
  },
  {
   "cell_type": "code",
   "execution_count": 9,
   "metadata": {},
   "outputs": [
    {
     "name": "stdout",
     "output_type": "stream",
     "text": [
      "Yoon 22 180\n"
     ]
    }
   ],
   "source": [
    "# 언패킹\n",
    "\n",
    "def show_man(name, age, height):\n",
    "    print(name, age, height)\n",
    "\n",
    "p = ('Yoon', 22, 180)\n",
    "# show_man('Yoon', 22, 180) 원래는 이런 식으로 넣어야 하지만\n",
    "# show_man(p) 하면 에러가 난다.\n",
    "show_man(*p) # 언패킹해서 한번에 넣을 수 있다!\n",
    "\n",
    "# 함수를 호출할 때 *(에스트릭)이 사용되면 튜플 언패킹이 된다.\n",
    "# 언패킹 케이스는 튜플로 함수를 호출할 때만 사용된다."
   ]
  },
  {
   "cell_type": "code",
   "execution_count": 7,
   "metadata": {},
   "outputs": [
    {
     "name": "stdout",
     "output_type": "stream",
     "text": [
      "1, 2, 3, 4\n",
      "1, 2, (3, 4)\n"
     ]
    }
   ],
   "source": [
    "t = (1, 2, (3, 4)) # 튜플 안의 튜플\n",
    "\n",
    "a, b, (c, d) = t # 각 값 다 빼내기\n",
    "\n",
    "print(a, b, c, d, sep = ', ')\n",
    "\n",
    "a, b, k = t\n",
    "c, d = k\n",
    "\n",
    "print(a, b, k, sep = ', ')"
   ]
  }
 ],
 "metadata": {
  "kernelspec": {
   "display_name": "env_django",
   "language": "python",
   "name": "python3"
  },
  "language_info": {
   "codemirror_mode": {
    "name": "ipython",
    "version": 3
   },
   "file_extension": ".py",
   "mimetype": "text/x-python",
   "name": "python",
   "nbconvert_exporter": "python",
   "pygments_lexer": "ipython3",
   "version": "3.10.16"
  }
 },
 "nbformat": 4,
 "nbformat_minor": 2
}
