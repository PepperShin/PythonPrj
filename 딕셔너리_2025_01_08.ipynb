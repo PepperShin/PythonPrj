{
 "cells": [
  {
   "cell_type": "code",
   "execution_count": 1,
   "metadata": {},
   "outputs": [
    {
     "name": "stdout",
     "output_type": "stream",
     "text": [
      "<class 'dict'>\n",
      "{'코카콜라': 900, '바나나우유': 750, '비타500': 600, '삼다수': 400}\n"
     ]
    }
   ],
   "source": [
    "#딕셔너리 CRUD\n",
    "\n",
    "dc = {\n",
    "    \"코카콜라\" : 900,\n",
    "    \"바나나우유\" : 750,\n",
    "    \"비타500\" : 600,\n",
    "    \"삼다수\" : 400\n",
    "}\n",
    "\n",
    "print(type(dc))\n",
    "print(dc)"
   ]
  },
  {
   "cell_type": "code",
   "execution_count": null,
   "metadata": {},
   "outputs": [],
   "source": [
    "dc_student = {\n",
    "    1 : \"홍길동\",\n",
    "    2 : \"박길동\",\n",
    "    3 : \"김길동\"\n",
    "}\n",
    "\n",
    "print(type(dc_student))\n",
    "print(dc_student)"
   ]
  },
  {
   "cell_type": "code",
   "execution_count": 2,
   "metadata": {},
   "outputs": [
    {
     "name": "stdout",
     "output_type": "stream",
     "text": [
      "{'이름': '이순둥', '나이': 19, '직업': '학생', '키': 175.8}\n"
     ]
    }
   ],
   "source": [
    "dc = {\n",
    "    \"이름\" : '이순둥',\n",
    "    \"나이\" : 19,\n",
    "    '직업' : '학생',\n",
    "    '키' : 175.8\n",
    "}\n",
    "\n",
    "print(dc)"
   ]
  },
  {
   "cell_type": "code",
   "execution_count": 3,
   "metadata": {},
   "outputs": [
    {
     "name": "stdout",
     "output_type": "stream",
     "text": [
      "<class 'dict'>\n",
      "{1: '홍길동', 2: '홍길동', 3: '홍길동'}\n"
     ]
    }
   ],
   "source": [
    "dc_student = {\n",
    "    1 : \"홍길동\",\n",
    "    2 : \"홍길동\",\n",
    "    3 : \"홍길동\"\n",
    "}\n",
    "\n",
    "print(type(dc_student))\n",
    "print(dc_student)"
   ]
  },
  {
   "cell_type": "code",
   "execution_count": 4,
   "metadata": {},
   "outputs": [
    {
     "name": "stdout",
     "output_type": "stream",
     "text": [
      "<class 'dict'>\n",
      "{'이순둥': 24}\n"
     ]
    }
   ],
   "source": [
    "dc_student = {\n",
    "    '이순둥' : 22,\n",
    "    '이순둥' : 23,\n",
    "    '이순둥' : 24\n",
    "}\n",
    "\n",
    "print(type(dc_student))\n",
    "print(dc_student)"
   ]
  },
  {
   "cell_type": "code",
   "execution_count": 5,
   "metadata": {},
   "outputs": [
    {
     "name": "stdout",
     "output_type": "stream",
     "text": [
      "400\n"
     ]
    }
   ],
   "source": [
    "dc = {\n",
    "    \"코카콜라\" : 900,\n",
    "    \"바나나우유\" : 750,\n",
    "    \"비타500\" : 600,\n",
    "    \"삼다수\" : 400\n",
    "}\n",
    "\n",
    "val = dc[\"삼다수\"]\n",
    "print(val)"
   ]
  },
  {
   "cell_type": "code",
   "execution_count": 6,
   "metadata": {},
   "outputs": [
    {
     "name": "stdout",
     "output_type": "stream",
     "text": [
      "600\n"
     ]
    }
   ],
   "source": [
    "dc = {\n",
    "    \"코카콜라\" : 900,\n",
    "    \"바나나우유\" : 750,\n",
    "    \"비타500\" : 600,\n",
    "    \"삼다수\" : 400\n",
    "}\n",
    "\n",
    "val = dc[\"비타500\"]\n",
    "print(val)"
   ]
  },
  {
   "cell_type": "code",
   "execution_count": 8,
   "metadata": {},
   "outputs": [
    {
     "name": "stdout",
     "output_type": "stream",
     "text": [
      "{'코카콜라': 800, '바나나우유': 750, '비타500': 600, '삼다수': 550}\n"
     ]
    }
   ],
   "source": [
    "dc = {\n",
    "    \"코카콜라\" : 900,\n",
    "    \"바나나우유\" : 750,\n",
    "    \"비타500\" : 600,\n",
    "    \"삼다수\" : 400\n",
    "}\n",
    "\n",
    "dc['삼다수'] = 550\n",
    "dc['코카콜라'] = 800\n",
    "print(dc)"
   ]
  },
  {
   "cell_type": "code",
   "execution_count": 10,
   "metadata": {},
   "outputs": [
    {
     "name": "stdout",
     "output_type": "stream",
     "text": [
      "{'코카콜라': 900, '바나나우유': 750, '비타500': 600, '삼다수': 400, '카페라떼': 1000, '사이다': 1200}\n"
     ]
    }
   ],
   "source": [
    "dc = {\n",
    "    \"코카콜라\" : 900,\n",
    "    \"바나나우유\" : 750,\n",
    "    \"비타500\" : 600,\n",
    "    \"삼다수\" : 400\n",
    "}\n",
    "\n",
    "dc['카페라떼'] = 1000\n",
    "dc['사이다'] = 1200\n",
    "print(dc)"
   ]
  },
  {
   "cell_type": "code",
   "execution_count": 11,
   "metadata": {},
   "outputs": [
    {
     "name": "stdout",
     "output_type": "stream",
     "text": [
      "{'코카콜라': 900, '바나나우유': 750, '삼다수': 400}\n"
     ]
    }
   ],
   "source": [
    "dc = {\n",
    "    \"코카콜라\" : 900,\n",
    "    \"바나나우유\" : 750,\n",
    "    \"비타500\" : 600,\n",
    "    \"삼다수\" : 400\n",
    "}\n",
    "\n",
    "del dc['비타500']\n",
    "print(dc)"
   ]
  },
  {
   "cell_type": "code",
   "execution_count": 12,
   "metadata": {},
   "outputs": [
    {
     "name": "stdout",
     "output_type": "stream",
     "text": [
      "{'코카콜라': 950, '바나나우유': 750, '비타500': 600, '삼다수': 400, '카페라떼': 1000}\n"
     ]
    }
   ],
   "source": [
    "dc = {\n",
    "    \"코카콜라\" : 900,\n",
    "    \"바나나우유\" : 750,\n",
    "    \"비타500\" : 600,\n",
    "    \"삼다수\" : 400\n",
    "}\n",
    "\n",
    "if '코카콜라' in dc: # 이때의 in 연산자는 값을 체크하는게 아닌 key를 체크한다.\n",
    "    dc['코카콜라'] = 950\n",
    "\n",
    "if '카페라떼' not in dc:\n",
    "    dc['카페라떼'] = 1000\n",
    "\n",
    "print(dc)\n"
   ]
  },
  {
   "cell_type": "code",
   "execution_count": 13,
   "metadata": {},
   "outputs": [
    {
     "name": "stdout",
     "output_type": "stream",
     "text": [
      "코카콜라 900\n",
      "바나나우유 750\n",
      "비타500 600\n",
      "삼다수 400\n"
     ]
    }
   ],
   "source": [
    "dc = {\n",
    "    \"코카콜라\" : 900,\n",
    "    \"바나나우유\" : 750,\n",
    "    \"비타500\" : 600,\n",
    "    \"삼다수\" : 400\n",
    "}\n",
    "\n",
    "for i in dc:\n",
    "    print(i, dc[i])"
   ]
  },
  {
   "cell_type": "code",
   "execution_count": 14,
   "metadata": {},
   "outputs": [
    {
     "name": "stdout",
     "output_type": "stream",
     "text": [
      "코카콜라 1000\n",
      "바나나우유 850\n",
      "비타500 700\n",
      "삼다수 500\n"
     ]
    }
   ],
   "source": [
    "# dc에 모든 물품에 100원을 더하시오\n",
    "dc = {\n",
    "    \"코카콜라\" : 900,\n",
    "    \"바나나우유\" : 750,\n",
    "    \"비타500\" : 600,\n",
    "    \"삼다수\" : 400\n",
    "}\n",
    "\n",
    "for i in dc:\n",
    "    dc[i] = dc[i] + 100\n",
    "    print(i, dc[i])"
   ]
  },
  {
   "cell_type": "code",
   "execution_count": 15,
   "metadata": {},
   "outputs": [
    {
     "name": "stdout",
     "output_type": "stream",
     "text": [
      "코카콜라 900\n",
      "바나나우유 750\n",
      "비타500 600\n",
      "삼다수 400\n"
     ]
    }
   ],
   "source": [
    "dc = {\n",
    "    \"코카콜라\" : 900,\n",
    "    \"바나나우유\" : 750,\n",
    "    \"비타500\" : 600,\n",
    "    \"삼다수\" : 400\n",
    "}\n",
    "\n",
    "for key, value in dc.items(): # dc.items()는 리턴값이 두개이다.\n",
    "    print(key, value)"
   ]
  },
  {
   "cell_type": "code",
   "execution_count": 16,
   "metadata": {},
   "outputs": [
    {
     "name": "stdout",
     "output_type": "stream",
     "text": [
      "2650\n"
     ]
    }
   ],
   "source": [
    "dc = {\n",
    "    \"코카콜라\" : 900,\n",
    "    \"바나나우유\" : 750,\n",
    "    \"비타500\" : 600,\n",
    "    \"삼다수\" : 400\n",
    "}\n",
    "\n",
    "sum = 0\n",
    "\n",
    "for value in dc.values():\n",
    "    sum += value\n",
    "\n",
    "print(sum)"
   ]
  },
  {
   "cell_type": "code",
   "execution_count": 1,
   "metadata": {},
   "outputs": [
    {
     "name": "stdout",
     "output_type": "stream",
     "text": [
      "{'a': 1, 'b': 2, 'c': 3}\n",
      "{'a': 1, 'b': 2, 'c': 3}\n",
      "{'a': 1, 'b': 2, 'c': 3}\n",
      "{'a': 1, 'b': 2, 'c': 3}\n",
      "{'a': 1, 'b': 2, 'c': 3}\n"
     ]
    },
    {
     "data": {
      "text/plain": [
       "True"
      ]
     },
     "execution_count": 1,
     "metadata": {},
     "output_type": "execute_result"
    }
   ],
   "source": [
    "# 딕셔너리 생성과 zip\n",
    "\n",
    "# 딕셔너리 생성 방법들\n",
    "\n",
    "dic1 = {\n",
    "    'a' : 1,\n",
    "    'b' : 2,\n",
    "    'c' : 3,  \n",
    "}\n",
    "print(dic1)\n",
    "\n",
    "dic2 = dict(a = 1, b = 2, c = 3) # 형변환 함수 이용\n",
    "print(dic2)\n",
    "\n",
    "dic3 = dict([('a', 1), ('b', 2), ('c', 3)])\n",
    "print(dic3)\n",
    "\n",
    "dic4 = dict((('a', 1), ('b', 2), ('c', 3))) # 튜플로 해도 가능\n",
    "print(dic4)\n",
    "\n",
    "dic5 = dict(zip(['a', 'b', 'c'], [1, 2, 3])) # zip 함수 이용\n",
    "print(dic5)\n",
    "\n",
    "dic1 == dic2 == dic3 == dic4 == dic5"
   ]
  },
  {
   "cell_type": "code",
   "execution_count": 2,
   "metadata": {},
   "outputs": [
    {
     "name": "stdout",
     "output_type": "stream",
     "text": [
      "('a', 1)\n",
      "('b', 2)\n",
      "('c', 3)\n"
     ]
    }
   ],
   "source": [
    "# zip을 for 문으로 돌리기\n",
    "\n",
    "z = zip(('a', 'b', 'c'), (1, 2, 3)) # zip 자체는 튜플로 구성된 iterable 객체이다.\n",
    "\n",
    "for i in z:\n",
    "    print(i) # 튜플로 출력\n",
    "\n"
   ]
  },
  {
   "cell_type": "code",
   "execution_count": 6,
   "metadata": {},
   "outputs": [
    {
     "name": "stdout",
     "output_type": "stream",
     "text": [
      "('a', 1)\n",
      "('b', 2)\n",
      "('c', 3)\n"
     ]
    }
   ],
   "source": [
    "z = zip('abc', (1, 2, 3))\n",
    "\n",
    "for i in z:\n",
    "    print(i)"
   ]
  },
  {
   "cell_type": "code",
   "execution_count": 3,
   "metadata": {},
   "outputs": [
    {
     "name": "stdout",
     "output_type": "stream",
     "text": [
      "(('a', 1), ('b', 2), ('c', 3))\n"
     ]
    }
   ],
   "source": [
    "t = tuple(zip('abc', (1, 2, 3)))\n",
    "print(t)"
   ]
  },
  {
   "cell_type": "code",
   "execution_count": 7,
   "metadata": {},
   "outputs": [
    {
     "name": "stdout",
     "output_type": "stream",
     "text": [
      "[('a', 1, 'one'), ('b', 2, 'two'), ('c', 3, 'three')]\n"
     ]
    }
   ],
   "source": [
    "z = list(zip('abc', (1, 2, 3), ('one', 'two', 'three')))\n",
    "print(z)"
   ]
  },
  {
   "cell_type": "code",
   "execution_count": 8,
   "metadata": {},
   "outputs": [
    {
     "name": "stdout",
     "output_type": "stream",
     "text": [
      "1, 2, 3\n",
      "1, 2, 3\n",
      "1, 2, 3\n",
      "a, b, c\n"
     ]
    }
   ],
   "source": [
    "# *와 ** 사용규칙\n",
    "\n",
    "#func(*iterable)                  iterable 객체를 전달하면서 을 *붙여서 함수 호출할 때\n",
    "#func(**dict)                       dict 객체를 전달하면서 을 **붙여서 함수 호출할 때\n",
    "#def func(*args)                 함수를 정의하면서 매개변수 args에 *붙일 때\n",
    "#def func(**args)               함수를 정의하면서 매개변수 args에 **붙일 때\n",
    "\n",
    "def who(a, b, c):\n",
    "    print(a, b, c, sep = ', ')\n",
    "\n",
    "who(1, 2, 3) # 포지셔널\n",
    "who(*[1, 2, 3]) # 언패킹\n",
    "who(*(1, 2, 3)) # 언패킹\n",
    "who(*'abc') # 언패킹"
   ]
  },
  {
   "cell_type": "code",
   "execution_count": 13,
   "metadata": {},
   "outputs": [
    {
     "name": "stdout",
     "output_type": "stream",
     "text": [
      "a, b, c\n",
      "1, 2, 3\n",
      "('a', 1), ('b', 2), ('c', 3)\n"
     ]
    }
   ],
   "source": [
    "def who(a, b, c):\n",
    "    print(a, b, c, sep = ', ')\n",
    "\n",
    "d = dict(a = 1, b = 2, c = 3)\n",
    "who(*d) # 언패킹을 하니깐 key값만 출력된다.\n",
    "who(**d) # 언패킹을 하니깐 value값만 출력된다.\n",
    "\n",
    "who(*(d.items())) # (('a', 1), ('b', 2), ('c', 3)) 를 언패킹하여 각각의 튜플을 who 의 각 파라미터에 할당한다."
   ]
  },
  {
   "cell_type": "code",
   "execution_count": 16,
   "metadata": {},
   "outputs": [
    {
     "name": "stdout",
     "output_type": "stream",
     "text": [
      "()\n",
      "(1,)\n",
      "(1, 2, 3, 4, 5)\n"
     ]
    }
   ],
   "source": [
    "#def func(*args)                 함수를 정의하면서 매개변수 args에 *붙일 때\n",
    "#def func(**args)               함수를 정의하면서 매개변수 args에 **붙일 때\n",
    "\n",
    "def func(*args):\n",
    "    print(args) \n",
    "\n",
    "func() # 빈 튜플만 출력된다.\n",
    "func(1) # (1,) 출력된다. 이는 튜플이라는걸 알려주기 위해 ,를 붙인다.\n",
    "func(1, 2, 3, 4, 5)"
   ]
  },
  {
   "cell_type": "code",
   "execution_count": 20,
   "metadata": {},
   "outputs": [
    {
     "name": "stdout",
     "output_type": "stream",
     "text": [
      "{'a': 1}\n",
      "{'a': 1, 'b': 2, 'c': 3}\n"
     ]
    }
   ],
   "source": [
    "def func(**args):\n",
    "    print(args)\n",
    "\n",
    "func(a = 1)\n",
    "func(a = 1, b = 2, c = 3)"
   ]
  },
  {
   "cell_type": "code",
   "execution_count": 21,
   "metadata": {},
   "outputs": [
    {
     "name": "stdout",
     "output_type": "stream",
     "text": [
      "(1, 2, 3) {'a': 1, 'b': 2, 'c': 3, 'd': 4}\n"
     ]
    }
   ],
   "source": [
    "# 현업에서 보이는 코드\n",
    "\n",
    "def func(*args, **args2):\n",
    "    print(args, args2) #def print(*args, *, /, **args):\n",
    "\n",
    "func(1, 2, 3, a = 1, b = 2, c = 3, d = 4)"
   ]
  },
  {
   "cell_type": "code",
   "execution_count": 23,
   "metadata": {},
   "outputs": [
    {
     "name": "stdout",
     "output_type": "stream",
     "text": [
      "{'a': 1, 'b': 2, 'c': 3}\n"
     ]
    },
    {
     "data": {
      "text/plain": [
       "'3.10.16 | packaged by conda-forge | (main, Dec  5 2024, 14:07:43) [MSC v.1942 64 bit (AMD64)]'"
      ]
     },
     "execution_count": 23,
     "metadata": {},
     "output_type": "execute_result"
    }
   ],
   "source": [
    "# OrderedDict\n",
    "# 파이썬 3.7 버전부터 딕셔너리 저장순서 유지\n",
    "\n",
    "d = {}\n",
    "d['a'] = 1 # 제일 먼저 저장\n",
    "d['b'] = 2 # 두 번째로 저장\n",
    "d['c'] = 3 # 마지막에 저장\n",
    "\n",
    "print(d)\n",
    "\n",
    "# 3.6 이전 버전\n",
    "# {'b' : 2, 'a' : 1, 'c' : 3} 순서 랜덤\n",
    "\n",
    "import sys # 파이썬 버전 확인\n",
    "sys.version"
   ]
  },
  {
   "cell_type": "code",
   "execution_count": 24,
   "metadata": {},
   "outputs": [
    {
     "name": "stdout",
     "output_type": "stream",
     "text": [
      "OrderedDict([('a', 1), ('b', 2), ('c', 3)])\n",
      "('a', 1)\n",
      "('b', 2)\n",
      "('c', 3)\n"
     ]
    },
    {
     "data": {
      "text/plain": [
       "('c', 3)"
      ]
     },
     "execution_count": 24,
     "metadata": {},
     "output_type": "execute_result"
    }
   ],
   "source": [
    "# 3.6 버전 이전에 딕셔너리 정렬해서 출력하는 법.\n",
    "\n",
    "from collections import OrderedDict # collections 모듈의 OrderedDict\n",
    "\n",
    "od = OrderedDict() # OrderedDict 객체 생성\n",
    "\n",
    "od['a'] = 1 # 딕셔너리 사용 방법과 동일\n",
    "od['b'] = 2\n",
    "od['c'] = 3\n",
    "print(od)\n",
    "\n",
    "# OrderedDict([('a',1),('b',2),('c',3)])\n",
    "\n",
    "for kv in od.items(): # 딕셔너리와 마찬가지로 items 메소드 호출 가능\n",
    "    print(kv)\n",
    "\n",
    "# 출력\n",
    "# ('a', 1)\n",
    "# ('b', 2)\n",
    "# ('c', 3)"
   ]
  },
  {
   "cell_type": "code",
   "execution_count": 25,
   "metadata": {},
   "outputs": [
    {
     "name": "stdout",
     "output_type": "stream",
     "text": [
      "{'a': 1, 'b': 2, 'c': 3}\n",
      "{'c': 3, 'a': 1, 'b': 2}\n",
      "True\n"
     ]
    }
   ],
   "source": [
    "d1 = dict(a = 1, b = 2, c = 3)\n",
    "d2 = dict(c = 3, a = 1, b = 2)\n",
    "\n",
    "print(d1)\n",
    "print(d2)\n",
    "\n",
    "print(d1 == d2)"
   ]
  },
  {
   "cell_type": "code",
   "execution_count": 26,
   "metadata": {},
   "outputs": [
    {
     "name": "stdout",
     "output_type": "stream",
     "text": [
      "OrderedDict([('a', 1), ('b', 2), ('c', 3)])\n",
      "OrderedDict([('c', 3), ('a', 1), ('b', 2)])\n",
      "False\n"
     ]
    }
   ],
   "source": [
    "from collections import OrderedDict\n",
    "\n",
    "od1 = OrderedDict(a = 1, b = 2, c = 3) # 클래스\n",
    "od2 = OrderedDict(c = 3, a = 1, b = 2)\n",
    "\n",
    "print(od1)\n",
    "print(od2)\n",
    "\n",
    "print(od1 == od2)"
   ]
  }
 ],
 "metadata": {
  "kernelspec": {
   "display_name": "env_django",
   "language": "python",
   "name": "python3"
  },
  "language_info": {
   "codemirror_mode": {
    "name": "ipython",
    "version": 3
   },
   "file_extension": ".py",
   "mimetype": "text/x-python",
   "name": "python",
   "nbconvert_exporter": "python",
   "pygments_lexer": "ipython3",
   "version": "3.10.16"
  }
 },
 "nbformat": 4,
 "nbformat_minor": 2
}
