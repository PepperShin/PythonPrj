{
 "cells": [
  {
   "cell_type": "code",
   "execution_count": 1,
   "metadata": {},
   "outputs": [
    {
     "name": "stdout",
     "output_type": "stream",
     "text": [
      "<class 'dict'>\n",
      "{'코카콜라': 900, '바나나우유': 750, '비타500': 600, '삼다수': 400}\n"
     ]
    }
   ],
   "source": [
    "#딕셔너리 CRUD\n",
    "\n",
    "dc = {\n",
    "    \"코카콜라\" : 900,\n",
    "    \"바나나우유\" : 750,\n",
    "    \"비타500\" : 600,\n",
    "    \"삼다수\" : 400\n",
    "}\n",
    "\n",
    "print(type(dc))\n",
    "print(dc)"
   ]
  },
  {
   "cell_type": "code",
   "execution_count": null,
   "metadata": {},
   "outputs": [],
   "source": [
    "dc_student = {\n",
    "    1 : \"홍길동\",\n",
    "    2 : \"박길동\",\n",
    "    3 : \"김길동\"\n",
    "}\n",
    "\n",
    "print(type(dc_student))\n",
    "print(dc_student)"
   ]
  },
  {
   "cell_type": "code",
   "execution_count": 2,
   "metadata": {},
   "outputs": [
    {
     "name": "stdout",
     "output_type": "stream",
     "text": [
      "{'이름': '이순둥', '나이': 19, '직업': '학생', '키': 175.8}\n"
     ]
    }
   ],
   "source": [
    "dc = {\n",
    "    \"이름\" : '이순둥',\n",
    "    \"나이\" : 19,\n",
    "    '직업' : '학생',\n",
    "    '키' : 175.8\n",
    "}\n",
    "\n",
    "print(dc)"
   ]
  },
  {
   "cell_type": "code",
   "execution_count": 3,
   "metadata": {},
   "outputs": [
    {
     "name": "stdout",
     "output_type": "stream",
     "text": [
      "<class 'dict'>\n",
      "{1: '홍길동', 2: '홍길동', 3: '홍길동'}\n"
     ]
    }
   ],
   "source": [
    "dc_student = {\n",
    "    1 : \"홍길동\",\n",
    "    2 : \"홍길동\",\n",
    "    3 : \"홍길동\"\n",
    "}\n",
    "\n",
    "print(type(dc_student))\n",
    "print(dc_student)"
   ]
  },
  {
   "cell_type": "code",
   "execution_count": 4,
   "metadata": {},
   "outputs": [
    {
     "name": "stdout",
     "output_type": "stream",
     "text": [
      "<class 'dict'>\n",
      "{'이순둥': 24}\n"
     ]
    }
   ],
   "source": [
    "dc_student = {\n",
    "    '이순둥' : 22,\n",
    "    '이순둥' : 23,\n",
    "    '이순둥' : 24\n",
    "}\n",
    "\n",
    "print(type(dc_student))\n",
    "print(dc_student)"
   ]
  },
  {
   "cell_type": "code",
   "execution_count": 5,
   "metadata": {},
   "outputs": [
    {
     "name": "stdout",
     "output_type": "stream",
     "text": [
      "400\n"
     ]
    }
   ],
   "source": [
    "dc = {\n",
    "    \"코카콜라\" : 900,\n",
    "    \"바나나우유\" : 750,\n",
    "    \"비타500\" : 600,\n",
    "    \"삼다수\" : 400\n",
    "}\n",
    "\n",
    "val = dc[\"삼다수\"]\n",
    "print(val)"
   ]
  },
  {
   "cell_type": "code",
   "execution_count": 6,
   "metadata": {},
   "outputs": [
    {
     "name": "stdout",
     "output_type": "stream",
     "text": [
      "600\n"
     ]
    }
   ],
   "source": [
    "dc = {\n",
    "    \"코카콜라\" : 900,\n",
    "    \"바나나우유\" : 750,\n",
    "    \"비타500\" : 600,\n",
    "    \"삼다수\" : 400\n",
    "}\n",
    "\n",
    "val = dc[\"비타500\"]\n",
    "print(val)"
   ]
  },
  {
   "cell_type": "code",
   "execution_count": 8,
   "metadata": {},
   "outputs": [
    {
     "name": "stdout",
     "output_type": "stream",
     "text": [
      "{'코카콜라': 800, '바나나우유': 750, '비타500': 600, '삼다수': 550}\n"
     ]
    }
   ],
   "source": [
    "dc = {\n",
    "    \"코카콜라\" : 900,\n",
    "    \"바나나우유\" : 750,\n",
    "    \"비타500\" : 600,\n",
    "    \"삼다수\" : 400\n",
    "}\n",
    "\n",
    "dc['삼다수'] = 550\n",
    "dc['코카콜라'] = 800\n",
    "print(dc)"
   ]
  },
  {
   "cell_type": "code",
   "execution_count": 10,
   "metadata": {},
   "outputs": [
    {
     "name": "stdout",
     "output_type": "stream",
     "text": [
      "{'코카콜라': 900, '바나나우유': 750, '비타500': 600, '삼다수': 400, '카페라떼': 1000, '사이다': 1200}\n"
     ]
    }
   ],
   "source": [
    "dc = {\n",
    "    \"코카콜라\" : 900,\n",
    "    \"바나나우유\" : 750,\n",
    "    \"비타500\" : 600,\n",
    "    \"삼다수\" : 400\n",
    "}\n",
    "\n",
    "dc['카페라떼'] = 1000\n",
    "dc['사이다'] = 1200\n",
    "print(dc)"
   ]
  },
  {
   "cell_type": "code",
   "execution_count": 11,
   "metadata": {},
   "outputs": [
    {
     "name": "stdout",
     "output_type": "stream",
     "text": [
      "{'코카콜라': 900, '바나나우유': 750, '삼다수': 400}\n"
     ]
    }
   ],
   "source": [
    "dc = {\n",
    "    \"코카콜라\" : 900,\n",
    "    \"바나나우유\" : 750,\n",
    "    \"비타500\" : 600,\n",
    "    \"삼다수\" : 400\n",
    "}\n",
    "\n",
    "del dc['비타500']\n",
    "print(dc)"
   ]
  },
  {
   "cell_type": "code",
   "execution_count": 12,
   "metadata": {},
   "outputs": [
    {
     "name": "stdout",
     "output_type": "stream",
     "text": [
      "{'코카콜라': 950, '바나나우유': 750, '비타500': 600, '삼다수': 400, '카페라떼': 1000}\n"
     ]
    }
   ],
   "source": [
    "dc = {\n",
    "    \"코카콜라\" : 900,\n",
    "    \"바나나우유\" : 750,\n",
    "    \"비타500\" : 600,\n",
    "    \"삼다수\" : 400\n",
    "}\n",
    "\n",
    "if '코카콜라' in dc: # 이때의 in 연산자는 값을 체크하는게 아닌 key를 체크한다.\n",
    "    dc['코카콜라'] = 950\n",
    "\n",
    "if '카페라떼' not in dc:\n",
    "    dc['카페라떼'] = 1000\n",
    "\n",
    "print(dc)\n"
   ]
  },
  {
   "cell_type": "code",
   "execution_count": 13,
   "metadata": {},
   "outputs": [
    {
     "name": "stdout",
     "output_type": "stream",
     "text": [
      "코카콜라 900\n",
      "바나나우유 750\n",
      "비타500 600\n",
      "삼다수 400\n"
     ]
    }
   ],
   "source": [
    "dc = {\n",
    "    \"코카콜라\" : 900,\n",
    "    \"바나나우유\" : 750,\n",
    "    \"비타500\" : 600,\n",
    "    \"삼다수\" : 400\n",
    "}\n",
    "\n",
    "for i in dc:\n",
    "    print(i, dc[i])"
   ]
  },
  {
   "cell_type": "code",
   "execution_count": 14,
   "metadata": {},
   "outputs": [
    {
     "name": "stdout",
     "output_type": "stream",
     "text": [
      "코카콜라 1000\n",
      "바나나우유 850\n",
      "비타500 700\n",
      "삼다수 500\n"
     ]
    }
   ],
   "source": [
    "# dc에 모든 물품에 100원을 더하시오\n",
    "dc = {\n",
    "    \"코카콜라\" : 900,\n",
    "    \"바나나우유\" : 750,\n",
    "    \"비타500\" : 600,\n",
    "    \"삼다수\" : 400\n",
    "}\n",
    "\n",
    "for i in dc:\n",
    "    dc[i] = dc[i] + 100\n",
    "    print(i, dc[i])"
   ]
  },
  {
   "cell_type": "code",
   "execution_count": 15,
   "metadata": {},
   "outputs": [
    {
     "name": "stdout",
     "output_type": "stream",
     "text": [
      "코카콜라 900\n",
      "바나나우유 750\n",
      "비타500 600\n",
      "삼다수 400\n"
     ]
    }
   ],
   "source": [
    "dc = {\n",
    "    \"코카콜라\" : 900,\n",
    "    \"바나나우유\" : 750,\n",
    "    \"비타500\" : 600,\n",
    "    \"삼다수\" : 400\n",
    "}\n",
    "\n",
    "for key, value in dc.items(): # dc.items()는 리턴값이 두개이다.\n",
    "    print(key, value)"
   ]
  },
  {
   "cell_type": "code",
   "execution_count": 16,
   "metadata": {},
   "outputs": [
    {
     "name": "stdout",
     "output_type": "stream",
     "text": [
      "2650\n"
     ]
    }
   ],
   "source": [
    "dc = {\n",
    "    \"코카콜라\" : 900,\n",
    "    \"바나나우유\" : 750,\n",
    "    \"비타500\" : 600,\n",
    "    \"삼다수\" : 400\n",
    "}\n",
    "\n",
    "sum = 0\n",
    "\n",
    "for value in dc.values():\n",
    "    sum += value\n",
    "\n",
    "print(sum)"
   ]
  }
 ],
 "metadata": {
  "kernelspec": {
   "display_name": "env_django",
   "language": "python",
   "name": "python3"
  },
  "language_info": {
   "codemirror_mode": {
    "name": "ipython",
    "version": 3
   },
   "file_extension": ".py",
   "mimetype": "text/x-python",
   "name": "python",
   "nbconvert_exporter": "python",
   "pygments_lexer": "ipython3",
   "version": "3.10.16"
  }
 },
 "nbformat": 4,
 "nbformat_minor": 2
}
