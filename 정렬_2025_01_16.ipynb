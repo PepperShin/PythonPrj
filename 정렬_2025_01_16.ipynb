{
 "cells": [
  {
   "cell_type": "code",
   "execution_count": 5,
   "metadata": {},
   "outputs": [
    {
     "name": "stdout",
     "output_type": "stream",
     "text": [
      "[1, 2, 3, 4, 5]\n",
      "[5, 4, 3, 2, 1]\n"
     ]
    }
   ],
   "source": [
    "# 정렬 = sort, sorted, key\n",
    "\n",
    "# sort() : 원본 정렬\n",
    "ns = [3, 1, 4, 5, 2]\n",
    "ns.sort() # 오름차순 정렬\n",
    "print(ns)\n",
    "\n",
    "ns = [3, 1, 4, 5, 2]\n",
    "ns.sort(reverse=True) # 내림차순 정렬\n",
    "print(ns)"
   ]
  },
  {
   "cell_type": "code",
   "execution_count": 4,
   "metadata": {},
   "outputs": [
    {
     "name": "stdout",
     "output_type": "stream",
     "text": [
      "[('Lee', 33), ('Park', 29), ('Yoon', 12)]\n",
      "[('Yoon', 12), ('Park', 29), ('Lee', 33)]\n",
      "[('Yoon', 12), ('Park', 29), ('Lee', 33)]\n",
      "[('Lee', 33), ('Park', 29), ('Yoon', 12)]\n"
     ]
    }
   ],
   "source": [
    "# 리스트 안의 튜플의 첫번째 요소로 정렬한다.\n",
    "\n",
    "ns = [('Yoon', 12), ('Lee', 33), ('Park', 29)]\n",
    "ns.sort()\n",
    "print(ns)\n",
    "\n",
    "ns = [('Yoon', 12), ('Lee', 33), ('Park', 29)]\n",
    "ns.sort(reverse=True)\n",
    "print(ns)\n",
    "\n",
    "# 나이를 기준으로 정렬하고 싶을 때\n",
    "ns = [('Yoon', 12), ('Lee', 33), ('Park', 29)]\n",
    "\n",
    "def age(t): # 튜플의 두번째 요소 리턴\n",
    "    return t[1]\n",
    "\n",
    "# 이터러블인 ns의 각 요소를 key 함수에 전달하여 리턴된 값을 기준으로 요소들을 정렬.\n",
    "ns.sort(key=age) # key에 함수를 전달하면 그 함수의 리턴값을 기준으로 정렬(콜백함수)\n",
    "print(ns)\n",
    "\n",
    "ns.sort(key = age, reverse=True)\n",
    "print(ns)\n",
    "\n"
   ]
  },
  {
   "cell_type": "code",
   "execution_count": 6,
   "metadata": {},
   "outputs": [
    {
     "name": "stdout",
     "output_type": "stream",
     "text": [
      "[('Yoon', 12), ('Park', 29), ('Lee', 33)]\n"
     ]
    }
   ],
   "source": [
    "ns = [('Yoon', 12), ('Lee', 33), ('Park', 29)]\n",
    "ns.sort(key=lambda t: t[1]) # lambda 함수로 표현\n",
    "print(ns)"
   ]
  },
  {
   "cell_type": "code",
   "execution_count": 8,
   "metadata": {},
   "outputs": [
    {
     "name": "stdout",
     "output_type": "stream",
     "text": [
      "['s', 'sadfo', 'osdjhgofawadg']\n"
     ]
    }
   ],
   "source": [
    "names = ['osdjhgofawadg', 'sadfo', 's']\n",
    "names.sort(key = lambda x: len(x)) # 람다 안쓰고 names.sort(key = len) 가능\n",
    "print(names)"
   ]
  },
  {
   "cell_type": "code",
   "execution_count": 10,
   "metadata": {},
   "outputs": [
    {
     "name": "stdout",
     "output_type": "stream",
     "text": [
      "[(2, 9), (0, 5), (3, 1)]\n"
     ]
    }
   ],
   "source": [
    "# 튜플의 합을 기준으로 정렬해보자\n",
    "\n",
    "nums = [(3, 1), (2, 9), (0, 5)] # 두 수의 합은 각각 4, 11 ,5이다\n",
    "\n",
    "nums.sort(key = lambda x : x[0] + x[1], reverse=True)\n",
    "\n",
    "print(nums)"
   ]
  },
  {
   "cell_type": "code",
   "execution_count": 11,
   "metadata": {},
   "outputs": [
    {
     "name": "stdout",
     "output_type": "stream",
     "text": [
      "['bac', 'abc', 'bca']\n"
     ]
    }
   ],
   "source": [
    "arr = ['abc', 'bac', 'bca']\n",
    "# 두번째 글자를 기준으로 정렬하라\n",
    "\n",
    "arr.sort(key = lambda x : x[1])\n",
    "\n",
    "print(arr)"
   ]
  }
 ],
 "metadata": {
  "kernelspec": {
   "display_name": "env_django",
   "language": "python",
   "name": "python3"
  },
  "language_info": {
   "codemirror_mode": {
    "name": "ipython",
    "version": 3
   },
   "file_extension": ".py",
   "mimetype": "text/x-python",
   "name": "python",
   "nbconvert_exporter": "python",
   "pygments_lexer": "ipython3",
   "version": "3.10.16"
  }
 },
 "nbformat": 4,
 "nbformat_minor": 2
}
