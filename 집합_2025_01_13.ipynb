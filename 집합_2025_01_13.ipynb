{
 "cells": [
  {
   "cell_type": "code",
   "execution_count": 3,
   "metadata": {},
   "outputs": [
    {
     "name": "stdout",
     "output_type": "stream",
     "text": [
      "{1, 2, 3, 4, 5}\n",
      "{'l', 'e', 'H', 'o'}\n",
      "{1, 3, 5, 6, 7, 8, 9}\n"
     ]
    }
   ],
   "source": [
    "# set의 이해\n",
    "\n",
    "s1 = {1, 2, 2, 3, 3, 4, 5} # 딕셔너리와 비슷하나 key가 없으면 set으로 인식한다.\n",
    "print(s1)\n",
    "\n",
    "s2 = set(\"Hello\")\n",
    "print(s2)\n",
    "\n",
    "s3 = set([1, 3, 3, 5, 6, 6, 7, 8, 8, 8, 8, 9])\n",
    "print(s3)"
   ]
  },
  {
   "cell_type": "code",
   "execution_count": 4,
   "metadata": {},
   "outputs": [
    {
     "name": "stdout",
     "output_type": "stream",
     "text": [
      "{4, 5, 6}\n",
      "{1, 2, 3, 4, 5, 6, 7, 8, 9}\n",
      "{1, 2, 3}\n"
     ]
    }
   ],
   "source": [
    "# set의 교집합, 합집합, 차집합\n",
    "\n",
    "s1 = set([1,2,3,4,5,6])\n",
    "s2 = set([4,5,6,7,8,9])\n",
    "\n",
    "s3 = s1 & s2 # 교집합\n",
    "print(s3)\n",
    "\n",
    "s4 = s1 | s2 # 합집합\n",
    "print(s4)\n",
    "\n",
    "s5 = s1 - s2 # 차집합\n",
    "print(s5)"
   ]
  },
  {
   "cell_type": "code",
   "execution_count": 8,
   "metadata": {},
   "outputs": [
    {
     "name": "stdout",
     "output_type": "stream",
     "text": [
      "{1, 2, 3, 4}\n",
      "{1, 2, 3, 4, 5, 6, 7}\n",
      "{1, 2, 3, 4, 5, 6}\n",
      "{1, 2, 4, 5, 6}\n"
     ]
    }
   ],
   "source": [
    "# set에 값 추가하기\n",
    "\n",
    "s1 = set([1,2,3])\n",
    "s1.add(4)\n",
    "print(s1)\n",
    "\n",
    "s1.update([5,6,7])\n",
    "print(s1)\n",
    "\n",
    "s1.remove(7)\n",
    "print(s1)\n",
    "\n",
    "s1.discard(3)\n",
    "print(s1)\n"
   ]
  },
  {
   "cell_type": "code",
   "execution_count": 9,
   "metadata": {},
   "outputs": [
    {
     "name": "stdout",
     "output_type": "stream",
     "text": [
      "{1, 2, 36, 9, 45, 16}\n"
     ]
    }
   ],
   "source": [
    "import random\n",
    "\n",
    "lotto = set()\n",
    "\n",
    "while len(lotto) < 6:\n",
    "    num = random.randint(1, 45)\n",
    "    lotto.add(num)\n",
    "\n",
    "print(lotto)"
   ]
  },
  {
   "cell_type": "code",
   "execution_count": 9,
   "metadata": {},
   "outputs": [
    {
     "name": "stdout",
     "output_type": "stream",
     "text": [
      "frozenset({'d', 'c', 'a', 'f'})\n",
      "frozenset({'d', 'a', 'b', 'e'})\n",
      "frozenset({'c', 'f'})\n",
      "frozenset({'d', 'f', 'e', 'b', 'c', 'a'})\n",
      "False\n",
      "True\n",
      "d a \n",
      "['z', 3, 7]\n"
     ]
    }
   ],
   "source": [
    "# 프로즌셋의 연산\n",
    "\n",
    "a = frozenset('acdf')\n",
    "b = frozenset('abde')\n",
    "\n",
    "print(a)\n",
    "print(b)\n",
    "\n",
    "print(a - b)\n",
    "\n",
    "print(a | b)\n",
    "\n",
    "print(a == b)\n",
    "\n",
    "print('a' in a)\n",
    "\n",
    "for c in a & b:\n",
    "    print(c, end=' ')\n",
    "\n",
    "print()\n",
    "\n",
    "# set의 기본적인 활용\n",
    "t = [3, 3, 3, 7, 7, 'z', 'z']\n",
    "t = list(set(t))\n",
    "print(t)"
   ]
  },
  {
   "cell_type": "code",
   "execution_count": 11,
   "metadata": {},
   "outputs": [
    {
     "name": "stdout",
     "output_type": "stream",
     "text": [
      "{1, 2, 3, 5, 6}\n",
      "{1, 2, 3, 5, 6}\n",
      "frozenset({1, 2, 3, 5})\n"
     ]
    }
   ],
   "source": [
    "# set과 frozenset 차이\n",
    "# set은 뮤터블 객체(수정 가능) 이고 frozenset은 이뮤터블 객체(수정 불가능)이다.\n",
    "\n",
    "os = {1, 2, 3, 5, 5}\n",
    "\n",
    "os.add(6)\n",
    "print(os)\n",
    "\n",
    "# os.remove(7) 얘는 에러가 난다. 왜냐하면 7이 없기 때문이다.\n",
    "os.discard(7) # 이건 7이 없어도 에러가 나지 않는다.\n",
    "\n",
    "print(os)\n",
    "\n",
    "frozen_set = frozenset({1, 2, 3, 5, 5})\n",
    "print(frozen_set)\n",
    "\n",
    "# frozen_set.add(6) 에러 발생\n",
    "# frozen_set.remove(7) 에러 발생\n",
    "# frozen_set.discard(7) 에러 발생"
   ]
  }
 ],
 "metadata": {
  "kernelspec": {
   "display_name": "env_django",
   "language": "python",
   "name": "python3"
  },
  "language_info": {
   "codemirror_mode": {
    "name": "ipython",
    "version": 3
   },
   "file_extension": ".py",
   "mimetype": "text/x-python",
   "name": "python",
   "nbconvert_exporter": "python",
   "pygments_lexer": "ipython3",
   "version": "3.10.16"
  }
 },
 "nbformat": 4,
 "nbformat_minor": 2
}
