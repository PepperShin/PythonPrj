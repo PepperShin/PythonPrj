{
 "cells": [
  {
   "cell_type": "code",
   "execution_count": 4,
   "metadata": {},
   "outputs": [
    {
     "name": "stdout",
     "output_type": "stream",
     "text": [
      "1\n",
      "2\n",
      "3\n",
      "<class 'list_iterator'>\n",
      "1\n",
      "2\n",
      "3\n"
     ]
    },
    {
     "ename": "StopIteration",
     "evalue": "",
     "output_type": "error",
     "traceback": [
      "\u001b[1;31m---------------------------------------------------------------------------\u001b[0m",
      "\u001b[1;31mStopIteration\u001b[0m                             Traceback (most recent call last)",
      "Cell \u001b[1;32mIn[4], line 18\u001b[0m\n\u001b[0;32m     16\u001b[0m \u001b[38;5;28mprint\u001b[39m(sample\u001b[38;5;241m.\u001b[39m\u001b[38;5;21m__next__\u001b[39m())\n\u001b[0;32m     17\u001b[0m \u001b[38;5;28mprint\u001b[39m(sample\u001b[38;5;241m.\u001b[39m\u001b[38;5;21m__next__\u001b[39m())\n\u001b[1;32m---> 18\u001b[0m \u001b[38;5;28mprint\u001b[39m(\u001b[43msample\u001b[49m\u001b[38;5;241;43m.\u001b[39;49m\u001b[38;5;21;43m__next__\u001b[39;49m\u001b[43m(\u001b[49m\u001b[43m)\u001b[49m) \u001b[38;5;66;03m# StopIteration\u001b[39;00m\n",
      "\u001b[1;31mStopIteration\u001b[0m: "
     ]
    }
   ],
   "source": [
    "# 이터러블 과 이터레이터\n",
    "\n",
    "sample = [1, 2, 3]\n",
    "\n",
    "for num in sample: # 리스트 , 튜플 , 문자열 , 딕셔너리 , 집합 등 이터러블 객체.\n",
    "    print(num) # 1, 2, 3\n",
    "\n",
    "# sample.__next__() # __next__() 먹히면 이터레이터, 안먹히면 이터러블\n",
    "\n",
    "# 이터레이터 객체로 만들기\n",
    "sample = [1, 2, 3].__iter__()\n",
    "\n",
    "print(type((sample))) # <class 'list_iterator'>\n",
    "\n",
    "print(sample.__next__())\n",
    "print(sample.__next__())\n",
    "print(sample.__next__())\n",
    "print(sample.__next__()) # StopIteration"
   ]
  },
  {
   "cell_type": "code",
   "execution_count": 5,
   "metadata": {},
   "outputs": [
    {
     "ename": "TypeError",
     "evalue": "'int' object is not iterable",
     "output_type": "error",
     "traceback": [
      "\u001b[1;31m---------------------------------------------------------------------------\u001b[0m",
      "\u001b[1;31mTypeError\u001b[0m                                 Traceback (most recent call last)",
      "Cell \u001b[1;32mIn[5], line 3\u001b[0m\n\u001b[0;32m      1\u001b[0m sample \u001b[38;5;241m=\u001b[39m [\u001b[38;5;241m1\u001b[39m, \u001b[38;5;241m2\u001b[39m, \u001b[38;5;241m3\u001b[39m]\n\u001b[1;32m----> 3\u001b[0m \u001b[38;5;28;01mfor\u001b[39;00m num \u001b[38;5;129;01min\u001b[39;00m sample\u001b[38;5;241m.\u001b[39m\u001b[38;5;21m__iter__\u001b[39m()\u001b[38;5;241m.\u001b[39m\u001b[38;5;21m__next__\u001b[39m():\n\u001b[0;32m      4\u001b[0m     \u001b[38;5;28mprint\u001b[39m(num)\n",
      "\u001b[1;31mTypeError\u001b[0m: 'int' object is not iterable"
     ]
    }
   ],
   "source": [
    "sample = [1, 2, 3]\n",
    "\n",
    "for num in sample: # -> sample.__iter__().__next__() 이런 식으로 변환한다. StopIteration 에러가 나면 멈춘다. __iter__() 안에 __next__() 가 존재한다.\n",
    "    print(num)"
   ]
  },
  {
   "cell_type": "code",
   "execution_count": 7,
   "metadata": {},
   "outputs": [
    {
     "name": "stdout",
     "output_type": "stream",
     "text": [
      "0 1 2 "
     ]
    }
   ],
   "source": [
    "# iterator 객체를 직접 만들어 보기 \n",
    "\n",
    "class Counter:\n",
    "    def __init__(self, stop):\n",
    "        self.current = 0 # 현재 숫자 유지. 0부터 지정된 숫자 직전까지 반복\n",
    "        self.stop = stop # 반복을 끝낼 숫자\n",
    "    \n",
    "    def __iter__(self): # 이터레이터 객체로 만들어주는 메서드. 정해져있는 코드\n",
    "        return self # 현재 인스턴스를 반환\n",
    "    \n",
    "    def __next__(self):\n",
    "        if self.current < self.stop:    # 현재 숫자가 반복을 끝낼 숫자보다 작을 때\n",
    "            r = self.current            # 반환할 숫자를 변수에 저장\n",
    "            self.current += 1           # 현재 숫자를 1 증가시킴\n",
    "            return r                    # 숫자를 반환\n",
    "        else:                           # 현재 숫자가 반복을 끝낼 숫자보다 크거나 같을 때\n",
    "            raise StopIteration         # 예외 발생\n",
    "        \n",
    "\n",
    "counter = Counter(10)\n",
    "\n",
    "for i in Counter(3): # counter 넣어도 된다. 애초에 객체 주소 넣어주는거. 여기서 __iter__과 __next__가 실행된다.\n",
    "    print(i, end=' ') # 0 1 2"
   ]
  }
 ],
 "metadata": {
  "kernelspec": {
   "display_name": "env_django",
   "language": "python",
   "name": "python3"
  },
  "language_info": {
   "codemirror_mode": {
    "name": "ipython",
    "version": 3
   },
   "file_extension": ".py",
   "mimetype": "text/x-python",
   "name": "python",
   "nbconvert_exporter": "python",
   "pygments_lexer": "ipython3",
   "version": "3.10.16"
  }
 },
 "nbformat": 4,
 "nbformat_minor": 2
}
