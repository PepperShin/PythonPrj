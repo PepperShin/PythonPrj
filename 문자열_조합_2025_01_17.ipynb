{
 "cells": [
  {
   "cell_type": "code",
   "execution_count": 5,
   "metadata": {},
   "outputs": [
    {
     "name": "stdout",
     "output_type": "stream",
     "text": [
      "이름 : 홍길동 나이 : 22 \n",
      "이름 : 홍길순 나이 : 23 \n",
      "이름 : 홍길동 나이 : 22\n",
      "이름 : 홍길순 나이 : 23\n",
      "이름 : 홍길동 나이 : 22\n",
      "이름 : 홍길순 나이 : 23\n",
      "이름 : 홍길동 나이 : 22\n",
      "이름 : 홍길동 나이 : 22\n"
     ]
    }
   ],
   "source": [
    "# 문자열 조합\n",
    "\n",
    "user1 = '홍길동'\n",
    "age1 = 22\n",
    "\n",
    "user2 = '홍길순'\n",
    "age2 = 23\n",
    "\n",
    "# 표현식 기반\n",
    "print('이름 : %s 나이 : %d ' % (user1, age1)) # %s는 string, %d는 digit(정수), %f는 float(실수)\n",
    "print('이름 : %s 나이 : %d ' % (user2, age2))\n",
    "\n",
    "# format() 메서드 기반\n",
    "print('이름 : {} 나이 : {}' .format(user1, age1))\n",
    "print('이름 : {} 나이 : {}' .format(user2, age2))\n",
    "\n",
    "# f-string 기반 (python 3.6 이상)\n",
    "print(f'이름 : {user1} 나이 : {age1}')\n",
    "print(f'이름 : {user2} 나이 : {age2}')\n",
    "\n",
    "print(\"이름 : \" + user1 + \" 나이 : \" + str(age1)) # java 방식\n",
    "print(\"이름 :\", user1, \"나이 :\", age1) # 간단한 방식"
   ]
  },
  {
   "cell_type": "code",
   "execution_count": 6,
   "metadata": {},
   "outputs": [
    {
     "name": "stdout",
     "output_type": "stream",
     "text": [
      "0 홍길동\n",
      "1 김철수\n",
      "2 이영희\n",
      "3 박영수\n",
      "(0, '홍길동')\n",
      "(1, '김철수')\n",
      "(2, '이영희')\n",
      "(3, '박영수')\n"
     ]
    }
   ],
   "source": [
    "names = ['홍길동', '김철수', '이영희', '박영수']\n",
    "\n",
    "eo = enumerate(names) # 이터레이터 객체\n",
    "\n",
    "for i, name in eo:\n",
    "    print(i, name)\n",
    "\n",
    "eo = enumerate(names) # 이터레이터 객체는 한번 사용하면 다시 사용할 수 없다. 다시 사용하려면 다시 객체를 생성해야 한다.\n",
    "\n",
    "for n in eo:\n",
    "    print(n)"
   ]
  },
  {
   "cell_type": "code",
   "execution_count": 7,
   "metadata": {},
   "outputs": [
    {
     "name": "stdout",
     "output_type": "stream",
     "text": [
      "(0, '홍길동')\n",
      "(1, '김철수')\n",
      "(2, '이영희')\n",
      "(3, '박영수')\n",
      "{1: '김철수', 2: '박영수', 3: '이영희', 4: '홍길동'}\n"
     ]
    }
   ],
   "source": [
    "names = ['홍길동', '김철수', '이영희', '박영수']\n",
    "\n",
    "for n in enumerate(names):\n",
    "    print(n)\n",
    "\n",
    "dnames = {k : v for k, v in enumerate(sorted(names), 1)} # 컴프리헨션으로 1부터 시작하는 딕셔너리 생성\n",
    "print(dnames)"
   ]
  }
 ],
 "metadata": {
  "kernelspec": {
   "display_name": "env_django",
   "language": "python",
   "name": "python3"
  },
  "language_info": {
   "codemirror_mode": {
    "name": "ipython",
    "version": 3
   },
   "file_extension": ".py",
   "mimetype": "text/x-python",
   "name": "python",
   "nbconvert_exporter": "python",
   "pygments_lexer": "ipython3",
   "version": "3.10.16"
  }
 },
 "nbformat": 4,
 "nbformat_minor": 2
}
