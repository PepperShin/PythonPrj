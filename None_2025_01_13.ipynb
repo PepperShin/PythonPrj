{
 "cells": [
  {
   "cell_type": "code",
   "execution_count": 4,
   "metadata": {},
   "outputs": [
    {
     "name": "stdout",
     "output_type": "stream",
     "text": [
      "1\n",
      "None\n",
      "<class 'NoneType'>\n",
      "result is None\n"
     ]
    }
   ],
   "source": [
    "my_value = 1\n",
    "print(my_value)\n",
    "\n",
    "my_value = None\n",
    "print(my_value)\n",
    "print(type(my_value))\n",
    "\n",
    "def my_func():\n",
    "    pass\n",
    "\n",
    "result = my_func()\n",
    "\n",
    "if result is None:\n",
    "    print('result is None')"
   ]
  },
  {
   "cell_type": "code",
   "execution_count": 3,
   "metadata": {},
   "outputs": [
    {
     "name": "stdout",
     "output_type": "stream",
     "text": [
      "None\n"
     ]
    }
   ],
   "source": [
    "# 사전에서 특정 키가 정의되지 않았을 때\n",
    "\n",
    "my_dic = {\"name\" : \"john\"}\n",
    "\n",
    "if \"age\" not in my_dic:\n",
    "    age = None\n",
    "\n",
    "if my_dic.get(\"age\") == None: # get() 메소드를 사용하여 키가 없을 때 None을 반환\n",
    "    print(\"None\")\n",
    "else:\n",
    "    print(\"Not None\")"
   ]
  }
 ],
 "metadata": {
  "kernelspec": {
   "display_name": "env_django",
   "language": "python",
   "name": "python3"
  },
  "language_info": {
   "codemirror_mode": {
    "name": "ipython",
    "version": 3
   },
   "file_extension": ".py",
   "mimetype": "text/x-python",
   "name": "python",
   "nbconvert_exporter": "python",
   "pygments_lexer": "ipython3",
   "version": "3.10.16"
  }
 },
 "nbformat": 4,
 "nbformat_minor": 2
}
