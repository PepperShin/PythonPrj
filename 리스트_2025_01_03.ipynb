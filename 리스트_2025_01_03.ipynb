{
 "cells": [
  {
   "cell_type": "code",
   "execution_count": 62,
   "metadata": {},
   "outputs": [
    {
     "name": "stdout",
     "output_type": "stream",
     "text": [
      "1 2 3 "
     ]
    }
   ],
   "source": [
    "for i in [1, 2, 3]:\n",
    "    print(i, end = \" \")"
   ]
  },
  {
   "cell_type": "code",
   "execution_count": 63,
   "metadata": {},
   "outputs": [
    {
     "name": "stdout",
     "output_type": "stream",
     "text": [
      "<class 'list'>\n"
     ]
    },
    {
     "data": {
      "text/plain": [
       "[1, 2, [3, 4], ['hello', '3.14']]"
      ]
     },
     "execution_count": 63,
     "metadata": {},
     "output_type": "execute_result"
    }
   ],
   "source": [
    "type([1])\n",
    "\n",
    "print(type([1, 2, 3]))\n",
    "\n",
    "[1, \"hello\", 3.3]\n",
    "[1, 2, [3, 4], [\"hello\", \"3.14\"]]"
   ]
  },
  {
   "cell_type": "code",
   "execution_count": 64,
   "metadata": {},
   "outputs": [
    {
     "name": "stdout",
     "output_type": "stream",
     "text": [
      "[1, 2, 3, 4, 5]\n",
      "[1, 2, 3, 1, 2, 3]\n"
     ]
    }
   ],
   "source": [
    "print([1, 2, 3] + [4, 5])\n",
    "print([1, 2, 3] * 2)"
   ]
  },
  {
   "cell_type": "code",
   "execution_count": 65,
   "metadata": {},
   "outputs": [
    {
     "name": "stdout",
     "output_type": "stream",
     "text": [
      "5\n"
     ]
    }
   ],
   "source": [
    "st = [1, 2, 3, 4, 5]\n",
    "n1 = st[0]\n",
    "n2 = st[3]\n",
    "\n",
    "print(n1 + n2)"
   ]
  },
  {
   "cell_type": "code",
   "execution_count": 66,
   "metadata": {},
   "outputs": [
    {
     "name": "stdout",
     "output_type": "stream",
     "text": [
      "[0, 2, 3, 9, 5]\n"
     ]
    }
   ],
   "source": [
    "st = [1, 2, 3, 4, 5]\n",
    "\n",
    "st[3] = 9\n",
    "st[0] = 0\n",
    "\n",
    "print(st)"
   ]
  },
  {
   "cell_type": "code",
   "execution_count": 67,
   "metadata": {},
   "outputs": [
    {
     "name": "stdout",
     "output_type": "stream",
     "text": [
      "5 4 3\n"
     ]
    }
   ],
   "source": [
    "st = [1, 2, 3, 4, 5]\n",
    "\n",
    "print(st[-1], st[-2], st[-3])"
   ]
  },
  {
   "cell_type": "code",
   "execution_count": 68,
   "metadata": {},
   "outputs": [
    {
     "name": "stdout",
     "output_type": "stream",
     "text": [
      "[3, 4, 5]\n"
     ]
    }
   ],
   "source": [
    "#슬라이싱 연산\n",
    "\n",
    "st1 = [1, 2, 3, 4, 5, 6, 7, 8]\n",
    "st2 = st1[2 : 5]\n",
    "\n",
    "print(st2)"
   ]
  },
  {
   "cell_type": "code",
   "execution_count": 69,
   "metadata": {},
   "outputs": [
    {
     "name": "stdout",
     "output_type": "stream",
     "text": [
      "[1, 2, 0, 0, 0, 0, 0, 6, 7, 8]\n"
     ]
    }
   ],
   "source": [
    "st = [1, 2, 3, 4, 5, 6, 7, 8]\n",
    "st[2 : 5] = [0, 0, 0, 0, 0]\n",
    "\n",
    "print(st)"
   ]
  },
  {
   "cell_type": "code",
   "execution_count": 70,
   "metadata": {},
   "outputs": [
    {
     "name": "stdout",
     "output_type": "stream",
     "text": [
      "[0, 0, 0, 4, 5, 6, 7, 8]\n"
     ]
    }
   ],
   "source": [
    "st = [1, 2, 3, 4, 5, 6, 7, 8]\n",
    "st[:3] = [0, 0, 0]\n",
    "\n",
    "print(st)"
   ]
  },
  {
   "cell_type": "code",
   "execution_count": 71,
   "metadata": {},
   "outputs": [
    {
     "name": "stdout",
     "output_type": "stream",
     "text": [
      "[1, 2, 0, 0, 0]\n"
     ]
    }
   ],
   "source": [
    "st = [1, 2, 3, 4, 5, 6, 7, 8]\n",
    "st[2:] = [0, 0, 0]\n",
    "\n",
    "print(st)"
   ]
  },
  {
   "cell_type": "code",
   "execution_count": 72,
   "metadata": {},
   "outputs": [
    {
     "name": "stdout",
     "output_type": "stream",
     "text": [
      "[0, 0, 0]\n"
     ]
    }
   ],
   "source": [
    "st = [1, 2, 3, 4, 5, 6, 7, 8]\n",
    "st[:] = [0, 0, 0]\n",
    "\n",
    "print(st)"
   ]
  },
  {
   "cell_type": "code",
   "execution_count": 73,
   "metadata": {},
   "outputs": [
    {
     "name": "stdout",
     "output_type": "stream",
     "text": [
      "[]\n"
     ]
    }
   ],
   "source": [
    "st = [1, 2, 3, 4, 5, 6, 7, 8]\n",
    "st[:] = []\n",
    "\n",
    "print(st)"
   ]
  },
  {
   "cell_type": "code",
   "execution_count": 74,
   "metadata": {},
   "outputs": [
    {
     "name": "stdout",
     "output_type": "stream",
     "text": [
      "[1, 3, 5, 7, 9]\n"
     ]
    }
   ],
   "source": [
    "st = [1, 2, 3, 4, 5, 6, 7, 8, 9, 10, 11]\n",
    "st = st[0 : 10 : 2]\n",
    "\n",
    "print(st)"
   ]
  },
  {
   "cell_type": "code",
   "execution_count": 75,
   "metadata": {},
   "outputs": [
    {
     "data": {
      "text/plain": [
       "'Happy birthday to you Happy birthday to you Happy birthday to you '"
      ]
     },
     "execution_count": 75,
     "metadata": {},
     "output_type": "execute_result"
    }
   ],
   "source": [
    "#문자열(string)형 다루기\n",
    "\n",
    "\"hello\" + \" everybody\"\n",
    "\n",
    "'Happy birthday to you ' * 3"
   ]
  },
  {
   "cell_type": "code",
   "execution_count": 76,
   "metadata": {},
   "outputs": [
    {
     "ename": "TypeError",
     "evalue": "'str' object does not support item assignment",
     "output_type": "error",
     "traceback": [
      "\u001b[1;31m---------------------------------------------------------------------------\u001b[0m",
      "\u001b[1;31mTypeError\u001b[0m                                 Traceback (most recent call last)",
      "Cell \u001b[1;32mIn[76], line 2\u001b[0m\n\u001b[0;32m      1\u001b[0m name \u001b[38;5;241m=\u001b[39m \u001b[38;5;124m\"\u001b[39m\u001b[38;5;124m홍길동\u001b[39m\u001b[38;5;124m\"\u001b[39m\n\u001b[1;32m----> 2\u001b[0m \u001b[43mname\u001b[49m\u001b[43m[\u001b[49m\u001b[38;5;241;43m2\u001b[39;49m\u001b[43m]\u001b[49m \u001b[38;5;241m=\u001b[39m \u001b[38;5;124m\"\u001b[39m\u001b[38;5;124m순\u001b[39m\u001b[38;5;124m\"\u001b[39m\n",
      "\u001b[1;31mTypeError\u001b[0m: 'str' object does not support item assignment"
     ]
    }
   ],
   "source": [
    "name = \"홍길동\"\n",
    "name[2] = \"순\""
   ]
  },
  {
   "cell_type": "code",
   "execution_count": 28,
   "metadata": {},
   "outputs": [
    {
     "name": "stdout",
     "output_type": "stream",
     "text": [
      "Happy"
     ]
    }
   ],
   "source": [
    "for i in \"Happy\":\n",
    "    print(i, end =\"\")"
   ]
  },
  {
   "cell_type": "code",
   "execution_count": 30,
   "metadata": {},
   "outputs": [
    {
     "data": {
      "text/plain": [
       "5"
      ]
     },
     "execution_count": 30,
     "metadata": {},
     "output_type": "execute_result"
    }
   ],
   "source": [
    "st = [1, 2, 3, 4, 5]\n",
    "len(st)\n",
    "\n",
    "sr = \"Happy\"\n",
    "len(sr)"
   ]
  },
  {
   "cell_type": "code",
   "execution_count": 32,
   "metadata": {},
   "outputs": [
    {
     "name": "stdout",
     "output_type": "stream",
     "text": [
      "안녕하세요\n",
      "안녕히 가세요\n"
     ]
    }
   ],
   "source": [
    "def so_simple4(s):\n",
    "    print(s)\n",
    "    return \"안녕히 가세요\"\n",
    "\n",
    "r = so_simple4(\"안녕하세요\")\n",
    "\n",
    "print(r)"
   ]
  },
  {
   "cell_type": "code",
   "execution_count": 40,
   "metadata": {},
   "outputs": [
    {
     "name": "stdout",
     "output_type": "stream",
     "text": [
      "*\n",
      "**\n",
      "***\n",
      "****\n",
      "*****\n"
     ]
    }
   ],
   "source": [
    "'''\n",
    "for i in range(5):\n",
    "    print(\"*\" * (i + 1))\n",
    "    \n",
    "'''\n",
    "for i in range(1,6):\n",
    "    for j in range(i):\n",
    "        print(\"*\", end = \"\")\n",
    "    print()"
   ]
  },
  {
   "cell_type": "code",
   "execution_count": 37,
   "metadata": {},
   "outputs": [
    {
     "name": "stdout",
     "output_type": "stream",
     "text": [
      "*****\n",
      "*****\n",
      "*****\n",
      "*****\n",
      "*****\n"
     ]
    }
   ],
   "source": [
    "for i in range(5):\n",
    "    for j in range(5):\n",
    "        print(\"*\", end=\"\")\n",
    "    print()"
   ]
  },
  {
   "cell_type": "code",
   "execution_count": 44,
   "metadata": {},
   "outputs": [
    {
     "name": "stdout",
     "output_type": "stream",
     "text": [
      "*****\n",
      "****\n",
      "***\n",
      "**\n",
      "*\n"
     ]
    }
   ],
   "source": [
    "for i in range(1,6): #range(5, 0, -1) 하면 5에서 1까지 역순으로 내려간다\n",
    "    for j in range(6 - i):\n",
    "        print(\"*\", end=\"\")\n",
    "    print()"
   ]
  },
  {
   "cell_type": "code",
   "execution_count": 53,
   "metadata": {},
   "outputs": [
    {
     "name": "stdout",
     "output_type": "stream",
     "text": [
      "    *\n",
      "   **\n",
      "  ***\n",
      " ****\n",
      "*****\n"
     ]
    }
   ],
   "source": [
    "'''\n",
    "for i in range(1,6):\n",
    "    for j in range(5 - i):\n",
    "        print(\" \", end=\"\")\n",
    "    for j in range(i):\n",
    "        print(\"*\", end = \"\")\n",
    "    print()\n",
    "'''\n",
    "\n",
    "for i in range(1, 6):\n",
    "    print(\" \" * (5 - i) + \"*\" * i)\n"
   ]
  },
  {
   "cell_type": "code",
   "execution_count": 55,
   "metadata": {},
   "outputs": [
    {
     "name": "stdout",
     "output_type": "stream",
     "text": [
      "*****\n",
      " ****\n",
      "  ***\n",
      "   **\n",
      "    *\n"
     ]
    }
   ],
   "source": [
    "for i in range(5):\n",
    "    for j in range(i):\n",
    "        print(\" \", end = \"\")\n",
    "    for j in range(5-i):\n",
    "        print(\"*\", end=\"\")\n",
    "    print()"
   ]
  },
  {
   "cell_type": "code",
   "execution_count": null,
   "metadata": {},
   "outputs": [
    {
     "name": "stdout",
     "output_type": "stream",
     "text": [
      "\n",
      "*\n",
      "**\n",
      "***\n"
     ]
    }
   ],
   "source": [
    "num = input(\"몇층석탑?\")\n",
    "\n",
    "for i in range(1,int(num) + 1 ):\n",
    "    for j in range(i):\n",
    "        print(\"*\", end = \"\")\n",
    "    print()"
   ]
  },
  {
   "cell_type": "markdown",
   "metadata": {},
   "source": [
    "리스트 함수"
   ]
  },
  {
   "cell_type": "code",
   "execution_count": 3,
   "metadata": {},
   "outputs": [
    {
     "name": "stdout",
     "output_type": "stream",
     "text": [
      "5\n",
      "1\n",
      "9\n"
     ]
    }
   ],
   "source": [
    "st = [1, 3, 5, 7, 9]\n",
    "num = len(st)\n",
    "\n",
    "print(num)\n",
    "print(min(st))\n",
    "print(max(st))"
   ]
  },
  {
   "cell_type": "code",
   "execution_count": 11,
   "metadata": {},
   "outputs": [
    {
     "name": "stdout",
     "output_type": "stream",
     "text": [
      "[3, 5, 7, 9]\n",
      "[3, 5, 7, 9, 1]\n",
      "[3, 5, 7, 9, 1, 2, 4]\n",
      "[1, 3, 5, 7, 9, 1, 2, 4]\n",
      "[]\n"
     ]
    }
   ],
   "source": [
    "st = [1, 3, 5, 7, 9]\n",
    "st.remove(1)\n",
    "print(st)\n",
    "\n",
    "st.append(1)\n",
    "print(st)\n",
    "\n",
    "st.extend([2, 4])\n",
    "print(st)\n",
    "\n",
    "st.insert(0, 1)\n",
    "print(st)\n",
    "\n",
    "st.clear()\n",
    "print(st)"
   ]
  },
  {
   "cell_type": "code",
   "execution_count": 16,
   "metadata": {},
   "outputs": [
    {
     "name": "stdout",
     "output_type": "stream",
     "text": [
      "[1, 9]\n"
     ]
    }
   ],
   "source": [
    "st = []\n",
    "\n",
    "st.extend([1, 9])\n",
    "\n",
    "print(st)"
   ]
  },
  {
   "cell_type": "code",
   "execution_count": 18,
   "metadata": {},
   "outputs": [
    {
     "name": "stdout",
     "output_type": "stream",
     "text": [
      "1\n",
      "[2, 3, 4, 5]\n",
      "[2, 4, 5]\n"
     ]
    }
   ],
   "source": [
    "st = [1, 2, 3, 4, 5]\n",
    "\n",
    "print(st.pop(0))\n",
    "print(st)\n",
    "\n"
   ]
  },
  {
   "cell_type": "code",
   "execution_count": 1,
   "metadata": {},
   "outputs": [
    {
     "name": "stdout",
     "output_type": "stream",
     "text": [
      "2\n",
      "1\n",
      "2\n"
     ]
    }
   ],
   "source": [
    "st = [1, 2, 3, 1, 2]\n",
    "\n",
    "print(st.count(1))\n",
    "print(st.index(2))\n",
    "\n",
    "print(st[st.index(2)])"
   ]
  },
  {
   "cell_type": "code",
   "execution_count": 28,
   "metadata": {},
   "outputs": [
    {
     "name": "stdout",
     "output_type": "stream",
     "text": [
      "2\n",
      "2\n",
      "2\n",
      "4\n"
     ]
    }
   ],
   "source": [
    "st = \"HongGilDong\"\n",
    "\n",
    "print(st.count(\"o\"))\n",
    "print(\"HongGilDong\".count(\"o\"))\n",
    "\n",
    "print(st.count(\"ng\"))\n",
    "\n",
    "print(st.index(\"G\"))\n"
   ]
  },
  {
   "cell_type": "code",
   "execution_count": 30,
   "metadata": {},
   "outputs": [
    {
     "name": "stdout",
     "output_type": "stream",
     "text": [
      "kim\n",
      "KIM\n"
     ]
    }
   ],
   "source": [
    "org = \"Kim\"\n",
    "\n",
    "lcp = org.lower()\n",
    "ucp = org.upper()\n",
    "\n",
    "print(lcp)\n",
    "print(ucp)"
   ]
  },
  {
   "cell_type": "code",
   "execution_count": 32,
   "metadata": {},
   "outputs": [
    {
     "name": "stdout",
     "output_type": "stream",
     "text": [
      "MIDDLE\n",
      "MIDDLE \n",
      " MIDDLE\n"
     ]
    }
   ],
   "source": [
    "org = \" MIDDLE \"\n",
    "\n",
    "cp1 = org.strip()\n",
    "cp2 = org.lstrip()\n",
    "cp3 = org.rstrip()\n",
    "\n",
    "print(cp1)\n",
    "print(cp2)\n",
    "print(cp3)\n"
   ]
  },
  {
   "cell_type": "code",
   "execution_count": 35,
   "metadata": {},
   "outputs": [
    {
     "name": "stdout",
     "output_type": "stream",
     "text": [
      "Hooo\n",
      "Hooo\n"
     ]
    }
   ],
   "source": [
    "org = \"Heoo\"\n",
    "\n",
    "rps = org.replace(\"He\", \"Ho\")\n",
    "print(rps)\n",
    "\n",
    "rps = org.replace(\"e\", \"o\", 1) # 첫번째 e만 바꾼다.\n",
    "print(rps)"
   ]
  },
  {
   "cell_type": "code",
   "execution_count": 39,
   "metadata": {},
   "outputs": [
    {
     "name": "stdout",
     "output_type": "stream",
     "text": [
      "['ab', 'cd', 'ef']\n",
      "ab\n",
      "cd\n",
      "ef\n",
      "['020', '1234', '5678']\n"
     ]
    }
   ],
   "source": [
    "org = \"ab_cd_ef\"\n",
    "\n",
    "ret = org.split('_') # 글자를 자르는데 return 값이 list로 출력한다.\n",
    "print(ret)\n",
    "\n",
    "for string in ret:\n",
    "    print(string)\n",
    "\n",
    "\n",
    "tel = \"010-1234-5678\"\n",
    "\n",
    "ret = tel.split('-')\n",
    "print(ret)"
   ]
  },
  {
   "cell_type": "markdown",
   "metadata": {},
   "source": [
    "탐색 관련 함수들"
   ]
  },
  {
   "cell_type": "code",
   "execution_count": 43,
   "metadata": {},
   "outputs": [
    {
     "name": "stdout",
     "output_type": "stream",
     "text": [
      "5\n",
      "49\n"
     ]
    }
   ],
   "source": [
    "string = \"What is important is that you should choose what is best for you\"\n",
    "\n",
    "print(string.find(\"is\")) # is가 시작되는 index 값이 리턴된다.\n",
    "print(string.rfind(\"is\")) # 마지막 위치의 is의 index 값이 리턴된다.\n"
   ]
  },
  {
   "cell_type": "code",
   "execution_count": 44,
   "metadata": {},
   "outputs": [
    {
     "name": "stdout",
     "output_type": "stream",
     "text": [
      "escape \n",
      " characters\n"
     ]
    }
   ],
   "source": [
    "string = \"escape \\n characters\"\n",
    "\n",
    "print(string)"
   ]
  },
  {
   "cell_type": "code",
   "execution_count": 45,
   "metadata": {},
   "outputs": [
    {
     "name": "stdout",
     "output_type": "stream",
     "text": [
      "escape\tcharacters\n"
     ]
    }
   ],
   "source": [
    "string = \"escape\\tcharacters\"\n",
    "\n",
    "print(string)"
   ]
  },
  {
   "cell_type": "code",
   "execution_count": 46,
   "metadata": {},
   "outputs": [
    {
     "name": "stdout",
     "output_type": "stream",
     "text": [
      "escape 'characters\"\n"
     ]
    }
   ],
   "source": [
    "string = \"escape \\'characters\\\"\"\n",
    "\n",
    "print(string)"
   ]
  },
  {
   "cell_type": "code",
   "execution_count": 1,
   "metadata": {},
   "outputs": [
    {
     "name": "stdout",
     "output_type": "stream",
     "text": [
      "escape\tcharacters\n"
     ]
    }
   ],
   "source": [
    "string = \"escape\\tcharacters\"\n",
    "\n",
    "print(string)"
   ]
  },
  {
   "cell_type": "code",
   "execution_count": 47,
   "metadata": {},
   "outputs": [
    {
     "name": "stdout",
     "output_type": "stream",
     "text": [
      "abcd\n",
      "abcd\t"
     ]
    }
   ],
   "source": [
    "print(\"abcd\", end = \"\\n\")\n",
    "print(\"abcd\", end = \"\\t\")"
   ]
  },
  {
   "cell_type": "code",
   "execution_count": 52,
   "metadata": {},
   "outputs": [
    {
     "name": "stdout",
     "output_type": "stream",
     "text": [
      "[2, 3, 4, 5]\n",
      "[2, 4, 5]\n",
      "[]\n"
     ]
    }
   ],
   "source": [
    "st = [1, 2, 3, 4, 5]\n",
    "\n",
    "del st[0]\n",
    "print(st)\n",
    "\n",
    "del st[1:2]\n",
    "print(st)\n",
    "\n",
    "del st[:]\n",
    "print(st)"
   ]
  },
  {
   "cell_type": "markdown",
   "metadata": {},
   "source": [
    "리스트 컴프리 헨션"
   ]
  },
  {
   "cell_type": "code",
   "execution_count": 2,
   "metadata": {},
   "outputs": [
    {
     "name": "stdout",
     "output_type": "stream",
     "text": [
      "[0, 2, 4, 6, 8]\n"
     ]
    }
   ],
   "source": [
    "even_num =[]\n",
    "\n",
    "for i in range(10):\n",
    "    if i % 2 == 0:\n",
    "        even_num.append(i)\n",
    "\n",
    "print(even_num)"
   ]
  },
  {
   "cell_type": "code",
   "execution_count": 10,
   "metadata": {},
   "outputs": [
    {
     "name": "stdout",
     "output_type": "stream",
     "text": [
      "[0, 2, 4, 6, 8]\n"
     ]
    }
   ],
   "source": [
    "# 한줄로 표현하기\n",
    "even_num =[i for i in range(10) if i % 2 == 0]\n",
    "print(even_num)"
   ]
  },
  {
   "cell_type": "code",
   "execution_count": 1,
   "metadata": {},
   "outputs": [
    {
     "name": "stdout",
     "output_type": "stream",
     "text": [
      "[2, 4, 6, 8, 10]\n"
     ]
    }
   ],
   "source": [
    "r1 = [1, 2, 3, 4, 5]\n",
    "r2 = []\n",
    "\n",
    "for i in r1:\n",
    "    r2.append(i * 2)\n",
    "\n",
    "print(r2)"
   ]
  },
  {
   "cell_type": "code",
   "execution_count": 13,
   "metadata": {},
   "outputs": [
    {
     "name": "stdout",
     "output_type": "stream",
     "text": [
      "[2, 4, 6, 8, 10]\n",
      "[4, 8]\n"
     ]
    }
   ],
   "source": [
    "r1 = [1, 2, 3, 4, 5]\n",
    "r2 = [x * 2 for x in r1]\n",
    "print(r2)\n",
    "\n",
    "r2 = [x * 2 for x in r1 if x % 2 == 0]\n",
    "print(r2)"
   ]
  },
  {
   "cell_type": "code",
   "execution_count": 18,
   "metadata": {},
   "outputs": [
    {
     "name": "stdout",
     "output_type": "stream",
     "text": [
      "['BlackRed', 'BlackBlue', 'BlackGreen', 'WhiteRed', 'WhiteBlue', 'WhiteGreen']\n"
     ]
    }
   ],
   "source": [
    "r1 = ['Black', 'White']\n",
    "r2 = ['Red', 'Blue', 'Green']\n",
    "r3 = [i + j for i in r1 for j in r2]\n",
    "\n",
    "print(r3)"
   ]
  },
  {
   "cell_type": "code",
   "execution_count": 2,
   "metadata": {},
   "outputs": [
    {
     "name": "stdout",
     "output_type": "stream",
     "text": [
      "['Green', 'Blue', 'Red']\n"
     ]
    }
   ],
   "source": [
    "r1 = ['Red', 'Blue', 'Green']\n",
    "r2 = r1[::-1]\n",
    "print(r2)"
   ]
  }
 ],
 "metadata": {
  "kernelspec": {
   "display_name": "env_django",
   "language": "python",
   "name": "python3"
  },
  "language_info": {
   "codemirror_mode": {
    "name": "ipython",
    "version": 3
   },
   "file_extension": ".py",
   "mimetype": "text/x-python",
   "name": "python",
   "nbconvert_exporter": "python",
   "pygments_lexer": "ipython3",
   "version": "3.10.16"
  }
 },
 "nbformat": 4,
 "nbformat_minor": 2
}
