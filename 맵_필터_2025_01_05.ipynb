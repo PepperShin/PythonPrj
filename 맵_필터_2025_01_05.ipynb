{
 "cells": [
  {
   "cell_type": "code",
   "execution_count": 15,
   "metadata": {},
   "outputs": [
    {
     "name": "stdout",
     "output_type": "stream",
     "text": [
      "[1, 4, 9]\n",
      "<class 'map'>\n",
      "['__class__', '__delattr__', '__dir__', '__doc__', '__eq__', '__format__', '__ge__', '__getattribute__', '__gt__', '__hash__', '__init__', '__init_subclass__', '__iter__', '__le__', '__lt__', '__ne__', '__new__', '__next__', '__reduce__', '__reduce_ex__', '__repr__', '__setattr__', '__sizeof__', '__str__', '__subclasshook__']\n",
      "[1, 4, 9]\n"
     ]
    },
    {
     "data": {
      "text/plain": [
       "<map at 0x18e5f414250>"
      ]
     },
     "execution_count": 15,
     "metadata": {},
     "output_type": "execute_result"
    }
   ],
   "source": [
    "#Map의 이해\n",
    "\n",
    "def pow(n):\n",
    "    return n ** 2\n",
    "\n",
    "str1 = [1, 2, 3]\n",
    "\n",
    "str2 = [pow(str1[0]), pow(str1[1]), pow(str1[2])]\n",
    "print(str2)\n",
    "\n",
    "#mapping 함수 : 데이터와 함수를 매핑하는 함수\n",
    "str2 = list(map(pow, str1))\n",
    "\n",
    "print(type(map(pow, str1)))\n",
    "print(dir(map(pow, str1)))\n",
    "\n",
    "print(str2)"
   ]
  },
  {
   "cell_type": "code",
   "execution_count": 6,
   "metadata": {},
   "outputs": [
    {
     "name": "stdout",
     "output_type": "stream",
     "text": [
      "[4, 4, 4]\n"
     ]
    }
   ],
   "source": [
    "st1 = [1, 2, 3]\n",
    "st2 = [3, 2, 1]\n",
    "\n",
    "def sum(n1, n2):\n",
    "    return n1 + n2\n",
    "\n",
    "lst = list(map(sum, st1, st2))\n",
    "\n",
    "print(lst)"
   ]
  },
  {
   "cell_type": "code",
   "execution_count": 10,
   "metadata": {},
   "outputs": [
    {
     "name": "stdout",
     "output_type": "stream",
     "text": [
      "['eno', 'owt', 'eerht']\n",
      "['eno', 'owt', 'eerht']\n"
     ]
    }
   ],
   "source": [
    "# 람다와 같이 사용\n",
    "\n",
    "def rev(s):\n",
    "    return s[::-1]\n",
    "\n",
    "s1 = ['one', 'two', 'three']\n",
    "\n",
    "ref = list(map(rev, s1))\n",
    "print(ref)\n",
    "\n",
    "# rev를 람다로 변환\n",
    "ref = list(map(lambda x : x[::-1], s1))\n",
    "\n",
    "print(ref)"
   ]
  },
  {
   "cell_type": "code",
   "execution_count": 11,
   "metadata": {},
   "outputs": [
    {
     "name": "stdout",
     "output_type": "stream",
     "text": [
      "[1, 3, 5]\n"
     ]
    }
   ],
   "source": [
    "# filter(필터) 함수\n",
    "\n",
    "def is_odd(n):\n",
    "    return n % 2 # 홀수 이면 True\n",
    "\n",
    "st = [1, 2, 3, 4, 5]\n",
    "ost = list(filter(is_odd, st)) # True 또는 False를 반환하는 함수가 들어와야 한다.\n",
    "print(ost)"
   ]
  },
  {
   "cell_type": "code",
   "execution_count": 12,
   "metadata": {},
   "outputs": [
    {
     "name": "stdout",
     "output_type": "stream",
     "text": [
      "[{'mail': 'hintoncynthia@hotmail.com', 'name': 'Madison Martinez', 'gender': 'F'}]\n"
     ]
    }
   ],
   "source": [
    "users = [{'mail': 'gregorythomas@gmail.com', 'name': 'Brett Holland', 'gender': 'M'},\n",
    "         {'mail': 'hintoncynthia@hotmail.com', 'name': 'Madison Martinez', 'gender': 'F'}]\n",
    "\n",
    "# filter 함수를 사용해서 gender가 F 이면 출력하라\n",
    "\n",
    "def is_female(dic):\n",
    "    if dic['gender'] == 'F':\n",
    "        return True\n",
    "    else:\n",
    "        return False\n",
    "    # 그냥 return dic['gender'] == 'F' 해도 된다...\n",
    "\n",
    "female = list(filter(is_female, users))\n",
    "\n",
    "print(female)"
   ]
  },
  {
   "cell_type": "code",
   "execution_count": 13,
   "metadata": {},
   "outputs": [
    {
     "name": "stdout",
     "output_type": "stream",
     "text": [
      "[{'mail': 'hintoncynthia@hotmail.com', 'name': 'Madison Martinez', 'gender': 'F'}]\n"
     ]
    }
   ],
   "source": [
    "users = [{'mail': 'gregorythomas@gmail.com', 'name': 'Brett Holland', 'gender': 'M'},\n",
    "         {'mail': 'hintoncynthia@hotmail.com', 'name': 'Madison Martinez', 'gender': 'F'}]\n",
    "\n",
    "female = list(filter(lambda dic : dic['gender'] == 'F', users))\n",
    "\n",
    "print(female)"
   ]
  },
  {
   "cell_type": "code",
   "execution_count": 16,
   "metadata": {},
   "outputs": [
    {
     "name": "stdout",
     "output_type": "stream",
     "text": [
      "Madison Martinez\n"
     ]
    }
   ],
   "source": [
    "users = [{'mail': 'gregorythomas@gmail.com', 'name': 'Brett Holland', 'gender': 'M'},\n",
    "{'mail': 'hintoncynthia@hotmail.com', 'name': 'Madison Martinez', 'gender': 'F'}]\n",
    "\n",
    "def is_female(dic):\n",
    "    return dic['gender'] == 'F'\n",
    "\n",
    "for user in filter(is_female, users):\n",
    "    print(user['name'])"
   ]
  }
 ],
 "metadata": {
  "kernelspec": {
   "display_name": "env_django",
   "language": "python",
   "name": "python3"
  },
  "language_info": {
   "codemirror_mode": {
    "name": "ipython",
    "version": 3
   },
   "file_extension": ".py",
   "mimetype": "text/x-python",
   "name": "python",
   "nbconvert_exporter": "python",
   "pygments_lexer": "ipython3",
   "version": "3.10.16"
  }
 },
 "nbformat": 4,
 "nbformat_minor": 2
}
