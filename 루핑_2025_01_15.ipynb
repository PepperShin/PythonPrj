{
 "cells": [
  {
   "cell_type": "code",
   "execution_count": 5,
   "metadata": {},
   "outputs": [
    {
     "name": "stdout",
     "output_type": "stream",
     "text": [
      "1, 2, 3, \n",
      "a, b, c, \n",
      "1, 2, 3, \n",
      "a 1, b 2, c 3, \n",
      "('a', 1)\n",
      "('b', 2)\n",
      "('c', 3)\n"
     ]
    }
   ],
   "source": [
    "d = dict(a = 1, b = 2, c = 3)\n",
    "\n",
    "for k in d:\n",
    "    print(d[k], end = \", \")\n",
    "\n",
    "print()\n",
    "\n",
    "for k in d.keys():\n",
    "    print(k , end = \", \")\n",
    "\n",
    "print()\n",
    "\n",
    "for v in d.values():\n",
    "    print(v, end = \", \")\n",
    "\n",
    "print()\n",
    "\n",
    "for k, v in d.items(): # (key, values) 튜플 형식으로 넘겨준다\n",
    "    print(k, v, end = \", \")\n",
    "\n",
    "print()\n",
    "\n",
    "for k in d.items():\n",
    "    print(k)"
   ]
  },
  {
   "cell_type": "code",
   "execution_count": 13,
   "metadata": {},
   "outputs": [
    {
     "name": "stdout",
     "output_type": "stream",
     "text": [
      "('a', 1)\n",
      "('b', 2)\n",
      "('c', 3)\n",
      "('a', 4)\n",
      "('b', 2)\n",
      "('c', 5)\n"
     ]
    },
    {
     "data": {
      "text/plain": [
       "['__and__',\n",
       " '__class__',\n",
       " '__contains__',\n",
       " '__delattr__',\n",
       " '__dir__',\n",
       " '__doc__',\n",
       " '__eq__',\n",
       " '__format__',\n",
       " '__ge__',\n",
       " '__getattribute__',\n",
       " '__gt__',\n",
       " '__hash__',\n",
       " '__init__',\n",
       " '__init_subclass__',\n",
       " '__iter__',\n",
       " '__le__',\n",
       " '__len__',\n",
       " '__lt__',\n",
       " '__ne__',\n",
       " '__new__',\n",
       " '__or__',\n",
       " '__rand__',\n",
       " '__reduce__',\n",
       " '__reduce_ex__',\n",
       " '__repr__',\n",
       " '__reversed__',\n",
       " '__ror__',\n",
       " '__rsub__',\n",
       " '__rxor__',\n",
       " '__setattr__',\n",
       " '__sizeof__',\n",
       " '__str__',\n",
       " '__sub__',\n",
       " '__subclasshook__',\n",
       " '__xor__',\n",
       " 'isdisjoint',\n",
       " 'mapping']"
      ]
     },
     "execution_count": 13,
     "metadata": {},
     "output_type": "execute_result"
    }
   ],
   "source": [
    "d = dict(a = 1, b = 2, c = 3)\n",
    "vo = d.items() # 딕셔너리 views 객체를 생성 후 기존의 딕셔너리 주소를 가리키고 있다.\n",
    "#뷰 객체는 단순히 키 또는 값을 얻어오는데 사용될 뿐만 아니라 현재 딕셔너리의 상태를 그대로 반영한다는 특징이 있다. \n",
    "#('뷰'라는 이름처럼 딕셔너리의 현재 상태를 바라본다.)\n",
    "\n",
    "for kv in vo:\n",
    "    print(kv)\n",
    "\n",
    "d['a'] = d['a'] + 3 # 값 수정\n",
    "d['c'] += 2\n",
    "\n",
    "for kv in vo: # shallow copy와는 관계 없다.\n",
    "    print(kv)"
   ]
  },
  {
   "cell_type": "code",
   "execution_count": 11,
   "metadata": {},
   "outputs": [
    {
     "name": "stdout",
     "output_type": "stream",
     "text": [
      "{'a': 2, 'b': 4, 'c': 6}\n",
      "{'a': 2, 'b': 4, 'c': 6}\n",
      "{'a': 1, 'b': 4, 'c': 9}\n"
     ]
    }
   ],
   "source": [
    "d1 = dict(a = 1, b = 2, c = 3)\n",
    "\n",
    "d2 = {}\n",
    "\n",
    "for k, v in d1.items():\n",
    "    d2[k] = v * 2\n",
    "\n",
    "print(d2)\n",
    "\n",
    "d2 = {k : v * 2 for k, v in d1.items()} # 컴프리헨션으로 변환\n",
    "\n",
    "print(d2)\n",
    "\n",
    "d3 = {k : v ** 2 for k, v in d1.items()}\n",
    "\n",
    "print(d3)"
   ]
  },
  {
   "cell_type": "code",
   "execution_count": 12,
   "metadata": {},
   "outputs": [
    {
     "name": "stdout",
     "output_type": "stream",
     "text": [
      "{'a': 1, 'c': 3}\n"
     ]
    }
   ],
   "source": [
    "# 딕셔너리 컴프리헨션 if 문 넣어보기\n",
    "d1 = dict(a = 1, b = 2, c = 3, d = 4)\n",
    "\n",
    "d2 = {k : v for k, v in d1.items() if v % 2 == 1}\n",
    "\n",
    "print(d2)"
   ]
  }
 ],
 "metadata": {
  "kernelspec": {
   "display_name": "env_django",
   "language": "python",
   "name": "python3"
  },
  "language_info": {
   "codemirror_mode": {
    "name": "ipython",
    "version": 3
   },
   "file_extension": ".py",
   "mimetype": "text/x-python",
   "name": "python",
   "nbconvert_exporter": "python",
   "pygments_lexer": "ipython3",
   "version": "3.10.16"
  }
 },
 "nbformat": 4,
 "nbformat_minor": 2
}
