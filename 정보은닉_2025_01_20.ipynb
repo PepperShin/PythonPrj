{
 "cells": [
  {
   "cell_type": "code",
   "execution_count": 5,
   "metadata": {},
   "outputs": [
    {
     "name": "stdout",
     "output_type": "stream",
     "text": [
      "이름은 홍길동, 나이는 1\n",
      "나이는 0보다 커야 합니다. 나이 정보 오류\n",
      "이름은 홍길동, 나이는 1\n"
     ]
    }
   ],
   "source": [
    "class Person:\n",
    "    def __init__(self, name, age):\n",
    "        self.name = name\n",
    "        self.age = age\n",
    "\n",
    "    # if 문의 해당 함수에서 0이 들어가지 않도록 막는다.\n",
    "    def add_age(self, age):\n",
    "        if age < 0:\n",
    "            print('나이는 0보다 커야 합니다. 나이 정보 오류')\n",
    "        else:\n",
    "            self.age += age\n",
    "\n",
    "    def __str__(self):\n",
    "        return f'이름은 {self.name}, 나이는 {self.age}'\n",
    "\n",
    "p = Person('홍길동', 20)\n",
    "\n",
    "p.add_age(1)\n",
    "\n",
    "p.age -= 20\n",
    "print(p)\n",
    "\n",
    "p.add_age(-30)\n",
    "print(p)\n",
    "\n"
   ]
  },
  {
   "cell_type": "code",
   "execution_count": 8,
   "metadata": {},
   "outputs": [
    {
     "name": "stdout",
     "output_type": "stream",
     "text": [
      "나이는 0보다 커야 합니다. 나이 정보 오류\n",
      "이름은 홍길동, 나이는 21\n"
     ]
    },
    {
     "ename": "AttributeError",
     "evalue": "'Person' object has no attribute '__age'",
     "output_type": "error",
     "traceback": [
      "\u001b[1;31m---------------------------------------------------------------------------\u001b[0m",
      "\u001b[1;31mAttributeError\u001b[0m                            Traceback (most recent call last)",
      "Cell \u001b[1;32mIn[8], line 23\u001b[0m\n\u001b[0;32m     20\u001b[0m p\u001b[38;5;241m.\u001b[39madd_age(\u001b[38;5;241m-\u001b[39m\u001b[38;5;241m30\u001b[39m)\n\u001b[0;32m     21\u001b[0m \u001b[38;5;28mprint\u001b[39m(p)\n\u001b[1;32m---> 23\u001b[0m p\u001b[38;5;241m.\u001b[39m__age \u001b[38;5;241m-\u001b[39m\u001b[38;5;241m=\u001b[39m \u001b[38;5;241m20\u001b[39m \u001b[38;5;66;03m# 직접접근이 불가능하다.\u001b[39;00m\n\u001b[0;32m     24\u001b[0m p\u001b[38;5;241m.\u001b[39mage\u001b[38;5;241m-\u001b[39m\u001b[38;5;241m=\u001b[39m \u001b[38;5;241m20\u001b[39m \u001b[38;5;66;03m# 당연히 안된다.\u001b[39;00m\n",
      "\u001b[1;31mAttributeError\u001b[0m: 'Person' object has no attribute '__age'"
     ]
    }
   ],
   "source": [
    "class Person: # 변수 이름앞에 __ 를 붙여 직접접근을 막는다. _ 는 개발자들끼리의 약속. 문법적으로 제한을 주진 않는다.\n",
    "    def __init__(self, name, age):\n",
    "        self.__name = name\n",
    "        self.__age = age\n",
    "\n",
    "    # if 문의 해당 함수에서 0이 들어가지 않도록 막는다.\n",
    "    def add_age(self, age):\n",
    "        if age < 0:\n",
    "            print('나이는 0보다 커야 합니다. 나이 정보 오류')\n",
    "        else:\n",
    "            self.__age += age\n",
    "\n",
    "    def __str__(self):\n",
    "        return f'이름은 {self.__name}, 나이는 {self.__age}'\n",
    "\n",
    "p = Person('홍길동', 20)\n",
    "\n",
    "p.add_age(1)\n",
    "\n",
    "p.add_age(-30)\n",
    "print(p)\n",
    "\n",
    "p.__age -= 20 # 직접접근이 불가능하다.\n",
    "p.age-= 20 # 당연히 안된다."
   ]
  },
  {
   "cell_type": "code",
   "execution_count": 13,
   "metadata": {},
   "outputs": [
    {
     "name": "stdout",
     "output_type": "stream",
     "text": [
      "{'name': '홍길동', 'age': 20}\n",
      "{'name': '홍길동', 'age': 20, 'hi': 'hi', 'hello': 'hello'}\n",
      "{'name': 'lee', 'age': 20, 'hi': 'hi', 'hello': 'hello'}\n"
     ]
    }
   ],
   "source": [
    "class Person:\n",
    "    def __init__(self, name, age):\n",
    "        self.name = name\n",
    "        self.age = age\n",
    "\n",
    "p = Person('홍길동', 20)\n",
    "\n",
    "print(p.__dict__)\n",
    "p.hi = 'hi'\n",
    "p.hello = 'hello'\n",
    "print(p.__dict__)\n",
    "\n",
    "p.__dict__['name'] = 'lee'\n",
    "print(p.__dict__)"
   ]
  },
  {
   "cell_type": "code",
   "execution_count": 14,
   "metadata": {},
   "outputs": [
    {
     "name": "stdout",
     "output_type": "stream",
     "text": [
      "{'_Person__name': '홍길동', '_Person__age': 20}\n"
     ]
    }
   ],
   "source": [
    "class Person:\n",
    "    def __init__(self, name, age):\n",
    "        self.__name = name\n",
    "        self.__age = age\n",
    "\n",
    "p = Person('홍길동', 20)\n",
    "\n",
    "print(p.__dict__)"
   ]
  },
  {
   "cell_type": "code",
   "execution_count": 15,
   "metadata": {},
   "outputs": [
    {
     "name": "stdout",
     "output_type": "stream",
     "text": [
      "이름은 강아지, 나이는 20\n"
     ]
    }
   ],
   "source": [
    "class Person:\n",
    "    def __init__(self, name, age):\n",
    "        self.__name = name\n",
    "        self.__age = age\n",
    "\n",
    "    def add_age(self, age):\n",
    "        if age < 0:\n",
    "            print('나이는 0보다 커야 합니다. 나이 정보 오류')\n",
    "        else:\n",
    "            self.__age += age\n",
    "\n",
    "    def __str__(self):\n",
    "        return f'이름은 {self.__name}, 나이는 {self.__age}'\n",
    "    \n",
    "p = Person('홍길동', 20)\n",
    "\n",
    "p.__dict__['_Person__name'] = '강아지'\n",
    "p.__dict__['_person__age'] = 10\n",
    "\n",
    "print(p)"
   ]
  }
 ],
 "metadata": {
  "kernelspec": {
   "display_name": "env_django",
   "language": "python",
   "name": "python3"
  },
  "language_info": {
   "codemirror_mode": {
    "name": "ipython",
    "version": 3
   },
   "file_extension": ".py",
   "mimetype": "text/x-python",
   "name": "python",
   "nbconvert_exporter": "python",
   "pygments_lexer": "ipython3",
   "version": "3.10.16"
  }
 },
 "nbformat": 4,
 "nbformat_minor": 2
}
