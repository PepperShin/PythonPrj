{
 "cells": [
  {
   "cell_type": "code",
   "execution_count": 7,
   "metadata": {},
   "outputs": [
    {
     "name": "stdout",
     "output_type": "stream",
     "text": [
      "*\n",
      "**\n",
      "***\n",
      "****\n",
      "*****\n"
     ]
    }
   ],
   "source": [
    "def star(num):\n",
    "    for i in range(num):\n",
    "        print(\"*\" * (i + 1))\n",
    "\n",
    "num = int(input(\"별 갯수를 입력하세요.\"))\n",
    "star(num)"
   ]
  },
  {
   "cell_type": "code",
   "execution_count": 13,
   "metadata": {},
   "outputs": [
    {
     "name": "stdout",
     "output_type": "stream",
     "text": [
      "*****\n",
      "****\n",
      "***\n",
      "**\n",
      "*\n"
     ]
    }
   ],
   "source": [
    "def star(num):\n",
    "    for i in range(num):\n",
    "        print(\"*\" * (num - i))\n",
    "\n",
    "num = int(input(\"별 갯수를 입력하세요.\"))\n",
    "star(num)"
   ]
  },
  {
   "cell_type": "code",
   "execution_count": 9,
   "metadata": {},
   "outputs": [
    {
     "name": "stdout",
     "output_type": "stream",
     "text": [
      "     *\n",
      "    **\n",
      "   ***\n",
      "  ****\n",
      " *****\n"
     ]
    }
   ],
   "source": [
    "def star(num):\n",
    "    for i in range(num):\n",
    "        print(\" \" * (num - i),end = \"\")\n",
    "        print(\"*\" * (i + 1))\n",
    "\n",
    "num = int(input(\"별 갯수를 입력하세요.\"))\n",
    "star(num)"
   ]
  },
  {
   "cell_type": "code",
   "execution_count": 14,
   "metadata": {},
   "outputs": [
    {
     "name": "stdout",
     "output_type": "stream",
     "text": [
      "*****\n",
      " ****\n",
      "  ***\n",
      "   **\n",
      "    *\n"
     ]
    }
   ],
   "source": [
    "def star(num):\n",
    "    for i in range(num):\n",
    "        print(\" \" * (i),end = \"\")\n",
    "        print(\"*\" * (num - i))\n",
    "\n",
    "num = int(input(\"별 갯수를 입력하세요.\"))\n",
    "star(num)"
   ]
  },
  {
   "cell_type": "code",
   "execution_count": 16,
   "metadata": {},
   "outputs": [
    {
     "name": "stdout",
     "output_type": "stream",
     "text": [
      "홀수\n"
     ]
    }
   ],
   "source": [
    "num = int(input(\"정수를 적어주세요\"))\n",
    "\n",
    "if num % 2 == 0:\n",
    "    print(\"짝수\")\n",
    "else:\n",
    "    print(\"홀수\")"
   ]
  },
  {
   "cell_type": "code",
   "execution_count": null,
   "metadata": {},
   "outputs": [
    {
     "name": "stdout",
     "output_type": "stream",
     "text": [
      "255\n"
     ]
    }
   ],
   "source": [
    "def output(num):\n",
    "    if num > 255:\n",
    "        print(255)\n",
    "    else:\n",
    "        print(num)\n",
    "\n",
    "num = int(input(\"정수를 입력하세요\"))\n",
    "\n",
    "num = num + 20\n",
    "\n",
    "output(num)"
   ]
  },
  {
   "cell_type": "code",
   "execution_count": 38,
   "metadata": {},
   "outputs": [
    {
     "name": "stdout",
     "output_type": "stream",
     "text": [
      "255\n"
     ]
    }
   ],
   "source": [
    "def output(num):\n",
    "    if num < 0:\n",
    "        print(0)\n",
    "    elif num > 255:\n",
    "        print(255)\n",
    "    else:\n",
    "        print(num)\n",
    "\n",
    "num = int(input(\"정수를 입력하세요\"))\n",
    "\n",
    "num = num - 20\n",
    "\n",
    "output(num)"
   ]
  },
  {
   "cell_type": "code",
   "execution_count": null,
   "metadata": {},
   "outputs": [
    {
     "name": "stdout",
     "output_type": "stream",
     "text": [
      "정각입니다\n"
     ]
    }
   ],
   "source": [
    "#사용자로부터 입력 받은 시간이 정각인지 판별하라.\n",
    "\n",
    "#입력 현재시간 : 02:00\n",
    "\n",
    "time = input(\"시간을 입력해주세요\")\n",
    "\n",
    "if time.endswith(\"00\"): #if user[-2:] == \"00\"   hour, minute = input(\"현재 시간 : \").split(\":\")   if date.find('00') != -1:\n",
    "    print(\"정각입니다\")\n",
    "else:\n",
    "    print(\"정각이 아닙니다\")"
   ]
  },
  {
   "cell_type": "code",
   "execution_count": 22,
   "metadata": {},
   "outputs": [
    {
     "name": "stdout",
     "output_type": "stream",
     "text": [
      "오답입니다\n"
     ]
    }
   ],
   "source": [
    "#사용자로 입력받은 단어가 아래 furit 리스트에 포함되어 있는지를 확인하라.\n",
    "#포함되었다면 \"정답입니다\"를, 아닐 경우 \"오답입니다\"를 출력하라.\n",
    "\n",
    "furit = [\"사과\", \"포도\", \"홍시\"]\n",
    "\n",
    "get_furit = input(\"과일을 입력해주세요\")\n",
    "\n",
    "if get_furit in furit:\n",
    "    print(\"정답입니다\")\n",
    "else:\n",
    "    print(\"오답입니다\")"
   ]
  },
  {
   "cell_type": "code",
   "execution_count": 29,
   "metadata": {},
   "outputs": [
    {
     "name": "stdout",
     "output_type": "stream",
     "text": [
      "5\n"
     ]
    }
   ],
   "source": [
    "#세개의 숫자를 입력 받은 후 가장 큰 숫자를 출력하라.\n",
    "\n",
    "num1, num2, num3 = input(\"숫자 세개를 입력해 주세요\").split(\" \")\n",
    "\n",
    "if num1 < num2:\n",
    "    num1 = num2\n",
    "if num1 < num3:\n",
    "    num1 = num3\n",
    "\n",
    "print(num1)"
   ]
  },
  {
   "cell_type": "code",
   "execution_count": 32,
   "metadata": {},
   "outputs": [
    {
     "name": "stdout",
     "output_type": "stream",
     "text": [
      "260\n",
      "86.66666666666667\n",
      "우\n"
     ]
    }
   ],
   "source": [
    "#1. 아래를 프로그래밍 하시오.\n",
    "\n",
    "# 수우미양가\n",
    "# 국어 영어 수학 입력을 받아 총점과 평균 그리고 성적을 프린트 하시오. \n",
    "\n",
    "def total(kor, eng, math):\n",
    "    return kor + eng + math\n",
    "\n",
    "def avg(total):\n",
    "    return total / 3\n",
    "\n",
    "kor, eng, math = input(\"국어 영어 수학 점수를 적어주세요\").split(\" \")\n",
    "\n",
    "kor = int(kor)\n",
    "eng = int(eng)\n",
    "math = int(math)\n",
    "\n",
    "\n",
    "\n",
    "def grade(avg):\n",
    "    if avg >= 90:\n",
    "        return \"수\"\n",
    "    elif avg >= 80:\n",
    "        return \"우\"\n",
    "    elif avg >= 70:\n",
    "        return \"미\"\n",
    "    elif avg >= 60:\n",
    "        return \"양\"\n",
    "    else:\n",
    "        return \"가\"\n",
    "\n",
    "print(total(kor, eng, math)) # 270\n",
    "print(avg(total(kor, eng, math))) # 90\n",
    "print(grade(avg(total(kor, eng, math)))) # 우 입니다."
   ]
  },
  {
   "cell_type": "code",
   "execution_count": 40,
   "metadata": {},
   "outputs": [
    {
     "name": "stdout",
     "output_type": "stream",
     "text": [
      "LGU\n"
     ]
    }
   ],
   "source": [
    "#7. 휴대폰 번호 앞자리에 따라 통신사는 아래와 같이 구분된다. 사용자로부터 휴대전화 번호를 입력 받고, 통신사를 출력하는 프로그램을 작성하라.\n",
    "#번호통신사\n",
    "#011SKT\n",
    "#016KT\n",
    "#019LGU\n",
    "#010알수없음\n",
    "\n",
    "def check_mobile_carrier(pnum):\n",
    "    if pnum.startswith(\"011\"):\n",
    "        print(\"SKT\")\n",
    "    elif pnum.startswith(\"016\"):\n",
    "        print(\"KT\")\n",
    "    elif pnum.startswith(\"019\"):\n",
    "        print(\"LGU\")\n",
    "    elif pnum.startswith(\"010\"):\n",
    "        print(\"unknown\")\n",
    "    else:\n",
    "        print(\"잘못된 번호입니다.\")\n",
    "\n",
    "pnum = input(\"전화번호를 적어주세요.\")\n",
    "\n",
    "check_mobile_carrier(pnum)"
   ]
  },
  {
   "cell_type": "code",
   "execution_count": null,
   "metadata": {},
   "outputs": [
    {
     "name": "stdout",
     "output_type": "stream",
     "text": [
      "남자\n"
     ]
    }
   ],
   "source": [
    "#주민등록번호 뒷 자리 7자리 중 첫째 자리는 성별을 나타내는데, 1, 3은 남자 2, 4는 여자를 의미한다. \n",
    "#사용자로부터 13자리의 주민등록번호를 입력 받은 후 성별 (남자, 여자)를 출력하는 프로그램을 작성하라. (힌트) split\n",
    "\n",
    "def check_sex(resnum):\n",
    "    resnum = resnum.split(\"-\")\n",
    "    split_resnum = resnum[1]\n",
    "    if split_resnum[0] != 1 or split_resnum[1][0] == 3:\n",
    "        print(\"남자\")\n",
    "    else:\n",
    "        print(\"여자\")\n",
    "\n",
    "resnum = input(\"주민번호를 입력해주세요\")\n",
    "\n",
    "check_sex(resnum)\n"
   ]
  },
  {
   "cell_type": "code",
   "execution_count": 59,
   "metadata": {},
   "outputs": [
    {
     "name": "stdout",
     "output_type": "stream",
     "text": [
      "{'opening_price': '144223000', 'closing_price': '146629000', 'min_price': '144000000', 'max_price': '147099000', 'units_traded': '533.29656149', 'acc_trade_value': '77682506377.28709', 'prev_closing_price': '144223000', 'units_traded_24H': '728.7613912', 'acc_trade_value_24H': '105848012786.1888', 'fluctate_24H': '2001000', 'fluctate_rate_24H': '1.38', 'date': '1736150569989'}\n",
      "<class 'dict'>\n"
     ]
    }
   ],
   "source": [
    "#9. 아래 코드는 비트코인의 가격 정보를 딕셔너리로 가져오는 코드이다.(비트코인 가격을 받아오지 못하면 풀지 말것)\n",
    "'''\n",
    "import requests\n",
    "btc = requests.get(\"https://api.bithumb.com/public/ticker/\").json()['data'] \n",
    "\n",
    "print(btc)\n",
    "print(type(btc))\n",
    "'''"
   ]
  },
  {
   "cell_type": "code",
   "execution_count": 64,
   "metadata": {},
   "outputs": [
    {
     "name": "stdout",
     "output_type": "stream",
     "text": [
      "라\n",
      "다\n",
      "나\n",
      "가\n"
     ]
    }
   ],
   "source": [
    "'''\n",
    "10.리스트에는 네 개의 문자열이 바인딩돼 있다.\n",
    "리스트 = [\"가\", \"나\", \"다\", \"라\"]\n",
    "for문을 사용해서 다음과 같이 출력하라.\n",
    "\n",
    "라\n",
    "다\n",
    "나\n",
    "가\n",
    "'''\n",
    "string = [\"가\", \"나\", \"다\", \"라\"]\n",
    "\n",
    "for i in string[::-1]: #string.reverse()도 가능\n",
    "    print(i)\n"
   ]
  },
  {
   "cell_type": "code",
   "execution_count": null,
   "metadata": {},
   "outputs": [],
   "source": [
    "'''\n",
    "11.리스트에는 네 개의 문자열이 바인딩돼 있다. (힌트 step 할용)\n",
    "\n",
    "리스트 = [\"가\", \"나\", \"다\", \"라\"]\n",
    "for문을 사용해서 다음과 같이 출력하라.\n",
    "\n",
    "가\n",
    "다\n",
    "'''\n",
    "\n",
    "string = [\"가\", \"나\", \"다\", \"라\"]\n",
    "\n",
    "for i in string[::2]:\n",
    "    print(i)"
   ]
  },
  {
   "cell_type": "code",
   "execution_count": null,
   "metadata": {},
   "outputs": [],
   "source": [
    "'''\n",
    "12.사용자로부터 세 개의 숫자를 입력 받은 후 가장 큰 숫자를 출력하라.\n",
    "number1: 10\n",
    "number2: 9\n",
    "number3: 20\n",
    "'''\n",
    "\n",
    "num1, num2, num3 = input(\"숫자 세개를 입력해 주세요\").split(\" \")\n",
    "\n",
    "if num1 < num2:\n",
    "    num1 = num2\n",
    "if num1 < num3:\n",
    "    num1 = num3\n",
    "\n",
    "print(num1)\n",
    "\n",
    "'''\n",
    "a, b, c = 20, 10 ,30\n",
    "\n",
    "if a > b and a > c:\n",
    "    print(a)\n",
    "elif b > a and b > c:\n",
    "    print(b)\n",
    "else:\n",
    "    print(c)\n",
    "\n",
    "high = a\n",
    "\n",
    "if b > high:\n",
    "    high = b\n",
    "\n",
    "if c > high:\n",
    "    high = c\n",
    "\n",
    "print(high)\n",
    "\n",
    "max() 함수 쓰면 한줄로 끝난다.\n",
    "'''"
   ]
  },
  {
   "cell_type": "code",
   "execution_count": 67,
   "metadata": {},
   "outputs": [
    {
     "name": "stdout",
     "output_type": "stream",
     "text": [
      "study\n",
      "python\n",
      "language\n"
     ]
    }
   ],
   "source": [
    "'''\n",
    "13. 리스트에서 세 글자 이상의 문자를 화면에 출력하라.\n",
    "\n",
    "리스트 = [\"I\", \"study\", \"python\", \"language\", \"!\"]\n",
    "\n",
    "study\n",
    "python\n",
    "language\n",
    "'''\n",
    "\n",
    "list = [\"I\", \"study\", \"python\", \"language\", \"!\"]\n",
    "\n",
    "for i in list[:]:\n",
    "    if len(i) >= 3:\n",
    "        print(i)\n"
   ]
  },
  {
   "cell_type": "code",
   "execution_count": 68,
   "metadata": {},
   "outputs": [
    {
     "name": "stdout",
     "output_type": "stream",
     "text": [
      "A\n",
      "D\n"
     ]
    }
   ],
   "source": [
    "'''\n",
    "14. 리스트에서 대문자만 화면에 출력하라.\n",
    "리스트 = [\"A\", \"b\", \"c\", \"D\"]\n",
    "\n",
    "A\n",
    "D\n",
    "'''\n",
    "\n",
    "list = [\"A\", \"b\", \"c\", \"D\"]\n",
    "\n",
    "for i in list[:]:\n",
    "    if i.isupper():\n",
    "        print(i)"
   ]
  },
  {
   "cell_type": "code",
   "execution_count": 71,
   "metadata": {},
   "outputs": [
    {
     "name": "stdout",
     "output_type": "stream",
     "text": [
      "Dog\n",
      "Cat\n",
      "Parrot\n"
     ]
    }
   ],
   "source": [
    "'''\n",
    "15.이름의 첫 글자를 대문자로 변경해서 출력하라.\n",
    "\n",
    "리스트 = ['dog', 'cat', 'parrot']\n",
    "Dog\n",
    "Cat\n",
    "Parrot\n",
    "'''\n",
    "\n",
    "list = ['dog', 'cat', 'parrot']\n",
    "\n",
    "for i in list[:]:\n",
    "    ucp = i[0]\n",
    "    print(i.replace(i[0], ucp.upper(), 1))\n",
    "\n",
    "'''\n",
    "for string in lst:\n",
    "    string = string[0].upper() + string[1:]\n",
    "    print(string)\n",
    "\n",
    "for string in lst:\n",
    "    print(string.capitalize()) #첫 글자만 대문자화\n",
    "'''"
   ]
  },
  {
   "cell_type": "code",
   "execution_count": 74,
   "metadata": {},
   "outputs": [
    {
     "name": "stdout",
     "output_type": "stream",
     "text": [
      "intra.h\n",
      "define.h\n"
     ]
    }
   ],
   "source": [
    "'''\n",
    "16.파일 이름이 저장된 리스트에서 확장자가 .h인 파일 이름을 출력하라.\n",
    "\n",
    "리스트 = ['intra.h', 'intra.c', 'define.h', 'run.py']\n",
    "intra.h\n",
    "define.h\n",
    "'''\n",
    "\n",
    "list = ['intra.h', 'intra.c', 'define.h', 'run.py']\n",
    "\n",
    "for i in list[:]:\n",
    "    if i.endswith(\".h\"):\n",
    "        print(i)\n"
   ]
  },
  {
   "cell_type": "code",
   "execution_count": 5,
   "metadata": {},
   "outputs": [
    {
     "name": "stdout",
     "output_type": "stream",
     "text": [
      "270\n",
      "90.0\n",
      "우 입니다\n"
     ]
    }
   ],
   "source": [
    "def total(kor, eng, math):\n",
    "    return kor + eng + math\n",
    "\n",
    "def avg(kor, eng, math):\n",
    "    return (kor + eng + math) / 3\n",
    "\n",
    "def grade(avg):\n",
    "    if avg >= 90:\n",
    "        return \"수 입니다\"\n",
    "    elif avg >= 80:\n",
    "        return \"우 입니다\"\n",
    "    elif avg >= 70:\n",
    "        return \"미 입니다\"\n",
    "    elif avg >= 60:\n",
    "        return \"양 입니다\"\n",
    "    else:\n",
    "        return \"가 입니다\"\n",
    "\n",
    "\n",
    "print(total(90,90,90))\n",
    "print(avg(90,90,90))\n",
    "print(grade(avg(80,80,80)))"
   ]
  },
  {
   "cell_type": "markdown",
   "metadata": {},
   "source": [
    "2025-01-07\n",
    "회고"
   ]
  },
  {
   "cell_type": "code",
   "execution_count": null,
   "metadata": {},
   "outputs": [
    {
     "ename": "ValueError",
     "evalue": "too many values to unpack (expected 2)",
     "output_type": "error",
     "traceback": [
      "\u001b[1;31m---------------------------------------------------------------------------\u001b[0m",
      "\u001b[1;31mValueError\u001b[0m                                Traceback (most recent call last)",
      "Cell \u001b[1;32mIn[2], line 3\u001b[0m\n\u001b[0;32m      1\u001b[0m \u001b[38;5;66;03m##### 3.  t = 1, 2, 3, 4  \u001b[39;00m\n\u001b[0;32m      2\u001b[0m    \u001b[38;5;66;03m#t의 데이타 타입은?\u001b[39;00m\n\u001b[1;32m----> 3\u001b[0m t, k \u001b[38;5;241m=\u001b[39m \u001b[38;5;241m1\u001b[39m, \u001b[38;5;241m2\u001b[39m, \u001b[38;5;241m3\u001b[39m, \u001b[38;5;241m4\u001b[39m\n\u001b[0;32m      5\u001b[0m \u001b[38;5;28mprint\u001b[39m(\u001b[38;5;28mtype\u001b[39m(t))\n",
      "\u001b[1;31mValueError\u001b[0m: too many values to unpack (expected 2)"
     ]
    }
   ],
   "source": [
    "# 3.  t = 1, 2, 3, 4  \n",
    "   #t의 데이타 타입은?\n",
    "t = 1, 2, 3, 4\n",
    "\n",
    "print(type(t))"
   ]
  },
  {
   "cell_type": "code",
   "execution_count": 3,
   "metadata": {},
   "outputs": [
    {
     "name": "stdout",
     "output_type": "stream",
     "text": [
      "-20\n",
      "-3\n"
     ]
    }
   ],
   "source": [
    "# 4.리스트에는 네 개의 정수가 저장돼 있다.\n",
    "'''python\n",
    "#리스트 = [3, -20, -3, 44] \n",
    "#for문을 사용해서 리스트의 음수를 출력하라.\n",
    "'''\n",
    "lst = [3, -20, -3, 44]\n",
    "\n",
    "for i in lst:\n",
    "    if i < 0:\n",
    "        print(i)"
   ]
  },
  {
   "cell_type": "code",
   "execution_count": 4,
   "metadata": {},
   "outputs": [
    {
     "name": "stdout",
     "output_type": "stream",
     "text": [
      "3\n"
     ]
    }
   ],
   "source": [
    "# 5. for문을 사용해서 3의 배수만을 출력하라.\n",
    "# 리스트 = [3, 100, 23, 44]\n",
    "\n",
    "lst = [3, 100, 23, 44]\n",
    "\n",
    "for i in lst:\n",
    "    if i % 3 == 0:\n",
    "        print(i)"
   ]
  },
  {
   "cell_type": "code",
   "execution_count": 1,
   "metadata": {},
   "outputs": [
    {
     "name": "stdout",
     "output_type": "stream",
     "text": [
      "12\n",
      "18\n"
     ]
    }
   ],
   "source": [
    "# 6.리스트에서 20 보다 작은 3의 배수를 출력하라\n",
    "'''\n",
    "리스트 = [13, 21, 12, 14, 30, 18]\n",
    "\n",
    "출력)\n",
    "12\n",
    "18\n",
    "'''\n",
    "\n",
    "lst = [13, 21, 12, 14, 30, 18]\n",
    "\n",
    "for i in lst:\n",
    "    if i < 20 and i % 3 == 0:\n",
    "        print(i)"
   ]
  },
  {
   "cell_type": "code",
   "execution_count": 3,
   "metadata": {},
   "outputs": [
    {
     "name": "stdout",
     "output_type": "stream",
     "text": [
      "2002\n",
      "2006\n",
      "2010\n",
      "2014\n",
      "2018\n",
      "2022\n",
      "2026\n",
      "2030\n",
      "2034\n",
      "2038\n",
      "2042\n",
      "2046\n",
      "2050\n"
     ]
    }
   ],
   "source": [
    "# 7.월드컵은 4년에 한 번 개최된다. range()를 사용하여 2002~2050년까지 중 월드컵이 개최되는 연도를 출력하라.\n",
    "'''\n",
    "2002\n",
    "2006\n",
    "2010\n",
    "...\n",
    "2042\n",
    "2046\n",
    "2050\n",
    "'''\n",
    "\n",
    "for i in range(2002, 2051, 4):\n",
    "    print(i)\n"
   ]
  },
  {
   "cell_type": "code",
   "execution_count": 4,
   "metadata": {},
   "outputs": [
    {
     "name": "stdout",
     "output_type": "stream",
     "text": [
      "99\n",
      "98\n",
      "97\n",
      "96\n",
      "95\n",
      "94\n",
      "93\n",
      "92\n",
      "91\n",
      "90\n",
      "89\n",
      "88\n",
      "87\n",
      "86\n",
      "85\n",
      "84\n",
      "83\n",
      "82\n",
      "81\n",
      "80\n",
      "79\n",
      "78\n",
      "77\n",
      "76\n",
      "75\n",
      "74\n",
      "73\n",
      "72\n",
      "71\n",
      "70\n",
      "69\n",
      "68\n",
      "67\n",
      "66\n",
      "65\n",
      "64\n",
      "63\n",
      "62\n",
      "61\n",
      "60\n",
      "59\n",
      "58\n",
      "57\n",
      "56\n",
      "55\n",
      "54\n",
      "53\n",
      "52\n",
      "51\n",
      "50\n",
      "49\n",
      "48\n",
      "47\n",
      "46\n",
      "45\n",
      "44\n",
      "43\n",
      "42\n",
      "41\n",
      "40\n",
      "39\n",
      "38\n",
      "37\n",
      "36\n",
      "35\n",
      "34\n",
      "33\n",
      "32\n",
      "31\n",
      "30\n",
      "29\n",
      "28\n",
      "27\n",
      "26\n",
      "25\n",
      "24\n",
      "23\n",
      "22\n",
      "21\n",
      "20\n",
      "19\n",
      "18\n",
      "17\n",
      "16\n",
      "15\n",
      "14\n",
      "13\n",
      "12\n",
      "11\n",
      "10\n",
      "9\n",
      "8\n",
      "7\n",
      "6\n",
      "5\n",
      "4\n",
      "3\n",
      "2\n",
      "1\n",
      "0\n"
     ]
    }
   ],
   "source": [
    "# 8. 99부터 0까지 1씩 감소하는 숫자들을, 한 라인에 하나씩 출력하라.\n",
    "for i in range(99, -1, -1):\n",
    "    print(i)"
   ]
  },
  {
   "cell_type": "code",
   "execution_count": 8,
   "metadata": {},
   "outputs": [
    {
     "name": "stdout",
     "output_type": "stream",
     "text": [
      "0.0\n",
      "0.1\n",
      "0.2\n",
      "0.3\n",
      "0.4\n",
      "0.5\n",
      "0.6\n",
      "0.7\n",
      "0.8\n",
      "0.9\n"
     ]
    }
   ],
   "source": [
    "# 9.for문을 사용해서 아래와 같이 출력하라.\n",
    "'''\n",
    "0.0\n",
    "0.1\n",
    "0.2\n",
    "0.3\n",
    "0.4\n",
    "0.5\n",
    "...\n",
    "0.9\n",
    "'''\n",
    "\n",
    "for i in range(10):\n",
    "    print(\"0.\" + str(i))"
   ]
  },
  {
   "cell_type": "code",
   "execution_count": 5,
   "metadata": {},
   "outputs": [
    {
     "name": "stdout",
     "output_type": "stream",
     "text": [
      "25\n"
     ]
    }
   ],
   "source": [
    "# 10. 1~10까지의 숫자 중 모든 홀수의 합을 출력하는 프로그램을 for 문을 사용하여 작성하라.\n",
    "sum = 0\n",
    "\n",
    "for i in range(1, 11):\n",
    "    if i % 2 == 1:\n",
    "        sum += i\n",
    "\n",
    "print(sum)"
   ]
  },
  {
   "cell_type": "code",
   "execution_count": 6,
   "metadata": {},
   "outputs": [
    {
     "name": "stdout",
     "output_type": "stream",
     "text": [
      "3628800\n"
     ]
    }
   ],
   "source": [
    "# 11. 1~10까지의 숫자를 모두 곱한 값을 출력하는 프로그램을 for 문을 사용하여 작성하라.\n",
    "multi = 1\n",
    "\n",
    "for i in range(1, 11):\n",
    "    multi *= i\n",
    "\n",
    "print(multi)"
   ]
  },
  {
   "cell_type": "code",
   "execution_count": 9,
   "metadata": {},
   "outputs": [
    {
     "name": "stdout",
     "output_type": "stream",
     "text": [
      "0 32100\n",
      "1 32150\n",
      "2 32000\n",
      "3 32500\n"
     ]
    }
   ],
   "source": [
    "# 12. 아래와 같이 리스트의 데이터를 출력하라. 단, for문과 range문을 사용하라.\n",
    "'''\n",
    "price_list = [32100, 32150, 32000, 32500]\n",
    "\n",
    "0 32100\n",
    "1 32150\n",
    "2 32000\n",
    "3 32500\n",
    "'''\n",
    "price_list = [32100, 32150, 32000, 32500]\n",
    "\n",
    "for i in range(len(price_list)):\n",
    "    print(i, price_list[i])"
   ]
  },
  {
   "cell_type": "code",
   "execution_count": 13,
   "metadata": {},
   "outputs": [
    {
     "name": "stdout",
     "output_type": "stream",
     "text": [
      "가 나 다 \n",
      "나 다 라 \n",
      "다 라 마 \n"
     ]
    }
   ],
   "source": [
    "# 13. 리스트를 아래와 같이 출력하라.\n",
    "'''\n",
    "my_list = [\"가\", \"나\", \"다\", \"라\", \"마\"]\n",
    "가 나 다\n",
    "나 다 라\n",
    "다 라 마\n",
    "'''\n",
    "my_list = [\"가\", \"나\", \"다\", \"라\", \"마\"]\n",
    "\n",
    "for i in range(3):\n",
    "    for j in range(3):\n",
    "        print(my_list[i + j], end = \" \")\n",
    "    print()"
   ]
  },
  {
   "cell_type": "code",
   "execution_count": 16,
   "metadata": {},
   "outputs": [
    {
     "name": "stdout",
     "output_type": "stream",
     "text": [
      "233.33333333333334\n",
      "466.6666666666667\n",
      "733.3333333333334\n",
      "1033.3333333333333\n"
     ]
    }
   ],
   "source": [
    "# 14. 리스트에는 6일 간의 종가 데이터가 저장되어 있다. 종가 데이터의 3일 이동 평균을 계산하고 이를 화면에 출력하라.\n",
    "'''\n",
    "my_list = [100, 200, 400, 800, 1000, 1300]\n",
    "첫 번째 줄에는 100, 200, 400의 평균값이 출력된다. 두 번째 줄에는 200, 400, 800의 평균값이 출력된다. 같은 방식으로 나머지 데이터의 평균을 출력한다.\n",
    "\n",
    "233.33333333333334\n",
    "466.6666666666667\n",
    "733.3333333333334\n",
    "1033.3333333333333\n",
    "'''\n",
    "my_list = [100, 200, 400, 800, 1000, 1300]\n",
    "\n",
    "for i in range(len(my_list) - 2):\n",
    "    sum = 0\n",
    "    for j in range(3):\n",
    "        sum += my_list[i + j]\n",
    "    print(sum / 3)\n"
   ]
  },
  {
   "cell_type": "code",
   "execution_count": null,
   "metadata": {},
   "outputs": [],
   "source": [
    "# 15. 아래 표에서 하나의 행을 하나의 리스트로, 총 3개의 리스트를 갖는 이차원 리스트 apart를 정의하라.\n",
    "'''\n",
    "101호\t102호\n",
    "201호\t202호\n",
    "301호\t302호\n",
    "'''\n",
    "\n",
    "apart = [ [\"101호\", \"102호\"], [\"201호\", \"202호\"], [\"301호\", \"302호\"] ]"
   ]
  },
  {
   "cell_type": "code",
   "execution_count": null,
   "metadata": {},
   "outputs": [],
   "source": [
    "# 16. 아래 표에서 하나의 열을 하나의 리스트로, 총 2개의 리스트를 갖는 이차원 리스트 stock을 정의하라.\n",
    "'''\n",
    "시가 종가\n",
    "100\t 80\n",
    "200\t 210\n",
    "300\t 330\n",
    "'''\n",
    "\n",
    "stock = [[100, 200, 300], [80, 210, 330]]"
   ]
  },
  {
   "cell_type": "code",
   "execution_count": 17,
   "metadata": {},
   "outputs": [
    {
     "ename": "NameError",
     "evalue": "name 'hello' is not defined",
     "output_type": "error",
     "traceback": [
      "\u001b[1;31m---------------------------------------------------------------------------\u001b[0m",
      "\u001b[1;31mNameError\u001b[0m                                 Traceback (most recent call last)",
      "Cell \u001b[1;32mIn[17], line 1\u001b[0m\n\u001b[1;32m----> 1\u001b[0m \u001b[43mhello\u001b[49m()\n\u001b[0;32m      2\u001b[0m \u001b[38;5;28;01mdef\u001b[39;00m \u001b[38;5;21mhello\u001b[39m():\n\u001b[0;32m      3\u001b[0m     \u001b[38;5;28mprint\u001b[39m(\u001b[38;5;124m\"\u001b[39m\u001b[38;5;124mHi\u001b[39m\u001b[38;5;124m\"\u001b[39m)\n",
      "\u001b[1;31mNameError\u001b[0m: name 'hello' is not defined"
     ]
    }
   ],
   "source": [
    "hello()\n",
    "def hello():\n",
    "    print(\"Hi\")"
   ]
  },
  {
   "cell_type": "code",
   "execution_count": 18,
   "metadata": {},
   "outputs": [
    {
     "name": "stdout",
     "output_type": "stream",
     "text": [
      "A\n",
      "B\n",
      "C\n",
      "A\n",
      "B\n"
     ]
    }
   ],
   "source": [
    "def message() :\n",
    "    print(\"A\")\n",
    "    print(\"B\")\n",
    "\n",
    "message()\n",
    "print(\"C\")\n",
    "message()"
   ]
  },
  {
   "cell_type": "code",
   "execution_count": 2,
   "metadata": {},
   "outputs": [
    {
     "name": "stdout",
     "output_type": "stream",
     "text": [
      "25\n"
     ]
    }
   ],
   "source": [
    "sum = 0\n",
    "\n",
    "for i in range(1, 11):\n",
    "    if i % 2 != 0:\n",
    "        sum += i\n",
    "\n",
    "print(sum)"
   ]
  },
  {
   "cell_type": "code",
   "execution_count": 4,
   "metadata": {},
   "outputs": [
    {
     "name": "stdout",
     "output_type": "stream",
     "text": [
      "3628800\n"
     ]
    }
   ],
   "source": [
    "multi = 1\n",
    "\n",
    "for i in range(1, 11):\n",
    "    multi *= i\n",
    "\n",
    "print(multi)"
   ]
  },
  {
   "cell_type": "code",
   "execution_count": 7,
   "metadata": {},
   "outputs": [
    {
     "name": "stdout",
     "output_type": "stream",
     "text": [
      "가 나 \n",
      "나 다 \n",
      "다 라 \n"
     ]
    }
   ],
   "source": [
    "my_list = ['가', '나', '다', '라']\n",
    "\n",
    "for i in range(len(my_list) - 1):\n",
    "    for j in range(2):\n",
    "        print(my_list[i + j], end = \" \")\n",
    "    print()\n",
    "    "
   ]
  },
  {
   "cell_type": "markdown",
   "metadata": {},
   "source": [
    "2025-01-08 회고"
   ]
  },
  {
   "cell_type": "code",
   "execution_count": null,
   "metadata": {},
   "outputs": [],
   "source": [
    "stock_list = {\"시가\" : [100, 200 ,300], \"종가\" : [80, 210, 330]}"
   ]
  },
  {
   "cell_type": "markdown",
   "metadata": {},
   "source": [
    "091 딕셔너리 생성\n",
    "아래의 표에서, 아이스크림 이름을 키값으로, (가격, 재고) 리스트를 딕셔너리의 값으로 저장하라. 딕셔너리의 이름은 dic_inventory로 한다.\n",
    "\n",
    "이름    가격    재고\n",
    "메로나    300    20\n",
    "비비빅    400    3\n",
    "죠스바    250    100"
   ]
  },
  {
   "cell_type": "code",
   "execution_count": null,
   "metadata": {},
   "outputs": [],
   "source": [
    "dic_inventory = {\n",
    "    \"메로나\" : [300, 20],\n",
    "    \"비비빅\" : [400, 3],\n",
    "    \"죠스바\" : [250, 100]\n",
    "}"
   ]
  },
  {
   "cell_type": "markdown",
   "metadata": {},
   "source": [
    "메로나의 가격을 화면에 출력하라\n",
    "실행 예시:\n",
    "\n",
    "300 원"
   ]
  },
  {
   "cell_type": "code",
   "execution_count": 11,
   "metadata": {},
   "outputs": [
    {
     "name": "stdout",
     "output_type": "stream",
     "text": [
      "300\n"
     ]
    }
   ],
   "source": [
    "dic_inventory = {\n",
    "    \"메로나\" : [300, 20],\n",
    "    \"비비빅\" : [400, 3],\n",
    "    \"죠스바\" : [250, 100]\n",
    "}\n",
    "print(dic_inventory[\"메로나\"][0])"
   ]
  },
  {
   "cell_type": "code",
   "execution_count": 17,
   "metadata": {},
   "outputs": [
    {
     "name": "stdout",
     "output_type": "stream",
     "text": [
      "950\n",
      "32200\n"
     ]
    }
   ],
   "source": [
    "dic_inventory = {\n",
    "    \"메로나\" : [300, 20],\n",
    "    \"비비빅\" : [400, 3],\n",
    "    \"죠스바\" : [250, 100]\n",
    "}\n",
    "\n",
    "price = 0\n",
    "total = 0\n",
    "\n",
    "for values in dic_inventory.values():\n",
    "    price += values[0]\n",
    "    total += values[0] * values[1]\n",
    "\n",
    "'''\n",
    "for price, count in dic_inventory.values():\n",
    "        sum += price\n",
    "        total = total + (price * count)\n",
    "'''\n",
    "\n",
    "print(price) \n",
    "print(total)"
   ]
  },
  {
   "cell_type": "code",
   "execution_count": 4,
   "metadata": {},
   "outputs": [
    {
     "name": "stdout",
     "output_type": "stream",
     "text": [
      "{'메로나': [300, 20], '비비빅': [400, 3], '죠스바': [250, 100], '월드콘': [500, 7]}\n"
     ]
    }
   ],
   "source": [
    "# 3. 딕셔너리 추가\n",
    "'''\n",
    "inventory 딕셔너리에 아래 데이터를 추가하라.\n",
    "python\n",
    "inventory = {\"메로나\": [300, 20],\n",
    "              \"비비빅\": [400, 3],\n",
    "              \"죠스바\": [250, 100]}\n",
    "이름\t가격 재고\n",
    "월드콘\t500\t 7\n",
    "'''\n",
    "inventory = {\"메로나\": [300, 20],\n",
    "              \"비비빅\": [400, 3],\n",
    "              \"죠스바\": [250, 100]}\n",
    "\n",
    "inventory[\"월드콘\"] = [500, 7]\n",
    "\n",
    "print(inventory)"
   ]
  },
  {
   "cell_type": "code",
   "execution_count": 17,
   "metadata": {},
   "outputs": [
    {
     "name": "stdout",
     "output_type": "stream",
     "text": [
      "['탱크보이', '폴라포', '빵빠레', '월드콘', '메로나']\n"
     ]
    }
   ],
   "source": [
    "# 4. 다음의 딕셔너리로부터 key 값으로만 구성된 리스트를 생성하라.(힌트:딕셔너리 keys() 메서드)\n",
    "\n",
    "icecream = {'탱크보이': 1200, '폴라포': 1200, '빵빠레': 1800, '월드콘': 1500, '메로나': 1000}\n",
    "\n",
    "key = []\n",
    "key += icecream.keys()\n",
    "\n",
    "print(key)"
   ]
  },
  {
   "cell_type": "code",
   "execution_count": 14,
   "metadata": {},
   "outputs": [
    {
     "name": "stdout",
     "output_type": "stream",
     "text": [
      "6700\n"
     ]
    }
   ],
   "source": [
    "# 5.icecream 딕셔너리에서 아이스크림 판매 금액의 총합을 출력하라.\n",
    "'''\n",
    "icecream = {'탱크보이': 1200, '폴라포': 1200, '빵빠레': 1800, '월드콘': 1500, '메로나': 1000}\n",
    "출력 예시:\n",
    "6700\n",
    "'''\n",
    "\n",
    "icecream = {'탱크보이': 1200, '폴라포': 1200, '빵빠레': 1800, '월드콘': 1500, '메로나': 1000}\n",
    "sum = 0\n",
    "\n",
    "for price in icecream.values():\n",
    "    sum += price\n",
    "\n",
    "print(sum)"
   ]
  },
  {
   "cell_type": "code",
   "execution_count": 16,
   "metadata": {},
   "outputs": [
    {
     "name": "stdout",
     "output_type": "stream",
     "text": [
      "{'탱크보이': 1200, '폴라포': 1200, '빵빠레': 1800, '월드콘': 1500, '메로나': 1000, '팥빙수': 2700, '아맛나': 1000}\n"
     ]
    }
   ],
   "source": [
    "# 6. 딕셔너리 update 메서드\n",
    "'''\n",
    "아래의 new_product 딕셔너리를 다음 icecream 딕셔너리에 추가하라.\n",
    "'''\n",
    "icecream = {'탱크보이': 1200, '폴라포': 1200, '빵빠레': 1800, '월드콘': 1500, '메로나': 1000}\n",
    "new_product = {'팥빙수':2700, '아맛나':1000}\n",
    "\n",
    "for key, value in new_product.items():\n",
    "    icecream[key] = value\n",
    "\n",
    "print(icecream)"
   ]
  },
  {
   "cell_type": "code",
   "execution_count": 21,
   "metadata": {},
   "outputs": [
    {
     "name": "stdout",
     "output_type": "stream",
     "text": [
      "2000.28\n",
      "3050.427\n",
      "2050.2870000000003\n",
      "1980.2772\n",
      "7501.05\n",
      "2050.2870000000003\n",
      "2050.2870000000003\n",
      "1980.2772\n",
      "15452.163\n",
      "15052.107\n",
      "15552.177\n",
      "14902.086000000001\n"
     ]
    }
   ],
   "source": [
    "'''\n",
    "7. data에는 매수한 종목들의 OHLC (open/high/low/close) 가격 정보가 바인딩 되어있다.\n",
    "'''\n",
    "data = [\n",
    "    [ 2000,  3050,  2050,  1980],\n",
    "    [ 7500,  2050,  2050,  1980],\n",
    "    [15450, 15050, 15550, 14900]\n",
    "]\n",
    "'''\n",
    "수수료를 0.014 %로 가정할 때, 각 가격에 수수료를 포함한 가격을 한라인에 하나씩 출력하라.\n",
    "\n",
    "2000.28\n",
    "3050.427\n",
    "2050.2870000000003\n",
    "'''\n",
    "for i in range(len(data)):\n",
    "    for j in range(len(data[i])):\n",
    "        print(data[i][j] * 1.00014)\n"
   ]
  },
  {
   "cell_type": "code",
   "execution_count": 23,
   "metadata": {},
   "outputs": [
    {
     "name": "stdout",
     "output_type": "stream",
     "text": [
      "2000.28\n",
      "3050.427\n",
      "2050.2870000000003\n",
      "1980.2772\n",
      "----\n",
      "7501.05\n",
      "2050.2870000000003\n",
      "2050.2870000000003\n",
      "1980.2772\n",
      "----\n",
      "15452.163\n",
      "15052.107\n",
      "15552.177\n",
      "14902.086000000001\n",
      "----\n"
     ]
    }
   ],
   "source": [
    "'''\n",
    "8. 7번의 출력 결과에 행단위로 \"----\" 구분자를 추가하라.\n",
    "\n",
    "2000.28\n",
    "3050.427\n",
    "2050.2870000000003\n",
    "1980.2772\n",
    "----\n",
    "7501.05\n",
    "2050.2870000000003\n",
    "2050.2870000000003\n",
    "1980.2772\n",
    "----\n",
    "15452.163\n",
    "15052.107\n",
    "15552.177\n",
    "14902.086000000001\n",
    "----\n",
    "'''\n",
    "\n",
    "data = [\n",
    "    [ 2000,  3050,  2050,  1980],\n",
    "    [ 7500,  2050,  2050,  1980],\n",
    "    [15450, 15050, 15550, 14900]\n",
    "]\n",
    "\n",
    "for i in range(len(data)):\n",
    "    for j in range(len(data[i])):\n",
    "        print(data[i][j] * 1.00014)\n",
    "    print(\"----\")"
   ]
  },
  {
   "cell_type": "code",
   "execution_count": 24,
   "metadata": {},
   "outputs": [
    {
     "name": "stdout",
     "output_type": "stream",
     "text": [
      "100\n",
      "190\n",
      "310\n"
     ]
    }
   ],
   "source": [
    "'''\n",
    "9. ohlc 리스트에는 시가(open), 고가 (high), 저가 (low) , 종가(close)가 날짜별로 저장돼 있다. 화면에 종가데이터를 출력하라.\n",
    "'''\n",
    "ohlc = [[\"open\", \"high\", \"low\", \"close\"],\n",
    "        [100, 110, 70, 100],\n",
    "        [200, 210, 180, 190],\n",
    "        [300, 310, 300, 310]]\n",
    "'''\n",
    "100\n",
    "190\n",
    "310\n",
    "'''\n",
    "\n",
    "for i in range(1, 4):\n",
    "    print(ohlc[i][3])\n"
   ]
  },
  {
   "cell_type": "code",
   "execution_count": 25,
   "metadata": {},
   "outputs": [
    {
     "name": "stdout",
     "output_type": "stream",
     "text": [
      "190\n",
      "310\n"
     ]
    }
   ],
   "source": [
    "#10. ohlc 리스트에는 시가(open), 고가 (high), 저가 (low) , 종가(close)가 날짜별로 저장돼 있다. 종가가 150원보다 큰경우에만 종가를 출력하라.\n",
    "\n",
    "ohlc = [[\"open\", \"high\", \"low\", \"close\"],\n",
    "        [100, 110, 70, 100],\n",
    "        [200, 210, 180, 190],\n",
    "        [300, 310, 300, 310]]\n",
    "'''\n",
    "190\n",
    "310\n",
    "'''\n",
    "\n",
    "for i in range(1, 4):\n",
    "    if ohlc[i][3] > 150:\n",
    "        print(ohlc[i][3])"
   ]
  },
  {
   "cell_type": "code",
   "execution_count": 26,
   "metadata": {},
   "outputs": [
    {
     "name": "stdout",
     "output_type": "stream",
     "text": [
      "100\n",
      "310\n"
     ]
    }
   ],
   "source": [
    "#11. ohlc 리스트에는 시가(open), 고가 (high), 저가 (low) , 종가(close)가 날짜별로 저장돼 있다. 종가가 시가 보다 크거나 같은 경우에만 종가를 출력하라.\n",
    "ohlc = [[\"open\", \"high\", \"low\", \"close\"],\n",
    "        [100, 110, 70, 100],\n",
    "        [200, 210, 180, 190],\n",
    "        [300, 310, 300, 310]]\n",
    "'''\n",
    "100\n",
    "310\n",
    "'''\n",
    "\n",
    "for i in range(1, 4):\n",
    "    if ohlc[i][3] >= ohlc[i][0]:\n",
    "        print(ohlc[i][3])"
   ]
  },
  {
   "cell_type": "code",
   "execution_count": 29,
   "metadata": {},
   "outputs": [
    {
     "name": "stdout",
     "output_type": "stream",
     "text": [
      "[40, 30, 10]\n"
     ]
    }
   ],
   "source": [
    "#12. ohlc 리스트에는 시가(open), 고가 (high), 저가 (low) , 종가(close)가 날짜별로 저장돼 있다. 고가와 저가의 차이를 변동폭으로 정의할 때 변동폭을 volatility 이름의 리스트에 저장하라.\n",
    "ohlc = [[\"open\", \"high\", \"low\", \"close\"],\n",
    "        [100, 110, 70, 100],\n",
    "        [200, 210, 180, 190],\n",
    "        [300, 310, 300, 310]]\n",
    "'''\n",
    ">> print(volatility)\n",
    "[40, 30, 10]\n",
    "'''\n",
    "volatility = []\n",
    "\n",
    "for i in range(1, 4):\n",
    "    volatility += [ohlc[i][1] - ohlc[i][2]]\n",
    "\n",
    "print(volatility)"
   ]
  },
  {
   "cell_type": "code",
   "execution_count": 30,
   "metadata": {},
   "outputs": [
    {
     "name": "stdout",
     "output_type": "stream",
     "text": [
      "10\n"
     ]
    }
   ],
   "source": [
    "#13. 리스트에는 3일 간의 ohlc 데이터가 저장돼 있다. 종가가 시가보다 높은 날의 변동성 (고가 - 저가)을 화면에 출력하라.\n",
    "ohlc = [[\"open\", \"high\", \"low\", \"close\"],\n",
    "        [100, 110, 70, 100],\n",
    "        [200, 210, 180, 190],\n",
    "        [300, 310, 300, 310]\n",
    "]\n",
    "#종가가 시가보다 높은 거래일의 OHLC는 [300, 310, 300, 310] 이다. 따라서 이 거래일의 변동성은 10 (310 - 300)이다.\n",
    "\n",
    "for i in range(1, 4):\n",
    "    if ohlc[i][3] > ohlc[i][0]:\n",
    "        print(ohlc[i][1] - ohlc[i][2])"
   ]
  },
  {
   "cell_type": "markdown",
   "metadata": {},
   "source": [
    "2025-01-09 회고"
   ]
  },
  {
   "cell_type": "code",
   "execution_count": null,
   "metadata": {},
   "outputs": [],
   "source": [
    "# 9. 국영수 를 입력 받아, 평균과 총점 ,성적을 출력 프로그램을 작성하시오\n",
    "# 객체지향적으로(클래스 활용하여) 프로그램밍 하시오.\n",
    "\n",
    "class Grade:\n",
    "    def __init__(self,kor,eng,math):\n",
    "        self.kor = kor\n",
    "        self.eng = eng\n",
    "        self.math = math\n",
    "\n",
    "    def get_total(self):\n",
    "        return self.kor + self.eng + self.math\n",
    "\n",
    "    def get_avg(self):\n",
    "        return self.get_total() / 3\n",
    "\n",
    "    def get_grade(self):\n",
    "\n",
    "        avg = self.get_avg()\n",
    "\n",
    "        if avg >= 90:\n",
    "            grade = '수'\n",
    "        elif avg >= 80:\n",
    "            grade = '우'\n",
    "        elif avg >= 70:\n",
    "            grade = '미'\n",
    "        elif avg >= 60:\n",
    "            grade = '양'\n",
    "        else:\n",
    "            grade ='가'\n",
    "\n",
    "        return grade\n",
    "\n",
    "\n",
    "def main():\n",
    "    while True:\n",
    "        kor = int(input(\"국어 점수 입력 : \"))\n",
    "        eng = int(input(\"영어 점수 입력 : \"))\n",
    "        math = int(input(\"수학 점수 입력 : \"))\n",
    "    \n",
    "        grade = Grade(kor,eng,math)\n",
    "\n",
    "        print(\"총점 : \",grade.get_total())\n",
    "        print(\"평균 : \",grade.get_avg())\n",
    "        print(\"학점 : \",grade.get_grade())\n",
    "\n",
    "        continue_yn = input(\"계속 하시겠습니까? (y/n) : \")\n",
    "\n",
    "        if continue_yn.upper() != 'Y' and continue_yn.upper() != 'YES':\n",
    "            break\n",
    "\n",
    "main()"
   ]
  },
  {
   "cell_type": "code",
   "execution_count": null,
   "metadata": {},
   "outputs": [],
   "source": [
    "# 10.클래스 정의\n",
    "# 비어있는 사람 (Human) 클래스를 \"정의\" 해보세요.\n",
    "\n",
    "class Human:\n",
    "    pass"
   ]
  },
  {
   "cell_type": "code",
   "execution_count": null,
   "metadata": {},
   "outputs": [],
   "source": [
    "# 11. 인스턴스 생성\n",
    "# 사람 (Human) 클래스의 인스턴스를 \"생성\" 하고 이를 areum 변수로 바인딩해보세요.\n",
    "\n",
    "class Human:\n",
    "    pass\n",
    "\n",
    "areum = Human()"
   ]
  },
  {
   "cell_type": "code",
   "execution_count": 1,
   "metadata": {},
   "outputs": [
    {
     "name": "stdout",
     "output_type": "stream",
     "text": [
      "응애응애\n"
     ]
    }
   ],
   "source": [
    "# 12. 클래스 생성자-1\n",
    "# 사람 (Human) 클래스에 \"응애응애\"를 출력하는 생성자를 추가하세요.\n",
    "\n",
    "class Human:\n",
    "    def __init__(self):\n",
    "        print(\"응애응애\")\n",
    "\n",
    "areum = Human()"
   ]
  },
  {
   "cell_type": "code",
   "execution_count": 3,
   "metadata": {},
   "outputs": [
    {
     "name": "stdout",
     "output_type": "stream",
     "text": [
      "응애응애\n",
      "조아름 25 여자\n"
     ]
    }
   ],
   "source": [
    "# 13. 인스턴스 속성에 접근\n",
    "# 12.에서 생성한 인스턴스의 이름, 나이, 성별을 출력하세요. 인스턴스 변수에 접근하여 값을 출력하면 됩니다.\n",
    "\n",
    "class Human:\n",
    "    def __init__(self, name, age, sex):\n",
    "        self.name = name\n",
    "        self.age = age\n",
    "        self.sex = sex\n",
    "        print(\"응애응애\")\n",
    "\n",
    "\n",
    "areum = Human(\"조아름\", 25, \"여자\")\n",
    "print(areum.name, areum.age, areum.sex)\n"
   ]
  },
  {
   "cell_type": "code",
   "execution_count": null,
   "metadata": {},
   "outputs": [],
   "source": [
    "# 14. 클래스 메소드 - 1\n",
    "# 사람 (Human) 클래스에서 이름, 나이, 성별을 출력하는 who() 메소드를 추가하세요.\n",
    "\n",
    "class Human:\n",
    "    def __init__(self, name, age, sex):\n",
    "        self.name = name\n",
    "        self.age = age\n",
    "        self.sex = sex\n",
    "        print(\"응애응애\")\n",
    "\n",
    "    def who(self):\n",
    "        print(\"이름 :\", self.name)\n",
    "        print(\"나이 :\", self.age)\n",
    "        print(\"성별 :\", self.sex)\n",
    "\n",
    "areum = Human(\"조아름\", 25, \"여자\")\n",
    "areum.who()"
   ]
  },
  {
   "cell_type": "code",
   "execution_count": null,
   "metadata": {},
   "outputs": [],
   "source": [
    "# 15. 생성자\n",
    "# Stock 클래스의 객체가 생성될 때 종목명과 종목코드를 입력 받을 수 있도록 생성자를 정의해보세요.\n",
    "\n",
    "class Stock:\n",
    "    def __init__(self, name, code):\n",
    "        self.name = name\n",
    "        self.code = code\n",
    "\n"
   ]
  },
  {
   "cell_type": "code",
   "execution_count": 4,
   "metadata": {},
   "outputs": [],
   "source": [
    "# 16. 메서드\n",
    "# 객체에 종목명을 입력할 수 있는 set_name 메서드를 추가해보세요.\n",
    "\n",
    "class Stock:\n",
    "    def __init__(self, name, code):\n",
    "        self.name = name\n",
    "        self.code = code\n",
    "    \n",
    "    def set_name(self, name):\n",
    "        self.name = name\n",
    "\n",
    "a = Stock(None, None)\n",
    "a.set_name(\"삼성전자\")"
   ]
  },
  {
   "cell_type": "code",
   "execution_count": 5,
   "metadata": {},
   "outputs": [
    {
     "name": "stdout",
     "output_type": "stream",
     "text": [
      "삼성전자\n",
      "005930\n"
     ]
    }
   ],
   "source": [
    "# 17. 메서드\n",
    "# 종목명과 종목코드를 리턴하는 get_name, get_code 메서드를 추가하세요. 해당 메서드를 사용하여 종목명과 종목코드를 얻고 이를 출력해보세요.\n",
    "\n",
    "class Stock:\n",
    "    def __init__(self, name, code):\n",
    "        self.name = name\n",
    "        self.code = code\n",
    "    \n",
    "    def set_name(self, name):\n",
    "        self.name = name\n",
    "    \n",
    "    def get_name(self):\n",
    "        return self.name\n",
    "    def get_code(self):\n",
    "        return self.code\n",
    "    \n",
    "samsung = Stock(\"삼성전자\", \"005930\")\n",
    "\n",
    "print(samsung.get_name())\n",
    "print(samsung.get_code())"
   ]
  },
  {
   "cell_type": "code",
   "execution_count": 6,
   "metadata": {},
   "outputs": [],
   "source": [
    "# 18. 객체 생성\n",
    "# 266번에서 정의한 생성자를 통해 다음 정보를 갖는 객체를 생성해보세요.\n",
    "\n",
    "class Stock:\n",
    "    def __init__(self, name, code, per, pbr, 배당수익률):\n",
    "        self.name = name\n",
    "        self.code = code\n",
    "        self.per = per\n",
    "        self.pbr = pbr\n",
    "        self.배당수익률 = 배당수익률\n",
    "\n",
    "    def set_name(self, name):\n",
    "        self.name = name\n",
    "\n",
    "    def set_code(self, code):\n",
    "        self.code = code\n",
    "\n",
    "    def get_name(self):\n",
    "        return self.name\n",
    "\n",
    "    def get_code(self):\n",
    "        return self.code\n",
    "\n",
    "samsung = Stock(\"삼성전자\", \"005930\", 15.79, 1.33, 2.83)"
   ]
  },
  {
   "cell_type": "code",
   "execution_count": 7,
   "metadata": {},
   "outputs": [
    {
     "name": "stdout",
     "output_type": "stream",
     "text": [
      "005930 15.79\n",
      "005380 8.7\n",
      "066570 317.34\n"
     ]
    }
   ],
   "source": [
    "# 19. 여러 종목의 객체 생성\n",
    "'''\n",
    "아래의 표를 참조하여 3종목에 대해 객체를 생성하고 이를 파이썬 리스트에 저장하세요. 파이썬 리스트에 저장된 각 종목에 대해 for 루프를 통해 종목코드와 PER을 출력해보세요.\n",
    "\n",
    "종목명\t종목코드\tPER\tPBR\t배당수익률\n",
    "삼성전자\t005930\t15.79\t1.33\t2.83\n",
    "현대차\t005380\t8.70\t0.35\t4.27\n",
    "LG전자\t066570\t317.34\t0.69\t1.37\n",
    "'''\n",
    "class Stock:\n",
    "    def __init__(self, name, code, per, pbr, 배당수익률):\n",
    "        self.name = name\n",
    "        self.code = code\n",
    "        self.per = per\n",
    "        self.pbr = pbr\n",
    "        self.배당수익률 = 배당수익률\n",
    "\n",
    "    def set_name(self, name):\n",
    "        self.name = name\n",
    "\n",
    "    def set_code(self, code):\n",
    "        self.code = code\n",
    "\n",
    "    def get_name(self):\n",
    "        return self.name\n",
    "\n",
    "    def get_code(self):\n",
    "        return self.code\n",
    "\n",
    "samsung = Stock(\"삼성전자\", \"005930\", 15.79, 1.33, 2.83)\n",
    "hyundai = Stock(\"현대차\", \"005380\",\t8.70, 0.35, 4.27)\n",
    "lg = Stock(\"LG전자\", \"066570\", 317.34, 0.69, 1.37)\n",
    "\n",
    "stock = [samsung, hyundai, lg]\n",
    "\n",
    "for i in stock:\n",
    "    print(i.code, i.per)"
   ]
  },
  {
   "cell_type": "code",
   "execution_count": 22,
   "metadata": {},
   "outputs": [
    {
     "name": "stdout",
     "output_type": "stream",
     "text": [
      "0.923437435498222\n",
      "5\n",
      "6\n",
      "[5, 1, 4, 2, 3]\n",
      "5\n",
      "비빔밥\n"
     ]
    },
    {
     "data": {
      "text/plain": [
       "False"
      ]
     },
     "execution_count": 22,
     "metadata": {},
     "output_type": "execute_result"
    }
   ],
   "source": [
    "# 로또\n",
    "# 1 - 45번까지 번호 6개 추출\n",
    "\n",
    "import random\n",
    "\n",
    "print(random.random()) # 0 이상 1 미만의 임의의 실수 반환\n",
    "\n",
    "# 1 ~ 7 미만의 난수\n",
    "print(random.randrange(1, 7))\n",
    "\n",
    "# 1_ 6까지\n",
    "print(random.randint(1, 6))\n",
    "\n",
    "abc = [1, 2, 3, 4, 5] # 데이터를 섞음\n",
    "random.shuffle(abc)\n",
    "print(abc)\n",
    "\n",
    "\n",
    "print(random.choice(abc))\n",
    "\n",
    "menu = ('쫄면', '육계장', '비빔밥')\n",
    "print(random.choice(menu))\n",
    "\n",
    "random.choice([True, False])"
   ]
  },
  {
   "cell_type": "code",
   "execution_count": 33,
   "metadata": {},
   "outputs": [
    {
     "name": "stdout",
     "output_type": "stream",
     "text": [
      "[10, 7, 42, 31, 37, 27]\n"
     ]
    }
   ],
   "source": [
    "# 로또 만들기\n",
    "# 1 - 45번까지 번호 6개 추출\n",
    "'''\n",
    "1. 리스트로 출력\n",
    "2. 중복을 제거 할것\n",
    "3. 로직 작성시 for 문으로 리스트에 제공하는 함수등으로 구성할 것\n",
    "'''\n",
    "import random\n",
    "\n",
    "class LottoNum:\n",
    "    def __init__(self):\n",
    "        self.lotto = []\n",
    "\n",
    "    def get_lotto_nums(self): \n",
    "        while len(self.lotto) < 6:\n",
    "            num = random.randrange(1, 45)\n",
    "            \n",
    "            if num not in self.lotto:\n",
    "                self.lotto.append(num)\n",
    "\n",
    "        return self.lotto\n",
    "    \n",
    "\n",
    "lotto = LottoNum()\n",
    "\n",
    "print(lotto.get_lotto_nums())"
   ]
  },
  {
   "cell_type": "code",
   "execution_count": null,
   "metadata": {},
   "outputs": [
    {
     "name": "stdout",
     "output_type": "stream",
     "text": [
      "잘못된 입력입니다.\n",
      "잘못된 입력입니다.\n",
      "125 주사위 숫자는 : 5\n",
      "어ㅐ주 주사위 숫자는 : 1\n",
      "125 가 이겼습니다.\n"
     ]
    }
   ],
   "source": [
    "# 주사위 게임\n",
    "'''\n",
    "첫번째 참가자의 이름을 입력.\n",
    "영희\n",
    "두번째 참가자의 이름을 입력.\n",
    "철수\n",
    "\n",
    "영희 주사위 숫자는 : 6\n",
    "철수 주사위 숫자는 : 5\n",
    "영희가 이겼습니다\n",
    "'''\n",
    "import random\n",
    "\n",
    "class DiceGame:\n",
    "    def __init__(self):\n",
    "        while True:\n",
    "            try:\n",
    "                self.player1 = input(\"첫번째 참가자의 이름을 입력해주세요\")\n",
    "                self.player2 = input(\"두번째 참가자의 이름을 입력해주세요\")\n",
    "            \n",
    "            except:\n",
    "                print(\"잘못된 입력입니다.\")\n",
    "                continue\n",
    "            \n",
    "            break\n",
    "            \n",
    "    def run(self):\n",
    "        player1_num = random.randint(1, 6)\n",
    "        player2_num = random.randint(1, 6)\n",
    "\n",
    "        print(self.player1, \"주사위 숫자는 :\", player1_num)\n",
    "        print(self.player2, \"주사위 숫자는 :\", player2_num)\n",
    "\n",
    "        if player1_num > player2_num:\n",
    "            print(self.player1, \"가 이겼습니다.\")\n",
    "        elif player1_num < player2_num:\n",
    "            print(self.player2, \"가 이겼습니다.\")\n",
    "        else:\n",
    "            print(\"비겼습니다\")\n",
    "\n",
    "\n",
    "dice_game = DiceGame()\n",
    "dice_game.run()\n"
   ]
  },
  {
   "cell_type": "code",
   "execution_count": 40,
   "metadata": {},
   "outputs": [
    {
     "name": "stdout",
     "output_type": "stream",
     "text": [
      "잘못된 입력입니다. invalid literal for int() with base 10: 'j'\n",
      "국어 :  90\n",
      "총점 :  240\n",
      "평균 :  80.0\n",
      "학점 :  우\n",
      "프로그램 종료\n"
     ]
    }
   ],
   "source": [
    "# 5. 예외처리 구문을 넣으시오.\n",
    "\n",
    "class Grade:\n",
    "    def __init__(self,kor,eng,math):\n",
    "        self.kor = kor\n",
    "        self.eng = eng\n",
    "        self.math = math\n",
    "\n",
    "    def get_total(self):\n",
    "        return self.kor + self.eng + self.math\n",
    "\n",
    "    def get_avg(self):\n",
    "        return self.get_total() / 3\n",
    "\n",
    "    def get_grade(self):\n",
    "\n",
    "        avg = self.get_avg()\n",
    "\n",
    "        if avg >= 90:\n",
    "            grade = '수'\n",
    "        elif avg >= 80:\n",
    "            grade = '우'\n",
    "        elif avg >= 70:\n",
    "            grade = '미'\n",
    "        elif avg >= 60:\n",
    "            grade = '양'\n",
    "        else:\n",
    "            grade ='가'\n",
    "\n",
    "        return grade\n",
    "    \n",
    "def main():\n",
    "\n",
    "    while True:\n",
    "        try:\n",
    "            kor = int(input(\"국어 점수 입력 : \"))\n",
    "            eng = int(input(\"영어 점수 입력 : \"))\n",
    "            math = int(input(\"수학 점수 입력 : \"))\n",
    "        except ValueError as msg:\n",
    "            print(\"잘못된 입력입니다.\", msg)\n",
    "            continue\n",
    "        grade = Grade(kor,eng,math)        \n",
    "\n",
    "        print(\"국어 : \",grade.kor)\n",
    "\n",
    "        print(\"총점 : \",grade.get_total())\n",
    "        print(\"평균 : \",grade.get_avg())\n",
    "        print(\"학점 : \",grade.get_grade())\n",
    "\n",
    "        continue_yn = input(\"계속 하시겠습니까? (y/n) : \")\n",
    "        #y,yes,Yes,Y,yes\n",
    "        if continue_yn.upper() != 'Y' and continue_yn.upper() != 'YES' :\n",
    "            break\n",
    "\n",
    "    print(\"프로그램 종료\")\n",
    "\n",
    "main()"
   ]
  },
  {
   "cell_type": "code",
   "execution_count": 2,
   "metadata": {},
   "outputs": [
    {
     "name": "stdout",
     "output_type": "stream",
     "text": [
      "UP\n",
      "UP\n",
      "UP\n",
      "UP\n",
      "UP\n",
      "UP\n",
      "UP\n",
      "UP\n",
      "UP\n",
      "UP\n",
      "패배하였습니다.\n",
      "프로그램 종료\n"
     ]
    }
   ],
   "source": [
    "'''\n",
    "6. 아래의 업다운 게임을 짜시오\n",
    "예외처리 꼭 부탁드립니다.\n",
    "\n",
    "내용:\n",
    "시도 횟수는 10번으로 정하도록 하겠습니다.\n",
    "\n",
    "플레이어와 컴퓨터가 참여하는 업다운 게임을 만드세요.\n",
    "프로그램은 다음과 같은 기능을 포함해야 합니다.\n",
    "컴퓨터는 1부터 100 사이의 랜덤한 숫자를 생성합니다.\n",
    "플레이어는 숫자를 입력하고, 입력한 숫자와 컴퓨터의 숫자를 비교하여 \"업\" 또는 \"다운\" 힌트를 제공합니다.\n",
    "플레이어가 컴퓨터의 숫자를 정확히 맞히면 시도한 횟수를 알려줍니다.\n",
    "플레이어가 숫자를 맞힐 때까지 위 과정을 반복합니다.\n",
    "\n",
    "시도횟수가 10번이 지나면 게임 실패 입니다.\n",
    "\n",
    "game = UpDownGame()\n",
    "game.run()\n",
    "\n",
    "출력\n",
    "91\n",
    "1~100 사이의 숫자를 입력하세요. 90\n",
    "UP\n",
    "\n",
    "1~100 사이의 숫자를 입력하세요. 92\n",
    "DOWN\n",
    "\n",
    "1~100 사이의 숫자를 입력하세요. 91\n",
    "정답입니다.\n",
    "===============================\n",
    "'''\n",
    "import random\n",
    "\n",
    "class UpDownGame:\n",
    "    def __init__(self):\n",
    "        self.count = 0\n",
    "        self.ans = random.randint(1, 100)\n",
    "\n",
    "    def set_player_answer(self, player_answer):\n",
    "        self.player_answer = player_answer\n",
    "    \n",
    "    def run(self):\n",
    "        if self.ans > self.player_answer:\n",
    "            print(\"UP\")\n",
    "            self.count += 1\n",
    "        elif self.ans < self.player_answer:\n",
    "            print(\"DOWN\")\n",
    "            self.count += 1\n",
    "        else:\n",
    "            print(\"정답입니다!\")\n",
    "            self.count = -1\n",
    "\n",
    "def main():\n",
    "    while True:\n",
    "        game = UpDownGame()\n",
    "        while True:\n",
    "            try:\n",
    "                answer = int(input(\"정답을 적어주세요 :\"))\n",
    "            except:\n",
    "                print(\"잘못된 입력입니다.\")\n",
    "                continue\n",
    "            \n",
    "            game.set_player_answer(answer)\n",
    "\n",
    "            game.run()\n",
    "\n",
    "            if game.count == -1:\n",
    "                break\n",
    "            elif game.count == 10:\n",
    "                print(\"패배하였습니다.\")\n",
    "                break\n",
    "\n",
    "        continue_yn = input(\"계속 하시겠습니까? (y/n) : \")\n",
    "        #y,yes,Yes,Y,yes\n",
    "        if continue_yn.upper() != 'Y' and continue_yn.upper() != 'YES' :\n",
    "            break\n",
    "\n",
    "    print(\"프로그램 종료\")\n",
    "\n",
    "main()\n",
    "\n",
    "            \n",
    "                "
   ]
  },
  {
   "cell_type": "code",
   "execution_count": 1,
   "metadata": {},
   "outputs": [
    {
     "name": "stdout",
     "output_type": "stream",
     "text": [
      "잘못된 입력입니다.\n",
      "잘못된 입력입니다.\n",
      "컴퓨터는 가위 를 냈습니다.\n",
      "플레이어는 가위 를 냈습니다.\n",
      "무승부\n",
      "게임이 끝났습니다.\n",
      "프로그램 종료\n"
     ]
    }
   ],
   "source": [
    "# 8.가위 바위보 게임을 만드시오\n",
    "\n",
    "'''\n",
    "game = RSPGame()\n",
    "game.run()\n",
    "\n",
    "\n",
    "가위 바위 보 게임\n",
    "가위 바위 보를 하는 게임 입니다.\n",
    "\n",
    "가위 바위 보 중 하나를 입력하세요: 가위\n",
    "컴퓨터는 가위를 냈습니다.\n",
    "\n",
    "플레이어는 가위를 냈습니다.\n",
    "무승부\n",
    "\n",
    "계속 하시겠습니까? yes\n",
    "\n",
    "가위 바위 보 게임\n",
    "가위 바위 보를 하는 게임 입니다.\n",
    "\n",
    "가위 바위 보 중 하나를 입력하세요: 가위\n",
    "컴퓨터는 가위를 냈습니다.\n",
    "\n",
    "플레이어는 가위를 냈습니다.\n",
    "무승부\n",
    "\n",
    "계속 하시겠습니까? no\n",
    "\n",
    "게임이 끝났습니다.\n",
    "'''\n",
    "import random\n",
    "\n",
    "class RSPGame:\n",
    "    def __init__(self):\n",
    "        self.rsp = (\"가위\", \"바위\", \"보\")\n",
    "        self.player_rsp = \"\"\n",
    "    \n",
    "    def get_rsp(self, rsp):\n",
    "        self.player_rsp = rsp\n",
    "\n",
    "    def run(self):\n",
    "        com_rsp = random.choice(self.rsp)\n",
    "\n",
    "        print(\"컴퓨터는\", com_rsp, \"를 냈습니다.\")\n",
    "        print(\"플레이어는\", self.player_rsp, \"를 냈습니다.\")\n",
    "\n",
    "        if com_rsp == self.player_rsp:\n",
    "            print(\"무승부\")\n",
    "        elif (com_rsp == \"가위\" and self.player_rsp == \"바위\") or (com_rsp == \"바위\" and self.player_rsp == \"보\") or (com_rsp == \"보\" and self.player_rsp == \"가위\"):\n",
    "            print(\"플레이어 승리\")\n",
    "        else:\n",
    "            print(\"컴퓨터 승리\")\n",
    "\n",
    "'''\n",
    "class RspGame:\n",
    "    def init(self):\n",
    "        #self.rsp_list = ['가위','바위','보']\n",
    "\n",
    "        self.dic_rsp_result= {\n",
    "            '가위':('바위',\"승\"),\n",
    "            '바위':('보',\"승\"),\n",
    "            '보':('가위',\"승\"),\n",
    "        }\n",
    "\n",
    "        self.computer = None #\n",
    "        self.user = None # \n",
    "\n",
    "    def set_rsp(self):\n",
    "\n",
    "        while True:\n",
    "            try:\n",
    "                self.user = input(\"가위바위보를 입력하세요\")\n",
    "\n",
    "                if self.user in self.dic_rsp_result.keys(): #self.rsp_list:\n",
    "                    break;\n",
    "\n",
    "                print(\"잘못된 입력입니다. 가위바위보중 하나만 입력하세요\")\n",
    "\n",
    "            except:\n",
    "                 print(\"잘못된 입력입니다. 가위바위보중 하나만 입력하세요\")\n",
    "                 continue\n",
    "\n",
    "        self.computer = random.choice(list(self.dic_rsp_result.keys()))\n",
    "\n",
    "    def rsp_result(self):\n",
    "\n",
    "        if self.computer == self.user:\n",
    "            return \"비겼습니다.\"\n",
    "        elif self.dic_rsp_result[self.computer][0] == self.user:\n",
    "            return \"유저 당신이 이겼습니다.\"\n",
    "        else:\n",
    "            return \"유저 당신이 졌습니다..\"\n",
    "\n",
    "    def run(self):\n",
    "        while True:\n",
    "            self.set_rsp()\n",
    "            print(\"사용자 : \",self.user)\n",
    "            print(\"컴퓨터 : \",self.computer)\n",
    "            print(self.rsp_result())\n",
    "\n",
    "            continue_yn = input(\"계속 하시겠습니까? (y/n) : \")\n",
    "\n",
    "            if continue_yn.upper() not in ['Y', 'YES'] :\n",
    "                break\n",
    "\n",
    "\n",
    "rsp = RspGame()\n",
    "rsp.run()\n",
    "'''\n",
    "\n",
    "\n",
    "\n",
    "def main():\n",
    "    while True:\n",
    "        game = RSPGame()\n",
    "\n",
    "        try:\n",
    "            rsp = input(\"가위 바위 보 중 하나를 입력하세요 : \")\n",
    "            if rsp not in (\"가위\", \"바위\", \"보\"):\n",
    "                print(\"잘못된 입력입니다.\")\n",
    "                continue\n",
    "        except:\n",
    "            print(\"잘못된 입력입니다.\")\n",
    "            continue\n",
    "\n",
    "        game.get_rsp(rsp)\n",
    "\n",
    "        game.run()\n",
    "\n",
    "        print(\"게임이 끝났습니다.\")\n",
    "\n",
    "        continue_yn = input(\"계속 하시겠습니까? (y/n) : \")\n",
    "        #y,yes,Yes,Y,yes\n",
    "        if continue_yn.upper() != 'Y' and continue_yn.upper() != 'YES' :\n",
    "            print(\"프로그램 종료\")\n",
    "            break\n",
    "\n",
    "main()"
   ]
  },
  {
   "cell_type": "code",
   "execution_count": 1,
   "metadata": {},
   "outputs": [
    {
     "name": "stdout",
     "output_type": "stream",
     "text": [
      "7\n"
     ]
    }
   ],
   "source": [
    "'''\n",
    "10. 아래가 에러가 나는 이유와 에러가 나지 않게 수정하시오.?\n",
    "class Sentence :    \n",
    "    def __init__(self, s) :        \n",
    "           self.words = s.split()\n",
    "\n",
    "s = Sentence('Sometimes bad things happen to good people’)\n",
    "\n",
    "\n",
    "print(len(s))  # TypeError: object of type 'Sentence' has no len()\n",
    "'''\n",
    "class Sentence :    \n",
    "    def __init__(self, s) :        \n",
    "           self.words = s.split()\n",
    "\n",
    "    def __len__(self):\n",
    "        return len(self.words)\n",
    "\n",
    "\n",
    "s = Sentence('Sometimes bad things happen to good people')\n",
    "\n",
    "\n",
    "print(len(s))  # TypeError: object of type 'Sentence' has no len()\n"
   ]
  },
  {
   "cell_type": "code",
   "execution_count": 2,
   "metadata": {},
   "outputs": [
    {
     "name": "stdout",
     "output_type": "stream",
     "text": [
      "7\n",
      "차량번호는 32러5234입니다\n"
     ]
    }
   ],
   "source": [
    "'''\n",
    "11. 아래를 코딩 하시오 \n",
    "c = Car(\"32러5234\")\n",
    "print(len(c))  #7 = 차량 번호의 길이가 반환됨 \n",
    "print(str(c))  #  차량번호는 32러5234 입니다\n",
    "'''\n",
    "\n",
    "class Car:\n",
    "    def __init__(self, car_num):\n",
    "        self.car_num = car_num\n",
    "\n",
    "    def __len__(self):\n",
    "        return len(self.car_num)\n",
    "\n",
    "    def __str__(self):\n",
    "        return \"차량번호는 \" + self.car_num + \"입니다\"\n",
    "    \n",
    "c = Car(\"32러5234\")\n",
    "print(len(c))\n",
    "print(str(c))"
   ]
  },
  {
   "cell_type": "markdown",
   "metadata": {},
   "source": [
    "2025-01-13"
   ]
  },
  {
   "cell_type": "code",
   "execution_count": 2,
   "metadata": {},
   "outputs": [
    {
     "name": "stdout",
     "output_type": "stream",
     "text": [
      "{33, 38, 20, 23, 25, 26}\n"
     ]
    }
   ],
   "source": [
    "import random\n",
    "\n",
    "def lotto():\n",
    "    lotto = set()\n",
    "    while len(lotto) < 6:\n",
    "        lotto.add(random.randint(1, 45))\n",
    "    print(lotto)\n",
    "\n",
    "lotto()"
   ]
  },
  {
   "cell_type": "code",
   "execution_count": 3,
   "metadata": {},
   "outputs": [
    {
     "name": "stdout",
     "output_type": "stream",
     "text": [
      "7\n",
      "차량번호는:32러5234\n"
     ]
    }
   ],
   "source": [
    "class Car:\n",
    "    def __init__(self, car_num):\n",
    "        self.car_num = car_num\n",
    "\n",
    "    def __len__(self):\n",
    "        return len(self.car_num)\n",
    "    \n",
    "    def __str__(self):\n",
    "        return \"차량번호는:\" + self.car_num\n",
    "\n",
    "c = Car(\"32러5234\")\n",
    "print(len(c)) # 7\n",
    "print(c) # \"차량번호는:\"  32러5234"
   ]
  },
  {
   "cell_type": "code",
   "execution_count": 9,
   "metadata": {},
   "outputs": [
    {
     "name": "stdout",
     "output_type": "stream",
     "text": [
      "['2 * 2 = 4', '2 * 3 = 6', '2 * 4 = 8', '2 * 5 = 10', '2 * 6 = 12', '2 * 7 = 14', '2 * 8 = 16', '2 * 9 = 18', '3 * 2 = 6', '3 * 3 = 9', '3 * 4 = 12', '3 * 5 = 15', '3 * 6 = 18', '3 * 7 = 21', '3 * 8 = 24', '3 * 9 = 27', '4 * 2 = 8', '4 * 3 = 12', '4 * 4 = 16', '4 * 5 = 20', '4 * 6 = 24', '4 * 7 = 28', '4 * 8 = 32', '4 * 9 = 36', '5 * 2 = 10', '5 * 3 = 15', '5 * 4 = 20', '5 * 5 = 25', '5 * 6 = 30', '5 * 7 = 35', '5 * 8 = 40', '5 * 9 = 45', '6 * 2 = 12', '6 * 3 = 18', '6 * 4 = 24', '6 * 5 = 30', '6 * 6 = 36', '6 * 7 = 42', '6 * 8 = 48', '6 * 9 = 54', '7 * 2 = 14', '7 * 3 = 21', '7 * 4 = 28', '7 * 5 = 35', '7 * 6 = 42', '7 * 7 = 49', '7 * 8 = 56', '7 * 9 = 63', '8 * 2 = 16', '8 * 3 = 24', '8 * 4 = 32', '8 * 5 = 40', '8 * 6 = 48', '8 * 7 = 56', '8 * 8 = 64', '8 * 9 = 72', '9 * 2 = 18', '9 * 3 = 27', '9 * 4 = 36', '9 * 5 = 45', '9 * 6 = 54', '9 * 7 = 63', '9 * 8 = 72', '9 * 9 = 81']\n"
     ]
    }
   ],
   "source": [
    "# 구구단을 컴프리헨션으로 짜보세요.\n",
    "gugudan = [f\"{i} * {j} = {i * j}\" for i in range(2, 10) for j in range(2, 10)]\n",
    "# f-string\n",
    "\n",
    "print(gugudan)"
   ]
  },
  {
   "cell_type": "markdown",
   "metadata": {},
   "source": [
    "2025-01-13 회고"
   ]
  },
  {
   "cell_type": "code",
   "execution_count": 1,
   "metadata": {},
   "outputs": [
    {
     "name": "stdout",
     "output_type": "stream",
     "text": [
      "['John', ('man', 'USA'), [175, 24]]\n",
      "['John', ('man', 'USA'), [175, 24]]\n",
      "['John', ('man', 'USA'), [175, 23]]\n"
     ]
    }
   ],
   "source": [
    "# 3. 아래의 결과물이 똑같이 나오는 이유와  chulsu 는 deepcopy 가 되도록 하시오.\n",
    "import copy #deepcopy 함수 호출 위해서 copy 모듈 import\n",
    "\n",
    "john = ['John', ('man','USA'),[175,23]]\n",
    "\n",
    "tom = list(john) # 얕은 복사 = 껍데기만 새로 생성\n",
    "chulsu = copy.deepcopy(john) # 얕은복사\n",
    "\n",
    "john[2][1] +=1\n",
    "\n",
    "\n",
    "print(john)\n",
    "print(tom)\n",
    "print(chulsu)"
   ]
  },
  {
   "cell_type": "code",
   "execution_count": 7,
   "metadata": {},
   "outputs": [
    {
     "name": "stdout",
     "output_type": "stream",
     "text": [
      "[1, 4, 9, 16, 25, 36, 49, 64, 81, 100]\n"
     ]
    }
   ],
   "source": [
    "'''\n",
    "5. 아래를 리스트 컴프리 헨션으로 표현해 보세요.\n",
    "- 구구단\n",
    "- 1부터 100까지의 숫자중 짝수만 \n",
    "- 1부터 100까지의 숫자중 3의 배수 or 5의 배수\n",
    "- 1부터 10의 거듭제곱수\n",
    "'''\n",
    "\n",
    "gugudan = [f'{i} * {j} = {i * j}' for i in range(2, 10) for j in range(2, 10)]\n",
    "\n",
    "even = [i for i in range(1, 101) if i % 2 == 0]\n",
    "\n",
    "multiple = [i for i in range(1, 101) if i % 3 == 0 or i % 5 == 0]\n",
    "\n",
    "power = [i ** 2 for i in range(1, 11)]\n"
   ]
  },
  {
   "cell_type": "code",
   "execution_count": 8,
   "metadata": {},
   "outputs": [
    {
     "name": "stdout",
     "output_type": "stream",
     "text": [
      "{32, 5, 7, 40, 9, 16}\n"
     ]
    }
   ],
   "source": [
    "# 7. set 을 이용하여 로또를 짜시오.\n",
    "import random\n",
    "\n",
    "lotto = set()\n",
    "\n",
    "while len(lotto) < 6:\n",
    "    lotto.add(random.randint(1, 45))\n",
    "\n",
    "print(lotto)"
   ]
  },
  {
   "cell_type": "code",
   "execution_count": 8,
   "metadata": {},
   "outputs": [
    {
     "name": "stdout",
     "output_type": "stream",
     "text": [
      "<Enter>\n",
      "3   2   3   아쉽군요!\n",
      "<Enter>\n",
      "3   1   1   아쉽군요!\n",
      "<Enter>\n",
      "2   1   3   아쉽군요!\n",
      "<Enter>\n",
      "2   3   1   아쉽군요!\n",
      "<Enter>\n",
      "2   1   2   아쉽군요!\n",
      "<Enter>\n",
      "3   3   2   아쉽군요!\n",
      "<Enter>\n",
      "2   2   2   영수의 승리입니다!\n"
     ]
    }
   ],
   "source": [
    "'''\n",
    "겜블링 게임을 만들어보자. \n",
    "두 사람이 게임을 진행한다. \n",
    "이들의 이름을 키보드로 입력받으며 각 사람은 Person 클래스로 작성하라. \n",
    "그러므로 프로그램에는 2개의 Person 객체가 생성되어야 한다. \n",
    "두 사람은 번갈아 가면서 게임을 진행하는데 각 사람이 자기 차례에서 <Enter> 키를 입력하면, 3개의 난수가 발생되고 이 숫자가 모두 같으면 승자가 되고 게임이 끝난다. \n",
    "난수의 범위를 너무 크게 잡으면 3개의 숫자가 일치하게 나올 가능성이 적기 때문에 숫자의 범위는 1~3까지로 한다.\n",
    "'''\n",
    "import random\n",
    "\n",
    "class Person: # 이름 입력하는 클래스\n",
    "    def __init__(self, num): \n",
    "        while True:\n",
    "            try:               \n",
    "                self.name = input(f\"{num}번째 선수 이름>>\")\n",
    "                break\n",
    "            except:\n",
    "                print(\"잘못된 입력입니다.\")\n",
    "                continue\n",
    "\n",
    "    def get_name(self): # 이름 출력 함수\n",
    "        return self.name\n",
    "        \n",
    "class Gamble: # 게임 운영 클래스\n",
    "    def __init__(self):\n",
    "        self.lst = [] # 리스트 변수 생성\n",
    "\n",
    "    def check_win(self, lst): # 승패 유무 확인 함수\n",
    "        lst_to_set = set(lst)\n",
    "        if len(lst_to_set) == 1: # set으로 바꿔서 중복되는 수를 없앤 후, 길이가 1이면 참 리턴\n",
    "            return True\n",
    "        else:\n",
    "            return False\n",
    "\n",
    "    def set_lst(self, player): # 랜덤으로 숫자 3개를 만들어내는 리스트 생성 후 리턴\n",
    "        while True:\n",
    "            try:\n",
    "                temp = input(f'[{player}]:')\n",
    "                if temp == \"\":\n",
    "                    print('<Enter>')\n",
    "                    self.lst = [random.randint(1, 3) for i in range(3)]\n",
    "                    print(f'{self.lst[0]}   {self.lst[1]}   {self.lst[2]}   ', end = \"\")\n",
    "                    return self.lst\n",
    "                else:\n",
    "                    print(\"잘못된 입력입니다.\")\n",
    "                    continue\n",
    "            except:\n",
    "                print(\"잘못된 입력입니다.\")\n",
    "                continue\n",
    "\n",
    "def main(): #메인 함수\n",
    "    p1 = Person(1) # 플레이어 1\n",
    "    p2 = Person(2) # 플레이어 2\n",
    "\n",
    "    game = Gamble() # 게임 불러오기\n",
    "\n",
    "    lst = []\n",
    "\n",
    "    while True:\n",
    "        lst = game.set_lst(p1.get_name()) # 플레이어 1 랜덤값 들어간 리스트 생성\n",
    "\n",
    "        if game.check_win(lst): # 플레이어 1의 승패 유무 확인\n",
    "            print(f'{p1.get_name()}의 승리입니다!')\n",
    "            break\n",
    "        else:\n",
    "            print('아쉽군요!')\n",
    "\n",
    "        lst = game.set_lst(p2.get_name()) # 플레이어 2 랜덤값 들어간 리스트 생성\n",
    "\n",
    "        if game.check_win(lst): # 플레이어 2의 승패 유무 확인\n",
    "            print(f'{p2.get_name()}의 승리입니다!')\n",
    "            break\n",
    "        else:\n",
    "            print('아쉽군요!')\n",
    "\n",
    "main()\n",
    "\n"
   ]
  },
  {
   "cell_type": "code",
   "execution_count": 3,
   "metadata": {},
   "outputs": [
    {
     "name": "stdout",
     "output_type": "stream",
     "text": [
      "d\n",
      "[2, 3, 2]\n"
     ]
    }
   ],
   "source": [
    "import random\n",
    "\n",
    "class Person:\n",
    "    def __init__(self):\n",
    "        while True:\n",
    "            try:               \n",
    "                self.name = input(\"이름을 입력해주세요 : \")\n",
    "                break\n",
    "            except:\n",
    "                print(\"잘못된 입력입니다.\")\n",
    "                continue\n",
    "\n",
    "    def get_name(self):\n",
    "        return self.name\n",
    "    \n",
    "t = Person()\n",
    "\n",
    "print(t.get_name())\n",
    "\n",
    "lst = [random.randint(1, 3) for i in range(3)]\n",
    "print(lst)"
   ]
  },
  {
   "cell_type": "code",
   "execution_count": 19,
   "metadata": {},
   "outputs": [
    {
     "name": "stdout",
     "output_type": "stream",
     "text": [
      "2025-01-13 18:03:41.638421\n",
      "굿이브닝\n"
     ]
    }
   ],
   "source": [
    "'''\n",
    "10. datetime 모듈을 할용하여, 현재시간을 체크 하고,\n",
    "4시부터 12 시 사이이면 => 굿모닝출력\n",
    "12시부터 18 시  =>굿애프터눈 출력\n",
    "18시부터 22 시 = > 굿 이브닝 출력\n",
    "22시부터 04 시 => 굿나잇 출력\n",
    "'''\n",
    "import datetime\n",
    "\n",
    "now = datetime.datetime.now()\n",
    "print(now)\n",
    "\n",
    "if 4 <= now.hour < 12:\n",
    "    print(\"굿모닝\")\n",
    "elif 12 <= now.hour < 18:\n",
    "    print(\"굿애프터눈\")\n",
    "elif 18 <= now.hour < 22:\n",
    "    print(\"굿이브닝\")\n",
    "else:\n",
    "    print(\"굿나잇\")"
   ]
  },
  {
   "cell_type": "code",
   "execution_count": 20,
   "metadata": {},
   "outputs": [
    {
     "name": "stdout",
     "output_type": "stream",
     "text": [
      "2025-01-13 18:08:26.360755\n"
     ]
    }
   ],
   "source": [
    "import datetime\n",
    "\n",
    "now = datetime.datetime.now()\n",
    "print(now)"
   ]
  },
  {
   "cell_type": "code",
   "execution_count": 21,
   "metadata": {},
   "outputs": [
    {
     "name": "stdout",
     "output_type": "stream",
     "text": [
      "<class 'datetime.datetime'>\n"
     ]
    }
   ],
   "source": [
    "import datetime\n",
    "\n",
    "now = datetime.datetime.now()\n",
    "print(type(now))"
   ]
  },
  {
   "cell_type": "code",
   "execution_count": 22,
   "metadata": {},
   "outputs": [
    {
     "name": "stdout",
     "output_type": "stream",
     "text": [
      "2025-01-08 18:13:31.501698\n",
      "2025-01-09 18:13:31.501698\n",
      "2025-01-10 18:13:31.501698\n",
      "2025-01-11 18:13:31.501698\n",
      "2025-01-12 18:13:31.501698\n"
     ]
    }
   ],
   "source": [
    "'''\n",
    "13. timedelta\n",
    "datetime 모듈의 timedelta를 사용해서 오늘로부터 5일, 4일, 3일, 2일, 1일 전의 날짜를 화면에 출력해보세요.\n",
    "'''\n",
    "\n",
    "import datetime\n",
    "\n",
    "now = datetime.datetime.now()\n",
    "for i in range(5, 0, -1):\n",
    "    delta = datetime.timedelta(days = i)\n",
    "    date = now - delta\n",
    "    print(date)"
   ]
  },
  {
   "cell_type": "code",
   "execution_count": null,
   "metadata": {},
   "outputs": [],
   "source": [
    "'''\n",
    "14.strftime\n",
    "현재시간을 얻어온 후 다음과 같은 포맷으로 시간을 출력해보세요. strftime 메서드를 사용하세요.\n",
    "'''\n",
    "\n",
    "import datetime\n",
    "\n",
    "now = datetime.datetime.now()\n",
    "print(now.strftime(\"%Y-%m-%d %H:%M:%S\"))"
   ]
  },
  {
   "cell_type": "code",
   "execution_count": 23,
   "metadata": {},
   "outputs": [
    {
     "name": "stdout",
     "output_type": "stream",
     "text": [
      "2025-01-13 18:15:32.947561\n",
      "2025-01-13 18:15:33.950347\n",
      "2025-01-13 18:15:34.958804\n",
      "2025-01-13 18:15:35.963566\n",
      "2025-01-13 18:15:36.970671\n",
      "2025-01-13 18:15:37.981268\n"
     ]
    },
    {
     "ename": "KeyboardInterrupt",
     "evalue": "",
     "output_type": "error",
     "traceback": [
      "\u001b[1;31m---------------------------------------------------------------------------\u001b[0m",
      "\u001b[1;31mKeyboardInterrupt\u001b[0m                         Traceback (most recent call last)",
      "Cell \u001b[1;32mIn[23], line 12\u001b[0m\n\u001b[0;32m     10\u001b[0m now \u001b[38;5;241m=\u001b[39m datetime\u001b[38;5;241m.\u001b[39mdatetime\u001b[38;5;241m.\u001b[39mnow()\n\u001b[0;32m     11\u001b[0m \u001b[38;5;28mprint\u001b[39m(now)\n\u001b[1;32m---> 12\u001b[0m \u001b[43mtime\u001b[49m\u001b[38;5;241;43m.\u001b[39;49m\u001b[43msleep\u001b[49m\u001b[43m(\u001b[49m\u001b[38;5;241;43m1\u001b[39;49m\u001b[43m)\u001b[49m\n",
      "\u001b[1;31mKeyboardInterrupt\u001b[0m: "
     ]
    }
   ],
   "source": [
    "'''\n",
    "15. sleep 함수\n",
    "time 모듈, datetime 모듈을 사용해서 1초에 한 번 현재 시간을 출력하는 코드를 작성하세요.\n",
    "'''\n",
    "\n",
    "import time\n",
    "import datetime\n",
    "\n",
    "while True:\n",
    "    now = datetime.datetime.now()\n",
    "    print(now)\n",
    "    time.sleep(1)"
   ]
  }
 ],
 "metadata": {
  "kernelspec": {
   "display_name": "env_django",
   "language": "python",
   "name": "python3"
  },
  "language_info": {
   "codemirror_mode": {
    "name": "ipython",
    "version": 3
   },
   "file_extension": ".py",
   "mimetype": "text/x-python",
   "name": "python",
   "nbconvert_exporter": "python",
   "pygments_lexer": "ipython3",
   "version": "3.10.16"
  }
 },
 "nbformat": 4,
 "nbformat_minor": 2
}
