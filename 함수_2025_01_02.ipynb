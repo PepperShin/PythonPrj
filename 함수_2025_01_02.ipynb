{
 "cells": [
  {
   "cell_type": "code",
   "execution_count": 3,
   "metadata": {},
   "outputs": [
    {
     "name": "stdout",
     "output_type": "stream",
     "text": [
      "반갑습니다\n",
      "반갑습니다\n",
      "파이썬의 세계로 오신 것을 환영합니다\n"
     ]
    }
   ],
   "source": [
    "def greet():\n",
    "    print(\"반갑습니다\")\n",
    "\n",
    "\n",
    "def greet2():\n",
    "    print(\"반갑습니다\")\n",
    "    print(\"파이썬의 세계로 오신 것을 환영합니다\")\n",
    "\n",
    "greet()\n",
    "greet2()"
   ]
  },
  {
   "cell_type": "code",
   "execution_count": 4,
   "metadata": {},
   "outputs": [
    {
     "name": "stdout",
     "output_type": "stream",
     "text": [
      "반갑습니다. KIM\n",
      "KIM 환영합니다.\n"
     ]
    }
   ],
   "source": [
    "#파라미터(인자)가 있는 함수\n",
    "\n",
    "def greet3(name): #name -> 변수 선언 -> 함수에 변수선언은 파라미터(인자) 라고 표현함\n",
    "    print(\"반갑습니다.\", name)\n",
    "    print(name, \"환영합니다.\")\n",
    "\n",
    "greet3(\"KIM\")"
   ]
  },
  {
   "cell_type": "code",
   "execution_count": 5,
   "metadata": {},
   "outputs": [
    {
     "name": "stdout",
     "output_type": "stream",
     "text": [
      "4\n"
     ]
    }
   ],
   "source": [
    "def add(a, b):\n",
    "    print(a + b)\n",
    "\n",
    "add(1, 3)"
   ]
  },
  {
   "cell_type": "code",
   "execution_count": 10,
   "metadata": {},
   "outputs": [
    {
     "name": "stdout",
     "output_type": "stream",
     "text": [
      "4\n",
      "8\n"
     ]
    }
   ],
   "source": [
    "def add2(num1, num2):\n",
    "    return num1 + num2\n",
    "\n",
    "result = add2(1, 3)\n",
    "print(result)\n",
    "print(add2(6,2))"
   ]
  },
  {
   "cell_type": "code",
   "execution_count": 11,
   "metadata": {},
   "outputs": [
    {
     "name": "stdout",
     "output_type": "stream",
     "text": [
      "안녕하세요\n"
     ]
    }
   ],
   "source": [
    "def example():\n",
    "    print(\"안녕하세요\")\n",
    "    return\n",
    "    print(\"반갑습니다\")\n",
    "\n",
    "example()"
   ]
  },
  {
   "cell_type": "code",
   "execution_count": 5,
   "metadata": {},
   "outputs": [
    {
     "name": "stdout",
     "output_type": "stream",
     "text": [
      "홍길동 입니다\n",
      "나이: 27\n",
      "남자입니까 True\n",
      "홍길동 입니다\n",
      "나이: 27\n",
      "남자입니까 False\n"
     ]
    }
   ],
   "source": [
    "#파이썬에서만 제공되는 함수 기능\n",
    "def say_myself(name, age, man = True): #파라미터(변수)에 값을 집어넣을(초기화)수 있다\n",
    "    print(name, \"입니다\")\n",
    "    print(\"나이:\", age)\n",
    "    print(\"남자입니까\", man)\n",
    "\n",
    "say_myself('홍길동', 27) #세번째 파라미터에 값을 넣지 않으면 함수 선언때 초기화 된 값을 가지게 된다.\n",
    "say_myself('홍길동', 27, False)"
   ]
  },
  {
   "cell_type": "code",
   "execution_count": 3,
   "metadata": {},
   "outputs": [
    {
     "name": "stdout",
     "output_type": "stream",
     "text": [
      "1 2 3\n"
     ]
    }
   ],
   "source": [
    "def example2():\n",
    "    return 1, 2, 3\n",
    "\n",
    "a, b, c = example2()\n",
    "print(a, b, c)"
   ]
  },
  {
   "cell_type": "code",
   "execution_count": 1,
   "metadata": {},
   "outputs": [
    {
     "name": "stdout",
     "output_type": "stream",
     "text": [
      "7 3\n"
     ]
    }
   ],
   "source": [
    "def result(a, b):\n",
    "    return a + b, a - b\n",
    "\n",
    "x, y = result(5, 2)\n",
    "\n",
    "print(x, y) #7 3"
   ]
  },
  {
   "cell_type": "code",
   "execution_count": 6,
   "metadata": {},
   "outputs": [
    {
     "name": "stdout",
     "output_type": "stream",
     "text": [
      "32\n"
     ]
    }
   ],
   "source": [
    "#파이썬 에서의 기본적인 함수는 input 함수이다.\n",
    "str = input(\"How old are you:\")\n",
    "print(str)"
   ]
  },
  {
   "cell_type": "code",
   "execution_count": 7,
   "metadata": {},
   "outputs": [
    {
     "name": "stdout",
     "output_type": "stream",
     "text": [
      "<class 'str'>\n",
      "2494836860208\n"
     ]
    }
   ],
   "source": [
    "str = \"dns\"\n",
    "\n",
    "print(type(str)) #데이터 타입 확인\n",
    "\n",
    "print(id(str)) #주소 확인"
   ]
  },
  {
   "cell_type": "code",
   "execution_count": 11,
   "metadata": {},
   "outputs": [
    {
     "name": "stdout",
     "output_type": "stream",
     "text": [
      "2025\n",
      "2026\n"
     ]
    }
   ],
   "source": [
    "year = input(\"올해는\")\n",
    "print(year)\n",
    "\n",
    "year = eval(year) + 1\n",
    "print(year)"
   ]
  },
  {
   "cell_type": "code",
   "execution_count": 12,
   "metadata": {},
   "outputs": [
    {
     "data": {
      "text/plain": [
       "100"
      ]
     },
     "execution_count": 12,
     "metadata": {},
     "output_type": "execute_result"
    }
   ],
   "source": [
    "#eval 함수란?\n",
    "#표현식(스트링으로 만들어진 식)을 해석하는 함수\n",
    "eval(\"3 + 5\")\n",
    "eval(\"10**2\") #파이썬만 제곱을 **로 표현\n",
    "\n"
   ]
  },
  {
   "cell_type": "code",
   "execution_count": 1,
   "metadata": {},
   "outputs": [
    {
     "name": "stdout",
     "output_type": "stream",
     "text": [
      "이름 홍길동\n",
      "나이 20\n",
      "이름 홍길동\n",
      "나이 20\n"
     ]
    }
   ],
   "source": [
    "def who_are_you(name, age):\n",
    "    print(\"이름\", name)\n",
    "    print(\"나이\", age)\n",
    "\n",
    "who_are_you(\"홍길동\", 20)\n",
    "\n",
    "who_are_you(age = 20, name = \"홍길동\")"
   ]
  },
  {
   "cell_type": "code",
   "execution_count": 2,
   "metadata": {},
   "outputs": [
    {
     "name": "stdout",
     "output_type": "stream",
     "text": [
      "1_2_3!"
     ]
    }
   ],
   "source": [
    "print(1, 2, 3, sep = '_', end = \"!\")"
   ]
  },
  {
   "cell_type": "code",
   "execution_count": 3,
   "metadata": {},
   "outputs": [
    {
     "name": "stdout",
     "output_type": "stream",
     "text": [
      "[0, 2, 0]\n"
     ]
    }
   ],
   "source": [
    "def func(s):\n",
    "    s[0] = 0\n",
    "    s[-1] = 0\n",
    "\n",
    "st = [1, 2, 3]\n",
    "func(st)\n",
    "\n",
    "print(st)"
   ]
  }
 ],
 "metadata": {
  "kernelspec": {
   "display_name": "env_django",
   "language": "python",
   "name": "python3"
  },
  "language_info": {
   "codemirror_mode": {
    "name": "ipython",
    "version": 3
   },
   "file_extension": ".py",
   "mimetype": "text/x-python",
   "name": "python",
   "nbconvert_exporter": "python",
   "pygments_lexer": "ipython3",
   "version": "3.10.16"
  }
 },
 "nbformat": 4,
 "nbformat_minor": 2
}
