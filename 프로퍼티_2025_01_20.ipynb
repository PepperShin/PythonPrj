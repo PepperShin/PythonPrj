{
 "cells": [
  {
   "cell_type": "code",
   "execution_count": 9,
   "metadata": {},
   "outputs": [
    {
     "name": "stdout",
     "output_type": "stream",
     "text": [
      "1\n",
      "1\n",
      "1\n",
      "0\n",
      "0\n"
     ]
    }
   ],
   "source": [
    "# 프로퍼티의 이해\n",
    "\n",
    "class Natural:\n",
    "    def __init__(self, n):\n",
    "        if n < 0:\n",
    "            self.__n = 0\n",
    "        else:\n",
    "            self.__n = n\n",
    "\n",
    "    def getn(self):\n",
    "        return self.__n\n",
    "    \n",
    "    def setn(self, n):\n",
    "        if n < 0:\n",
    "            self.__n = 0\n",
    "        else:\n",
    "            self.__n = n\n",
    "\n",
    "    p = property(getn, setn) # property는 클래스이다. (클래스 변수)\n",
    "\n",
    "n1 = Natural(1)\n",
    "\n",
    "print(n1.getn())\n",
    "\n",
    "n2 = Natural(-1)\n",
    "\n",
    "# print(n2.getn())\n",
    "\n",
    "print(n1.getn())\n",
    "print(n1.p) # n1.getn() 이 호출되고 있다.\n",
    "\n",
    "n1.setn(-20)\n",
    "print(n1.getn())\n",
    "\n",
    "n1.p = n2.p + n2.p\n",
    "\n",
    "print(n1.getn())"
   ]
  },
  {
   "cell_type": "code",
   "execution_count": 1,
   "metadata": {},
   "outputs": [
    {
     "name": "stdout",
     "output_type": "stream",
     "text": [
      "나이를 업데이트 합니다\n",
      "30\n"
     ]
    }
   ],
   "source": [
    "class Citizen:\n",
    "    def __init__(self, age):\n",
    "        self._age = age\n",
    "\t\t\n",
    "    @property # 프로퍼티 함수에 age 함수를 전달\n",
    "    def age(self):\n",
    "        return self._age\n",
    "    \n",
    "    @age.setter # age가 프로퍼티 객체가 되어서 안에 있는 setter 함수를 호출\n",
    "    def age(self, age): # setter 함수에 들어갈 함수\n",
    "        print(\"나이를 업데이트 합니다\")\n",
    "        self._age = age\n",
    "\t\n",
    "citizen = Citizen(20)\n",
    "citizen.age = 30\n",
    "print(citizen.age)"
   ]
  },
  {
   "cell_type": "code",
   "execution_count": 2,
   "metadata": {},
   "outputs": [
    {
     "name": "stdout",
     "output_type": "stream",
     "text": [
      "(GET)정보 조회됨\n",
      "<__main__.CharacterInfo object at 0x000001D78861E230> <__main__.Guardian object at 0x000001D78861D660> <class '__main__.Guardian'>\n",
      "공격력 : 10 / 스피드 : 50km/h\n",
      "(UPDATE)정보 갱신 시작\n",
      "(GET)정보 조회됨\n",
      "<__main__.CharacterInfo object at 0x000001D78861E230> <__main__.Guardian object at 0x000001D78861D660> <class '__main__.Guardian'>\n",
      "공격력 : 15 / 스피드 : 70km/h\n",
      "(DELETE)정보 삭제하기\n",
      "(GET)정보 조회됨\n",
      "<__main__.CharacterInfo object at 0x000001D78861E230> <__main__.Guardian object at 0x000001D78861D660> <class '__main__.Guardian'>\n",
      "공격력 :  / 스피드 : \n"
     ]
    }
   ],
   "source": [
    "# 프로퍼티 클래스의 원리\n",
    "\n",
    "class CharacterInfo: # getter, setter, delete 를 하나라도 가지고 있는 클래스를 디스크립터 클래스라 부른다.\n",
    "    def __init__(self, power, speed):\n",
    "        self.power = power\n",
    "        self.speed = speed\n",
    "\n",
    "    def __get__(self, obj, objtype): # 혼자 있을때 호출되는 함수\n",
    "        print('(GET)정보 조회됨')\n",
    "        # <__main__.CharacterInfo object at 0x000001BCB2AD7D30> \n",
    "        # <__main__.Guardian object at 0x000001BCB2AD7BB0> \n",
    "        # <class '__main__.Guardian'>\n",
    "        print(self, obj, objtype)\n",
    "        return (\"공격력 : \"+str(self.power) + \" / 스피드 : \" + self.speed)\n",
    "\n",
    "    def __set__(self, obj, val): # = 왼쪽에 있으면 실행되는 함수\n",
    "        print('(UPDATE)정보 갱신 시작')\n",
    "        self.power = val.power\n",
    "        self.speed = val.speed\n",
    "\n",
    "    def __delete__(self, obj):\n",
    "        print(\"(DELETE)정보 삭제하기\")\n",
    "        self.power =\"\"\n",
    "        self.speed = \"\"\n",
    "\n",
    "class Guardian:\n",
    "    info = CharacterInfo(10, \"50km/h\")\n",
    "\n",
    "\n",
    "g1 = Guardian()   # g1 이라는 수호천사 인스턴스 하나 생성\n",
    "print(g1.info)   # 인스턴스 g1의 초기 정보 출력. __get__ 실행.\n",
    "info_after_upgrade = CharacterInfo(15, \"70km/h\")   # 업그레이드 아이템 적용 후 캐릭터 정보\n",
    "g1.info = info_after_upgrade   # 새 캐릭터 정보를 인스턴스 g1 에 설정. = 왼쪽에 있어서 __set__ 실행\n",
    "print(g1.info)   # 인스턴스 g1의 정보 출력\n",
    "del g1.info   # 인스턴스 g1의 정보 삭제\n",
    "print(g1.info)   # 인스턴스 g1의 정보 출력"
   ]
  },
  {
   "cell_type": "code",
   "execution_count": 3,
   "metadata": {},
   "outputs": [
    {
     "name": "stdout",
     "output_type": "stream",
     "text": [
      "현재 속도 구하기\n",
      "50\n",
      "현재 속도 설정하기\n",
      "현재 속도 구하기\n",
      "100\n",
      "현재 속도 정보 삭제하기\n"
     ]
    }
   ],
   "source": [
    "class Car:\n",
    "    def __init__(self, initial_speed):\n",
    "        self._speed = initial_speed\n",
    "\n",
    "    @property # __get__\n",
    "    def speed(self):\n",
    "        \"\"\"I'm the 'speed' property.\"\"\"\n",
    "        print('현재 속도 구하기')\n",
    "        return self._speed\n",
    "\n",
    "    @speed.setter # __set__\n",
    "    def speed(self, value):\n",
    "        print('현재 속도 설정하기')\n",
    "        self._speed = value\n",
    "\n",
    "    @speed.deleter\n",
    "    def speed(self):\n",
    "        print('현재 속도 정보 삭제하기')\n",
    "        del self._speed\n",
    "\n",
    "\n",
    "car = Car(50)\n",
    "print(car.speed)\n",
    "car.speed = 100\n",
    "print(car.speed)\n",
    "del car.speed\n",
    "\n"
   ]
  },
  {
   "cell_type": "code",
   "execution_count": null,
   "metadata": {},
   "outputs": [],
   "source": [
    "class Property:\n",
    "    \"Emulate PyProperty_Type() in Objects/descrobject.c\"\n",
    "\n",
    "    def __init__(self, fget=None, fset=None, fdel=None, doc=None):\n",
    "        self.fget = fget\n",
    "        self.fset = fset\n",
    "        self.fdel = fdel\n",
    "        if doc is None and fget is not None:\n",
    "            doc = fget.__doc__\n",
    "        self.__doc__ = doc\n",
    "\n",
    "    def __set_name__(self, owner, name):\n",
    "        self.__name__ = name\n",
    "\n",
    "    def __get__(self, obj, objtype=None):\n",
    "        if obj is None:\n",
    "            return self\n",
    "        if self.fget is None:\n",
    "            raise AttributeError\n",
    "        return self.fget(obj)\n",
    "\n",
    "    def __set__(self, obj, value):\n",
    "        if self.fset is None:\n",
    "            raise AttributeError\n",
    "        self.fset(obj, value)\n",
    "\n",
    "    def __delete__(self, obj):\n",
    "        if self.fdel is None:\n",
    "            raise AttributeError\n",
    "        self.fdel(obj)\n",
    "\n",
    "    def getter(self, fget):\n",
    "        return type(self)(fget, self.fset, self.fdel, self.__doc__)\n",
    "\n",
    "    def setter(self, fset):\n",
    "        return type(self)(self.fget, fset, self.fdel, self.__doc__)\n",
    "\n",
    "    def deleter(self, fdel):\n",
    "        return type(self)(self.fget, self.fset, fdel, self.__doc__)"
   ]
  }
 ],
 "metadata": {
  "kernelspec": {
   "display_name": "env_django",
   "language": "python",
   "name": "python3"
  },
  "language_info": {
   "codemirror_mode": {
    "name": "ipython",
    "version": 3
   },
   "file_extension": ".py",
   "mimetype": "text/x-python",
   "name": "python",
   "nbconvert_exporter": "python",
   "pygments_lexer": "ipython3",
   "version": "3.10.16"
  }
 },
 "nbformat": 4,
 "nbformat_minor": 2
}
