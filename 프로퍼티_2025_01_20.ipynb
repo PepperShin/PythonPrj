{
 "cells": [
  {
   "cell_type": "code",
   "execution_count": 9,
   "metadata": {},
   "outputs": [
    {
     "name": "stdout",
     "output_type": "stream",
     "text": [
      "1\n",
      "1\n",
      "1\n",
      "0\n",
      "0\n"
     ]
    }
   ],
   "source": [
    "# 프로퍼티의 이해\n",
    "\n",
    "class Natural:\n",
    "    def __init__(self, n):\n",
    "        if n < 0:\n",
    "            self.__n = 0\n",
    "        else:\n",
    "            self.__n = n\n",
    "\n",
    "    def getn(self):\n",
    "        return self.__n\n",
    "    \n",
    "    def setn(self, n):\n",
    "        if n < 0:\n",
    "            self.__n = 0\n",
    "        else:\n",
    "            self.__n = n\n",
    "\n",
    "    p = property(getn, setn) # property는 클래스이다.\n",
    "\n",
    "n1 = Natural(1)\n",
    "\n",
    "print(n1.getn())\n",
    "\n",
    "n2 = Natural(-1)\n",
    "\n",
    "# print(n2.getn())\n",
    "\n",
    "print(n1.getn())\n",
    "print(n1.p) # n1.getn() 이 호출되고 있다.\n",
    "\n",
    "n1.setn(-20)\n",
    "print(n1.getn())\n",
    "\n",
    "n1.p = n2.p + n2.p\n",
    "\n",
    "print(n1.getn())"
   ]
  }
 ],
 "metadata": {
  "kernelspec": {
   "display_name": "env_django",
   "language": "python",
   "name": "python3"
  },
  "language_info": {
   "codemirror_mode": {
    "name": "ipython",
    "version": 3
   },
   "file_extension": ".py",
   "mimetype": "text/x-python",
   "name": "python",
   "nbconvert_exporter": "python",
   "pygments_lexer": "ipython3",
   "version": "3.10.16"
  }
 },
 "nbformat": 4,
 "nbformat_minor": 2
}
