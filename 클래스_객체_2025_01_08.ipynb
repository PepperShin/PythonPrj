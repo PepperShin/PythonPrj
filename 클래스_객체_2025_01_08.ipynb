{
 "cells": [
  {
   "cell_type": "code",
   "execution_count": 1,
   "metadata": {},
   "outputs": [
    {
     "name": "stdout",
     "output_type": "stream",
     "text": [
      "0\n",
      "10\n"
     ]
    }
   ],
   "source": [
    "cnt = 10\n",
    "\n",
    "def func():\n",
    "    cnt = 0\n",
    "    print(cnt)\n",
    "\n",
    "func()\n",
    "\n",
    "print(cnt)"
   ]
  },
  {
   "cell_type": "code",
   "execution_count": null,
   "metadata": {},
   "outputs": [],
   "source": [
    "cnt = 10\n",
    "\n",
    "def func():\n",
    "    global cnt\n",
    "    cnt = 0\n",
    "    print(cnt)\n",
    "\n",
    "func()\n",
    "\n",
    "print(cnt)"
   ]
  },
  {
   "cell_type": "code",
   "execution_count": 5,
   "metadata": {},
   "outputs": [
    {
     "name": "stdout",
     "output_type": "stream",
     "text": [
      "현재 아빠 나이\n",
      "아빠 39\n",
      "1년 뒤\n",
      "아빠 40\n",
      "엄마 35\n",
      "엄마 36\n",
      "여동생 25\n",
      "여동생 26\n"
     ]
    }
   ],
   "source": [
    "class AgeInfo: # camel case\n",
    "    def up_age(self):\n",
    "        self.age += 1\n",
    "    \n",
    "    def get_age(self):\n",
    "        return self.age\n",
    "\n",
    "\n",
    "fa = AgeInfo()\n",
    "fa.age = 39\n",
    "\n",
    "print(\"현재 아빠 나이\")\n",
    "print(\"아빠\", fa.get_age())\n",
    "\n",
    "print(\"1년 뒤\")\n",
    "fa.up_age()\n",
    "print(\"아빠\", fa.get_age())\n",
    "\n",
    "mo = AgeInfo()\n",
    "mo.age = 35\n",
    "print(\"엄마\", mo.get_age())\n",
    "mo.up_age()\n",
    "print(\"엄마\", mo.get_age())\n",
    "\n",
    "sis = AgeInfo()\n",
    "sis.age = 25\n",
    "print(\"여동생\", sis.get_age())\n",
    "sis.up_age()\n",
    "print(\"여동생\", sis.get_age())"
   ]
  },
  {
   "cell_type": "code",
   "execution_count": 7,
   "metadata": {},
   "outputs": [
    {
     "name": "stdout",
     "output_type": "stream",
     "text": [
      "홍길동\n"
     ]
    }
   ],
   "source": [
    "class NameInfo():\n",
    "    def get_name(self):\n",
    "        return self.name\n",
    "    \n",
    "\n",
    "name_info = NameInfo()\n",
    "\n",
    "name_info.name = '홍길동'\n",
    "print(name_info.get_name())"
   ]
  },
  {
   "cell_type": "code",
   "execution_count": 8,
   "metadata": {},
   "outputs": [
    {
     "name": "stdout",
     "output_type": "stream",
     "text": [
      "39\n"
     ]
    }
   ],
   "source": [
    "class AgeInfo: # camel case\n",
    "    def up_age(self):\n",
    "        self.age += 1\n",
    "    \n",
    "    def get_age(self):\n",
    "        return self.age\n",
    "\n",
    "fa = AgeInfo()\n",
    "fa.age = 39\n",
    "\n",
    "print(AgeInfo.get_age(fa)) # fa.get_age와 동일하다."
   ]
  },
  {
   "cell_type": "code",
   "execution_count": 9,
   "metadata": {},
   "outputs": [
    {
     "name": "stdout",
     "output_type": "stream",
     "text": [
      "41\n",
      "41\n"
     ]
    }
   ],
   "source": [
    "class AgeInfo: # camel case\n",
    "    def up_age(self):\n",
    "        self.age += 1\n",
    "    \n",
    "    def get_age(self):\n",
    "        return self.age\n",
    "    \n",
    "    def get_birthday(self):\n",
    "        print(self.birthday)\n",
    "\n",
    "fa = AgeInfo()\n",
    "fa.birthday = \"1981-06-07\"\n",
    "\n",
    "sis = AgeInfo()\n",
    "sis.age = 39\n",
    "sis.up_age()\n",
    "AgeInfo.up_age(sis)\n",
    "print(sis.get_age())\n",
    "print(AgeInfo.get_age(sis))"
   ]
  },
  {
   "cell_type": "code",
   "execution_count": 13,
   "metadata": {},
   "outputs": [
    {
     "name": "stdout",
     "output_type": "stream",
     "text": [
      "9\n",
      "3\n"
     ]
    }
   ],
   "source": [
    "class Calculator:\n",
    "    def add(self, num1, num2):\n",
    "        return num1 + num2\n",
    "\n",
    "    def sub(self, num1, num2):\n",
    "        return num1 - num2\n",
    "\n",
    "    def mul(self, num1, num2):\n",
    "        return num1 * num2\n",
    "\n",
    "    def div(self, num1, num2):\n",
    "        return num1 / num2\n",
    "\n",
    "cal = Calculator()\n",
    "\n",
    "result = cal.add(3, 6)\n",
    "print(result)\n",
    "result = cal.sub(5, 2)\n",
    "print(result)"
   ]
  },
  {
   "cell_type": "code",
   "execution_count": 15,
   "metadata": {},
   "outputs": [
    {
     "name": "stdout",
     "output_type": "stream",
     "text": [
      "9\n",
      "홍길동\n"
     ]
    }
   ],
   "source": [
    "class Calculator:\n",
    "    def add(self):\n",
    "        return self.num1 + self.num2\n",
    "\n",
    "    def sub(self, num1, num2):\n",
    "        return num1 - num2\n",
    "\n",
    "    def mul(self, num1, num2):\n",
    "        return num1 * num2\n",
    "\n",
    "    def div(self, num1, num2):\n",
    "        return num1 / num2\n",
    "    \n",
    "cal = Calculator()\n",
    "\n",
    "cal.num1 = 3 # 변수 동적 생성\n",
    "cal.num2 = 6\n",
    "cal.name = \"홍길동\" # 클래스에 self.name이 없어도 변수 선언이 가능하다.\n",
    "\n",
    "\n",
    "result = cal.add()\n",
    "print(result)\n",
    "\n",
    "print(cal.name)"
   ]
  },
  {
   "cell_type": "code",
   "execution_count": 16,
   "metadata": {},
   "outputs": [
    {
     "name": "stdout",
     "output_type": "stream",
     "text": [
      "40\n"
     ]
    }
   ],
   "source": [
    "class AgeInfo:\n",
    "    def up_age(self):\n",
    "        self.age += 1\n",
    "    \n",
    "    def get_age(self):\n",
    "        return self.age\n",
    "    \n",
    "    def set_age(self, age):\n",
    "        self.age = age\n",
    "\n",
    "fa = AgeInfo()\n",
    "age = 39\n",
    "\n",
    "fa.set_age(39)\n",
    "fa.up_age()\n",
    "print(fa.get_age())"
   ]
  },
  {
   "cell_type": "code",
   "execution_count": 18,
   "metadata": {},
   "outputs": [
    {
     "name": "stdout",
     "output_type": "stream",
     "text": [
      "생성자 입니다.\n",
      "생성자 입니다.\n",
      "생성자 입니다.\n"
     ]
    }
   ],
   "source": [
    "# 생성자 함수의 이해 및 활용\n",
    "\n",
    "class Car:\n",
    "    def __init__(self): # 생성자 함수\n",
    "        print(\"생성자 입니다.\")\n",
    "\n",
    "car = Car()\n",
    "car2 = Car()\n",
    "car3 = Car()"
   ]
  },
  {
   "cell_type": "code",
   "execution_count": 19,
   "metadata": {},
   "outputs": [
    {
     "name": "stdout",
     "output_type": "stream",
     "text": [
      "['__abs__', '__add__', '__and__', '__bool__', '__ceil__', '__class__', '__delattr__', '__dir__', '__divmod__', '__doc__', '__eq__', '__float__', '__floor__', '__floordiv__', '__format__', '__ge__', '__getattribute__', '__getnewargs__', '__gt__', '__hash__', '__index__', '__init__', '__init_subclass__', '__int__', '__invert__', '__le__', '__lshift__', '__lt__', '__mod__', '__mul__', '__ne__', '__neg__', '__new__', '__or__', '__pos__', '__pow__', '__radd__', '__rand__', '__rdivmod__', '__reduce__', '__reduce_ex__', '__repr__', '__rfloordiv__', '__rlshift__', '__rmod__', '__rmul__', '__ror__', '__round__', '__rpow__', '__rrshift__', '__rshift__', '__rsub__', '__rtruediv__', '__rxor__', '__setattr__', '__sizeof__', '__str__', '__sub__', '__subclasshook__', '__truediv__', '__trunc__', '__xor__', 'as_integer_ratio', 'bit_count', 'bit_length', 'conjugate', 'denominator', 'from_bytes', 'imag', 'numerator', 'real', 'to_bytes']\n"
     ]
    }
   ],
   "source": [
    "# int형의 예약함수\n",
    "a = 1\n",
    "print(dir(a))"
   ]
  },
  {
   "cell_type": "code",
   "execution_count": 20,
   "metadata": {},
   "outputs": [
    {
     "name": "stdout",
     "output_type": "stream",
     "text": [
      "['__class__', '__delattr__', '__dict__', '__dir__', '__doc__', '__eq__', '__format__', '__ge__', '__getattribute__', '__gt__', '__hash__', '__init__', '__init_subclass__', '__le__', '__lt__', '__module__', '__ne__', '__new__', '__reduce__', '__reduce_ex__', '__repr__', '__setattr__', '__sizeof__', '__str__', '__subclasshook__', '__weakref__']\n"
     ]
    }
   ],
   "source": [
    "class Car:\n",
    "    pass\n",
    "car = Car()\n",
    "print(dir(car))"
   ]
  },
  {
   "cell_type": "code",
   "execution_count": 23,
   "metadata": {},
   "outputs": [
    {
     "name": "stdout",
     "output_type": "stream",
     "text": [
      "삼성 red 생성\n",
      "현대 blue 생성\n",
      "소방차 red 생성\n",
      "대우\n"
     ]
    }
   ],
   "source": [
    "class Car:\n",
    "    def __init__(self, brand, color): # 생성자 함수\n",
    "        self.brand = brand\n",
    "        self.color = color\n",
    "        print(self.brand, self.color, '생성')\n",
    "\n",
    "    def get_brand(self):\n",
    "        return self.brand\n",
    "    \n",
    "    def set_brand(self, brand):\n",
    "        self.brand = brand\n",
    "\n",
    "car = Car('삼성', 'red')\n",
    "car2 = Car('현대', 'blue')\n",
    "car3 = Car('소방차', 'red')\n",
    "\n",
    "car.set_brand('대우')\n",
    "print(car.get_brand())"
   ]
  },
  {
   "cell_type": "code",
   "execution_count": 34,
   "metadata": {},
   "outputs": [
    {
     "name": "stdout",
     "output_type": "stream",
     "text": [
      "90\n",
      "점수의 총 합은 : 270\n",
      "점수의 평균은 : 90.0\n",
      "성적은 : 수\n"
     ]
    }
   ],
   "source": [
    "# 국영수를 입력받아, 평균과 총점, 성적을 출력하는 프로그램 작성하시오.\n",
    "# 단 객체지향적으로 작성하기\n",
    "\n",
    "class Score:\n",
    "    def __init__(self, kor, eng, math):\n",
    "\n",
    "        self.kor = kor\n",
    "        self.eng = eng\n",
    "        self.math = math\n",
    "        \n",
    "\n",
    "    def sum(self):\n",
    "        return self.kor + self.eng + self.math\n",
    "    \n",
    "    def avg(self):\n",
    "        return (self.kor + self.eng + self.math) / 3\n",
    "    \n",
    "    def grade(self, avg):\n",
    "        if avg >= 90:\n",
    "            return \"수\"\n",
    "        elif avg >= 80:\n",
    "            return \"우\"\n",
    "        elif avg >= 70:\n",
    "            return \"미\"\n",
    "        elif avg >= 60:\n",
    "            return \"양\"\n",
    "        else:\n",
    "            return \"가\"\n",
    "        \n",
    "\n",
    "kor, eng, math = input(\"국어 영어 수학 점수를 입력해주세요.\").split(\" \")\n",
    "\n",
    "kor = int(kor)\n",
    "eng = int(eng)\n",
    "math = int(math)\n",
    "\n",
    "score = Score(kor, eng, math)\n",
    "\n",
    "print('점수의 총 합은 :', score.sum())\n",
    "print('점수의 평균은 :', score.avg())\n",
    "print('성적은 :', score.grade(score.avg()))\n"
   ]
  },
  {
   "cell_type": "code",
   "execution_count": 47,
   "metadata": {},
   "outputs": [
    {
     "name": "stdout",
     "output_type": "stream",
     "text": [
      "총점 :  300\n",
      "평균 :  100.0\n",
      "학점 :  수\n",
      "총점 :  68\n",
      "평균 :  22.666666666666668\n",
      "학점 :  가\n",
      "총점 :  128\n",
      "평균 :  42.666666666666664\n",
      "학점 :  가\n"
     ]
    }
   ],
   "source": [
    "class Grade:\n",
    "    def __init__(self,kor,eng,math):\n",
    "        self.kor = kor\n",
    "        self.eng = eng\n",
    "        self.math = math\n",
    "\n",
    "    def get_total(self):\n",
    "        return self.kor + self.eng + self.math\n",
    "\n",
    "    def get_avg(self):\n",
    "        return self.get_total() / 3\n",
    "\n",
    "    def get_grade(self):\n",
    "\n",
    "        avg = self.get_avg()\n",
    "\n",
    "        if avg >= 90:\n",
    "            grade = '수'\n",
    "        elif avg >= 80:\n",
    "            grade = '우'\n",
    "        elif avg >= 70:\n",
    "            grade = '미'\n",
    "        elif avg >= 60:\n",
    "            grade = '양'\n",
    "        else:\n",
    "            grade ='가'\n",
    "\n",
    "        return grade\n",
    "\n",
    "\n",
    "def main():\n",
    "    while True:\n",
    "        kor = int(input(\"국어 점수 입력 : \"))\n",
    "        eng = int(input(\"영어 점수 입력 : \"))\n",
    "        math = int(input(\"수학 점수 입력 : \"))\n",
    "    \n",
    "        grade = Grade(kor,eng,math)\n",
    "\n",
    "        print(\"총점 : \",grade.get_total())\n",
    "        print(\"평균 : \",grade.get_avg())\n",
    "        print(\"학점 : \",grade.get_grade())\n",
    "\n",
    "        continue_yn = input(\"계속 하시겠습니까? (y/n) : \")\n",
    "\n",
    "        if continue_yn.upper() != 'Y' and continue_yn.upper() != 'YES':\n",
    "            break\n",
    "\n",
    "main()\n"
   ]
  },
  {
   "cell_type": "code",
   "execution_count": 2,
   "metadata": {},
   "outputs": [
    {
     "data": {
      "text/plain": [
       "10"
      ]
     },
     "execution_count": 2,
     "metadata": {},
     "output_type": "execute_result"
    }
   ],
   "source": [
    "n = 1000\n",
    "n.bit_length()\n",
    "\n",
    "f = 3.14\n",
    "f.is_integer()"
   ]
  },
  {
   "cell_type": "code",
   "execution_count": 13,
   "metadata": {},
   "outputs": [
    {
     "name": "stdout",
     "output_type": "stream",
     "text": [
      "['__class__', '__delattr__', '__dict__', '__dir__', '__doc__', '__eq__', '__format__', '__ge__', '__getattribute__', '__gt__', '__hash__', '__init__', '__init_subclass__', '__le__', '__lt__', '__module__', '__ne__', '__new__', '__reduce__', '__reduce_ex__', '__repr__', '__setattr__', '__sizeof__', '__str__', '__subclasshook__', '__weakref__', 'temp']\n",
      "<class '__main__.test'>\n",
      "2475177526256\n"
     ]
    },
    {
     "data": {
      "text/plain": [
       "2475177526256"
      ]
     },
     "execution_count": 13,
     "metadata": {},
     "output_type": "execute_result"
    }
   ],
   "source": [
    "# 객체에는 참조할 클래스의 메모리 주소가 들어있다.\n",
    "class test:\n",
    "    def __init__(self):\n",
    "        self.temp = 10\n",
    "\n",
    "ts = test()\n",
    "\n",
    "print(dir(ts))\n",
    "\n",
    "print(ts.__class__)\n",
    "\n",
    "\n",
    "print(id(ts.__class__))\n",
    "\n",
    "id(test)"
   ]
  },
  {
   "cell_type": "code",
   "execution_count": 11,
   "metadata": {},
   "outputs": [
    {
     "name": "stdout",
     "output_type": "stream",
     "text": [
      "<__main__.MyClass object at 0x000002404CF25810>\n",
      "2475192113168\n",
      "<class '__main__.MyClass'>\n",
      "<class '__main__.MyClass'>\n",
      "{'instanceType': '클래스'}\n"
     ]
    }
   ],
   "source": [
    "class MyClass(object) :\n",
    "    classType = \"MyClass\"\n",
    "    def __init__(self, name) :\n",
    "        self.instanceType = name\n",
    "\n",
    "c = MyClass(\"클래스\")\n",
    "\n",
    "print(c)\n",
    "print(id(c))        # 객체를 레퍼런스 정수로 변환\n",
    "print(type(c))      # 생성된 객체의 클래스 유형 확인\n",
    "print(c.__class__) \n",
    "print(c.__dict__)   # 객체 내 이름공간 확인"
   ]
  },
  {
   "cell_type": "code",
   "execution_count": 7,
   "metadata": {},
   "outputs": [
    {
     "name": "stdout",
     "output_type": "stream",
     "text": [
      "3\n",
      "3\n"
     ]
    }
   ],
   "source": [
    "t = (1, 2, 3)\n",
    "\n",
    "print(len(t))\n",
    "print(t.__len__())"
   ]
  },
  {
   "cell_type": "code",
   "execution_count": 9,
   "metadata": {},
   "outputs": [
    {
     "name": "stdout",
     "output_type": "stream",
     "text": [
      "['hello', 'world']\n",
      "2\n",
      "['__class__', '__delattr__', '__dict__', '__dir__', '__doc__', '__eq__', '__format__', '__ge__', '__getattribute__', '__gt__', '__hash__', '__init__', '__init_subclass__', '__le__', '__len__', '__lt__', '__module__', '__ne__', '__new__', '__reduce__', '__reduce_ex__', '__repr__', '__setattr__', '__sizeof__', '__str__', '__subclasshook__', '__weakref__', 'words']\n"
     ]
    }
   ],
   "source": [
    "class Sentence:\n",
    "    def __init__(self, s):\n",
    "        self.words = s.split()\n",
    "\n",
    "    def __len__(self):\n",
    "        return len(self.words)\n",
    "\n",
    "s = Sentence(\"hello world\")\n",
    "print(s.words)\n",
    "\n",
    "print(len(s)) #객체라서 길이가 출력이 안된다. 그러나 __len__이라는 스페셜 메소드를 클래스에 만들어주면 에러가 나지 않는다.\n",
    "\n",
    "print(dir(s))"
   ]
  },
  {
   "cell_type": "code",
   "execution_count": 11,
   "metadata": {},
   "outputs": [
    {
     "name": "stdout",
     "output_type": "stream",
     "text": [
      "<__main__.Car object at 0x000001B288999D20>\n"
     ]
    }
   ],
   "source": [
    "class Car:\n",
    "    def __str__(self):\n",
    "        return \"Car 클래스 객체\"\n",
    "\n",
    "car = Car()\n",
    "print(car) #Car 클래스를 pass를 했을때 출력 : <__main__.Car object at 0x000001B288999D20>\n",
    "\n",
    "help(str) # 스페셜 메소드의 리턴타입 확인 가능"
   ]
  },
  {
   "cell_type": "code",
   "execution_count": 1,
   "metadata": {},
   "outputs": [
    {
     "ename": "AttributeError",
     "evalue": "'Simple' object has no attribute 'i'",
     "output_type": "error",
     "traceback": [
      "\u001b[1;31m---------------------------------------------------------------------------\u001b[0m",
      "\u001b[1;31mAttributeError\u001b[0m                            Traceback (most recent call last)",
      "Cell \u001b[1;32mIn[1], line 10\u001b[0m\n\u001b[0;32m      6\u001b[0m         \u001b[38;5;28mself\u001b[39m\u001b[38;5;241m.\u001b[39mi \u001b[38;5;241m=\u001b[39m i\n\u001b[0;32m      8\u001b[0m s \u001b[38;5;241m=\u001b[39m Simple()\n\u001b[1;32m---> 10\u001b[0m \u001b[38;5;28mprint\u001b[39m(\u001b[43ms\u001b[49m\u001b[38;5;241;43m.\u001b[39;49m\u001b[43mgeti\u001b[49m\u001b[43m(\u001b[49m\u001b[43m)\u001b[49m) \u001b[38;5;66;03m# 에러 발생\u001b[39;00m\n",
      "Cell \u001b[1;32mIn[1], line 3\u001b[0m, in \u001b[0;36mSimple.geti\u001b[1;34m(self)\u001b[0m\n\u001b[0;32m      2\u001b[0m \u001b[38;5;28;01mdef\u001b[39;00m \u001b[38;5;21mgeti\u001b[39m(\u001b[38;5;28mself\u001b[39m):\n\u001b[1;32m----> 3\u001b[0m     \u001b[38;5;28;01mreturn\u001b[39;00m \u001b[38;5;28;43mself\u001b[39;49m\u001b[38;5;241;43m.\u001b[39;49m\u001b[43mi\u001b[49m\n",
      "\u001b[1;31mAttributeError\u001b[0m: 'Simple' object has no attribute 'i'"
     ]
    }
   ],
   "source": [
    "class Simple:\n",
    "    def geti(self):\n",
    "        return self.i\n",
    "    \n",
    "    def seti(self, i):\n",
    "        self.i = i\n",
    "\n",
    "s = Simple()\n",
    "\n",
    "print(s.geti()) # 에러 발생"
   ]
  },
  {
   "cell_type": "code",
   "execution_count": 9,
   "metadata": {},
   "outputs": [
    {
     "name": "stdout",
     "output_type": "stream",
     "text": [
      "1\n"
     ]
    }
   ],
   "source": [
    "class Simple:\n",
    "    def geti(self):\n",
    "        return self.i\n",
    "    \n",
    "    def seti(self, i):\n",
    "        self.i = i\n",
    "\n",
    "s = Simple()\n",
    "\n",
    "s.seti(1)\n",
    "\n",
    "print(s.geti()) # 에러 발생 x"
   ]
  },
  {
   "cell_type": "code",
   "execution_count": 10,
   "metadata": {},
   "outputs": [
    {
     "name": "stdout",
     "output_type": "stream",
     "text": [
      "1\n"
     ]
    }
   ],
   "source": [
    "class Simple:\n",
    "    def geti(self):\n",
    "        return self.i\n",
    "    \n",
    "    def seti(self, i):\n",
    "        self.i = i\n",
    "\n",
    "s = Simple()\n",
    "\n",
    "s.i = 1 # 변수에 직접 접근\n",
    "\n",
    "print(s.geti()) # 에러 발생 x"
   ]
  },
  {
   "cell_type": "code",
   "execution_count": 12,
   "metadata": {},
   "outputs": [
    {
     "name": "stdout",
     "output_type": "stream",
     "text": [
      "1\n",
      "hello\n"
     ]
    },
    {
     "ename": "AttributeError",
     "evalue": "'Simple' object has no attribute 'hello'",
     "output_type": "error",
     "traceback": [
      "\u001b[1;31m---------------------------------------------------------------------------\u001b[0m",
      "\u001b[1;31mAttributeError\u001b[0m                            Traceback (most recent call last)",
      "Cell \u001b[1;32mIn[12], line 20\u001b[0m\n\u001b[0;32m     17\u001b[0m \u001b[38;5;28;01mdel\u001b[39;00m s\u001b[38;5;241m.\u001b[39mhello\n\u001b[0;32m     18\u001b[0m \u001b[38;5;28;01mdel\u001b[39;00m s\u001b[38;5;241m.\u001b[39mi\n\u001b[1;32m---> 20\u001b[0m \u001b[43ms\u001b[49m\u001b[38;5;241;43m.\u001b[39;49m\u001b[43mhello\u001b[49m(\u001b[38;5;124m\"\u001b[39m\u001b[38;5;124mhello\u001b[39m\u001b[38;5;124m\"\u001b[39m) \u001b[38;5;66;03m# 에러 발생\u001b[39;00m\n",
      "\u001b[1;31mAttributeError\u001b[0m: 'Simple' object has no attribute 'hello'"
     ]
    }
   ],
   "source": [
    "class Simple:\n",
    "    def geti(self):\n",
    "        return self.i\n",
    "    \n",
    "    def seti(self, i):\n",
    "        self.i = i\n",
    "\n",
    "s = Simple()\n",
    "\n",
    "s.i = 1 # 변수에 직접 접근\n",
    "\n",
    "print(s.geti())\n",
    "\n",
    "s.hello = lambda s : print(s)  # 람다 함수를 이용한 메소드 추가\n",
    "s.hello(\"hello\")\n",
    "\n",
    "del s.hello\n",
    "del s.i\n",
    "\n",
    "s.hello(\"hello\") # 에러 발생"
   ]
  },
  {
   "cell_type": "code",
   "execution_count": 13,
   "metadata": {},
   "outputs": [
    {
     "name": "stdout",
     "output_type": "stream",
     "text": [
      "hello\n"
     ]
    }
   ],
   "source": [
    "class Simple:\n",
    "    def geti(self):\n",
    "        return self.i\n",
    "    \n",
    "    def seti(self, i):\n",
    "        self.i = i\n",
    "\n",
    "s = Simple()\n",
    "\n",
    "def hello(s):\n",
    "    print(s)\n",
    "\n",
    "s.hello = hello\n",
    "\n",
    "s.hello(\"hello\")"
   ]
  },
  {
   "cell_type": "markdown",
   "metadata": {},
   "source": [
    "2025-01-07 상속"
   ]
  },
  {
   "cell_type": "code",
   "execution_count": 16,
   "metadata": {},
   "outputs": [
    {
     "name": "stdout",
     "output_type": "stream",
     "text": [
      "so high\n",
      "so fast\n",
      "so deep\n"
     ]
    }
   ],
   "source": [
    "class Father:\n",
    "    def run(self):\n",
    "        print('so fast')\n",
    "\n",
    "class Mother:\n",
    "    def dive(self):\n",
    "        print('so deep')\n",
    "\n",
    "class Son(Father, Mother): # Father, Mother 클래스를 상속받는다.\n",
    "    def jump(self):\n",
    "        print('so high')\n",
    "\n",
    "s = Son()\n",
    "s.jump()\n",
    "\n",
    "# 상속받은 클래스의 메소드를 사용할 수 있다.\n",
    "s.run()\n",
    "s.dive()"
   ]
  },
  {
   "cell_type": "code",
   "execution_count": 18,
   "metadata": {},
   "outputs": [
    {
     "name": "stdout",
     "output_type": "stream",
     "text": [
      "3\n",
      "so slow\n"
     ]
    }
   ],
   "source": [
    "class Father:\n",
    "    def run(self):\n",
    "        print('so fast')\n",
    "\n",
    "class Mother:\n",
    "    def dive(self):\n",
    "        print('so deep')\n",
    "\n",
    "class Son(Father, Mother): # Father, Mother 클래스를 상속받는다.\n",
    "    def __init__(self, num):\n",
    "        print(num)\n",
    "\n",
    "    def run(self): # 함수 오버라이딩 = 부모 클래스의 함수를 자식 클래스에서 재정의\n",
    "        print('so slow')\n",
    "\n",
    "    def jump(self):\n",
    "        print('so high')\n",
    "\n",
    "s = Son(3)\n",
    "\n",
    "s.run()"
   ]
  },
  {
   "cell_type": "code",
   "execution_count": 22,
   "metadata": {},
   "outputs": [
    {
     "name": "stdout",
     "output_type": "stream",
     "text": [
      "3\n",
      "so fast\n",
      "so slow\n"
     ]
    },
    {
     "ename": "AttributeError",
     "evalue": "'Son' object has no attribute 'Mother'",
     "output_type": "error",
     "traceback": [
      "\u001b[1;31m---------------------------------------------------------------------------\u001b[0m",
      "\u001b[1;31mAttributeError\u001b[0m                            Traceback (most recent call last)",
      "Cell \u001b[1;32mIn[22], line 23\u001b[0m\n\u001b[0;32m     20\u001b[0m s \u001b[38;5;241m=\u001b[39m Son(\u001b[38;5;241m3\u001b[39m)\n\u001b[0;32m     22\u001b[0m s\u001b[38;5;241m.\u001b[39mrun()\n\u001b[1;32m---> 23\u001b[0m \u001b[43ms\u001b[49m\u001b[38;5;241;43m.\u001b[39;49m\u001b[43mMother\u001b[49m\u001b[38;5;241m.\u001b[39mrun()\n",
      "\u001b[1;31mAttributeError\u001b[0m: 'Son' object has no attribute 'Mother'"
     ]
    }
   ],
   "source": [
    "class Father:\n",
    "    def run(self):\n",
    "        print('so fast')\n",
    "\n",
    "class Mother:\n",
    "    def dive(self):\n",
    "        print('so deep')\n",
    "\n",
    "class Son(Father, Mother): # Father, Mother 클래스를 상속받는다.\n",
    "    def __init__(self, num):\n",
    "        print(num)\n",
    "\n",
    "    def run(self): # 함수 오버라이딩 = 부모 클래스의 함수를 자식 클래스에서 재정의\n",
    "        super().run() # 부모 함수 호출\n",
    "        print('so slow')\n",
    "\n",
    "    def jump(self):\n",
    "        print('so high')\n",
    "\n",
    "s = Son(3)\n",
    "\n",
    "s.run()"
   ]
  },
  {
   "cell_type": "code",
   "execution_count": 24,
   "metadata": {},
   "outputs": [
    {
     "name": "stdout",
     "output_type": "stream",
     "text": [
      "이름은 소나타 이고 색상은 흰색\n",
      "이름은 하이브리드 이고 색상은 검정\n",
      "배터리량은 10 입니다.\n"
     ]
    }
   ],
   "source": [
    "# __init__ 메소드 오버라이딩\n",
    "\n",
    "#자식 클래스의 의무중 하나가 부모 클래스 변수들을 적절히 초기화 시키는게 중요하다.\n",
    "\n",
    "class Car:\n",
    "    def __init__(self, name, color):\n",
    "        self.name = name\n",
    "        self.color = color\n",
    "\n",
    "    def show_info(self):\n",
    "        print(f'이름은 {self.name} 이고 색상은 {self.color}')\n",
    "\n",
    "car = Car('소나타', '흰색')\n",
    "car.show_info()\n",
    "\n",
    "class HybridCar(Car): # Car 클래스를 상속받는다.\n",
    "    def __init__(self, name, color, battery):\n",
    "        super().__init__(name, color) # 부모 클래스의 __init__ 메소드를 호출하여 변수를 초기화. (필수로 해줘야 한다.)\n",
    "        self.battery = battery\n",
    "\n",
    "    def show_info(self): # 함수 오버라이딩\n",
    "        super().show_info()\n",
    "        print(f'배터리량은 {self.battery} 입니다.')\n",
    "\n",
    "hybrid = HybridCar(\"하이브리드\", '검정', 10)\n",
    "\n",
    "hybrid.show_info()"
   ]
  },
  {
   "cell_type": "code",
   "execution_count": 32,
   "metadata": {},
   "outputs": [
    {
     "name": "stdout",
     "output_type": "stream",
     "text": [
      "200\n",
      "60\n",
      "100.0\n",
      "300.0\n"
     ]
    }
   ],
   "source": [
    "# 상속을 활용한 사각형 삼각형 넓이 구하는 것을 클래스로 구현\n",
    "\n",
    "class Shape:\n",
    "    def __init__(self, width, height, leng):\n",
    "        self.width = width\n",
    "        self.height = height\n",
    "        self.leng =leng\n",
    "\n",
    "    def area(self): # 일부러 pass로 두어서 자식 클래스에서 구현하게 한다.\n",
    "        pass\n",
    "\n",
    "class Rectangle(Shape):\n",
    "    def __init__(self, width, height):\n",
    "        super().__init__(width, height, (width + height) * 2) # 부모 클래스의 생성자 호출\n",
    "    def area(self):\n",
    "        return self.width * self.height\n",
    "    def length(self):\n",
    "        return self.leng\n",
    "    \n",
    "rec = Rectangle(10, 20) # 자식 클래스에서 생성자를 만들지 않았을 시에는 자동으로 부모클래스의 생성자가 실행된다.\n",
    "print(rec.area())\n",
    "print(rec.length())\n",
    "\n",
    "\n",
    "class Triangle(Shape):\n",
    "    def __init__(self, width, height): # 생성자를 선언하지 않을 시에는 부모 클래스의 생성자가 실행된다. \n",
    "        self.width = width\n",
    "        self.height = height\n",
    "    def area(self):\n",
    "        return self.width * self.height / 2\n",
    "    \n",
    "tri = Triangle(10, 20)\n",
    "print(tri.area())\n",
    "\n",
    "shape_list = [Rectangle(10, 20), Triangle(10, 20)]\n",
    "\n",
    "sum_area = 0\n",
    "\n",
    "for shape in shape_list: # 이런 방식으로 상속을 사용한다.\n",
    "    sum_area += shape.area()\n",
    "\n",
    "print(sum_area)\n"
   ]
  },
  {
   "cell_type": "code",
   "execution_count": 34,
   "metadata": {},
   "outputs": [
    {
     "name": "stdout",
     "output_type": "stream",
     "text": [
      "멍멍이\n",
      "멍멍!\n"
     ]
    }
   ],
   "source": [
    "# Animal을 상속하여 Dog를 완성하시오\n",
    "\n",
    "class Animal:\n",
    "    def __init__(self, name):\n",
    "        self.name = name\n",
    "\n",
    "    def speak(self):\n",
    "        pass\n",
    "\n",
    "class Dog(Animal):\n",
    "    def __init__(self, name):\n",
    "        super().__init__(name)\n",
    "\n",
    "    def speak(self):\n",
    "        return \"멍멍!\"\n",
    "\n",
    "\n",
    "dog = Dog(\"멍멍이\")\n",
    "print(dog.name) # 멍멍이\n",
    "print(dog.speak()) # 멍멍!"
   ]
  },
  {
   "cell_type": "code",
   "execution_count": 5,
   "metadata": {},
   "outputs": [
    {
     "name": "stdout",
     "output_type": "stream",
     "text": [
      "add 100\n",
      "200\n",
      "isub 100\n",
      "100\n",
      "iadd 100\n",
      "200\n",
      "isub 100\n",
      "100\n"
     ]
    }
   ],
   "source": [
    "#연산자 오버라이딩\n",
    "\n",
    "class Account:\n",
    "    def __init__(self, aid, abl):\n",
    "        self.aid = aid\n",
    "        self.abl = abl\n",
    "\n",
    "    def __add__(self, m): # 연산자 오버라이딩. (오버라이딩이 맞지만, 그냥 오버로딩이라고 표현하기도 한다.) +\n",
    "        self.abl += m\n",
    "        print('add', m)\n",
    "\n",
    "    def __sub__(self, m): # -\n",
    "        self.abl -= m\n",
    "        print('sub', m)\n",
    "\n",
    "    def __iadd__(self, m): # +=\n",
    "        self.abl += m\n",
    "        print('iadd', m)\n",
    "        return self # in-place 연산이라 self 반환해줘야 한다 -= 도 마찬가지\n",
    "\n",
    "    def __sub__(self, m): # -=\n",
    "        self.abl -= m\n",
    "        print('isub', m)\n",
    "        return self\n",
    "\n",
    "acc = Account('1', 100)\n",
    "\n",
    "acc + 100 # Account.__add__(acc, 100)\n",
    "print(acc.abl)\n",
    "\n",
    "acc - 100\n",
    "print(acc.abl)\n",
    "\n",
    "acc += 100 # __iadd__연산. 풀어서 보면 add = add + 100이고, 이걸 또 풀면 add = Account.__iadd__(acc, 100). 그래서 리턴이 없으면 None 값이 나오게 된다.\n",
    "print(acc.abl)\n",
    "\n",
    "acc -= 100\n",
    "print(acc.abl)"
   ]
  },
  {
   "cell_type": "code",
   "execution_count": null,
   "metadata": {},
   "outputs": [],
   "source": [
    "a = [1, 2, 3] + [4, 5, 6] # 사실 이것도 __add__ 스페셜 메소드 연산자 오버로딩이 되어있다."
   ]
  }
 ],
 "metadata": {
  "kernelspec": {
   "display_name": "env_django",
   "language": "python",
   "name": "python3"
  },
  "language_info": {
   "codemirror_mode": {
    "name": "ipython",
    "version": 3
   },
   "file_extension": ".py",
   "mimetype": "text/x-python",
   "name": "python",
   "nbconvert_exporter": "python",
   "pygments_lexer": "ipython3",
   "version": "3.10.16"
  }
 },
 "nbformat": 4,
 "nbformat_minor": 2
}
