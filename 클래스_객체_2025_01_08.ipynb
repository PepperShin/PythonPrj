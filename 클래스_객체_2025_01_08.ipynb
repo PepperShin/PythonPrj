{
 "cells": [
  {
   "cell_type": "code",
   "execution_count": 1,
   "metadata": {},
   "outputs": [
    {
     "name": "stdout",
     "output_type": "stream",
     "text": [
      "0\n",
      "10\n"
     ]
    }
   ],
   "source": [
    "cnt = 10\n",
    "\n",
    "def func():\n",
    "    cnt = 0\n",
    "    print(cnt)\n",
    "\n",
    "func()\n",
    "\n",
    "print(cnt)"
   ]
  },
  {
   "cell_type": "code",
   "execution_count": null,
   "metadata": {},
   "outputs": [],
   "source": [
    "cnt = 10\n",
    "\n",
    "def func():\n",
    "    global cnt\n",
    "    cnt = 0\n",
    "    print(cnt)\n",
    "\n",
    "func()\n",
    "\n",
    "print(cnt)"
   ]
  },
  {
   "cell_type": "code",
   "execution_count": 5,
   "metadata": {},
   "outputs": [
    {
     "name": "stdout",
     "output_type": "stream",
     "text": [
      "현재 아빠 나이\n",
      "아빠 39\n",
      "1년 뒤\n",
      "아빠 40\n",
      "엄마 35\n",
      "엄마 36\n",
      "여동생 25\n",
      "여동생 26\n"
     ]
    }
   ],
   "source": [
    "class AgeInfo: # camel case\n",
    "    def up_age(self):\n",
    "        self.age += 1\n",
    "    \n",
    "    def get_age(self):\n",
    "        return self.age\n",
    "\n",
    "\n",
    "fa = AgeInfo()\n",
    "fa.age = 39\n",
    "\n",
    "print(\"현재 아빠 나이\")\n",
    "print(\"아빠\", fa.get_age())\n",
    "\n",
    "print(\"1년 뒤\")\n",
    "fa.up_age()\n",
    "print(\"아빠\", fa.get_age())\n",
    "\n",
    "mo = AgeInfo()\n",
    "mo.age = 35\n",
    "print(\"엄마\", mo.get_age())\n",
    "mo.up_age()\n",
    "print(\"엄마\", mo.get_age())\n",
    "\n",
    "sis = AgeInfo()\n",
    "sis.age = 25\n",
    "print(\"여동생\", sis.get_age())\n",
    "sis.up_age()\n",
    "print(\"여동생\", sis.get_age())"
   ]
  },
  {
   "cell_type": "code",
   "execution_count": 7,
   "metadata": {},
   "outputs": [
    {
     "name": "stdout",
     "output_type": "stream",
     "text": [
      "홍길동\n"
     ]
    }
   ],
   "source": [
    "class NameInfo():\n",
    "    def get_name(self):\n",
    "        return self.name\n",
    "    \n",
    "\n",
    "name_info = NameInfo()\n",
    "\n",
    "name_info.name = '홍길동'\n",
    "print(name_info.get_name())"
   ]
  },
  {
   "cell_type": "code",
   "execution_count": 8,
   "metadata": {},
   "outputs": [
    {
     "name": "stdout",
     "output_type": "stream",
     "text": [
      "39\n"
     ]
    }
   ],
   "source": [
    "class AgeInfo: # camel case\n",
    "    def up_age(self):\n",
    "        self.age += 1\n",
    "    \n",
    "    def get_age(self):\n",
    "        return self.age\n",
    "\n",
    "fa = AgeInfo()\n",
    "fa.age = 39\n",
    "\n",
    "print(AgeInfo.get_age(fa)) # fa.get_age와 동일하다."
   ]
  },
  {
   "cell_type": "code",
   "execution_count": 9,
   "metadata": {},
   "outputs": [
    {
     "name": "stdout",
     "output_type": "stream",
     "text": [
      "41\n",
      "41\n"
     ]
    }
   ],
   "source": [
    "class AgeInfo: # camel case\n",
    "    def up_age(self):\n",
    "        self.age += 1\n",
    "    \n",
    "    def get_age(self):\n",
    "        return self.age\n",
    "    \n",
    "    def get_birthday(self):\n",
    "        print(self.birthday)\n",
    "\n",
    "fa = AgeInfo()\n",
    "fa.birthday = \"1981-06-07\"\n",
    "\n",
    "sis = AgeInfo()\n",
    "sis.age = 39\n",
    "sis.up_age()\n",
    "AgeInfo.up_age(sis)\n",
    "print(sis.get_age())\n",
    "print(AgeInfo.get_age(sis))"
   ]
  },
  {
   "cell_type": "code",
   "execution_count": 13,
   "metadata": {},
   "outputs": [
    {
     "name": "stdout",
     "output_type": "stream",
     "text": [
      "9\n",
      "3\n"
     ]
    }
   ],
   "source": [
    "class Calculator:\n",
    "    def add(self, num1, num2):\n",
    "        return num1 + num2\n",
    "\n",
    "    def sub(self, num1, num2):\n",
    "        return num1 - num2\n",
    "\n",
    "    def mul(self, num1, num2):\n",
    "        return num1 * num2\n",
    "\n",
    "    def div(self, num1, num2):\n",
    "        return num1 / num2\n",
    "\n",
    "cal = Calculator()\n",
    "\n",
    "result = cal.add(3, 6)\n",
    "print(result)\n",
    "result = cal.sub(5, 2)\n",
    "print(result)"
   ]
  },
  {
   "cell_type": "code",
   "execution_count": 15,
   "metadata": {},
   "outputs": [
    {
     "name": "stdout",
     "output_type": "stream",
     "text": [
      "9\n",
      "홍길동\n"
     ]
    }
   ],
   "source": [
    "class Calculator:\n",
    "    def add(self):\n",
    "        return self.num1 + self.num2\n",
    "\n",
    "    def sub(self, num1, num2):\n",
    "        return num1 - num2\n",
    "\n",
    "    def mul(self, num1, num2):\n",
    "        return num1 * num2\n",
    "\n",
    "    def div(self, num1, num2):\n",
    "        return num1 / num2\n",
    "    \n",
    "cal = Calculator()\n",
    "\n",
    "cal.num1 = 3 # 변수 동적 생성\n",
    "cal.num2 = 6\n",
    "cal.name = \"홍길동\" # 클래스에 self.name이 없어도 변수 선언이 가능하다.\n",
    "\n",
    "\n",
    "result = cal.add()\n",
    "print(result)\n",
    "\n",
    "print(cal.name)"
   ]
  },
  {
   "cell_type": "code",
   "execution_count": 16,
   "metadata": {},
   "outputs": [
    {
     "name": "stdout",
     "output_type": "stream",
     "text": [
      "40\n"
     ]
    }
   ],
   "source": [
    "class AgeInfo:\n",
    "    def up_age(self):\n",
    "        self.age += 1\n",
    "    \n",
    "    def get_age(self):\n",
    "        return self.age\n",
    "    \n",
    "    def set_age(self, age):\n",
    "        self.age = age\n",
    "\n",
    "fa = AgeInfo()\n",
    "age = 39\n",
    "\n",
    "fa.set_age(39)\n",
    "fa.up_age()\n",
    "print(fa.get_age())"
   ]
  },
  {
   "cell_type": "code",
   "execution_count": 18,
   "metadata": {},
   "outputs": [
    {
     "name": "stdout",
     "output_type": "stream",
     "text": [
      "생성자 입니다.\n",
      "생성자 입니다.\n",
      "생성자 입니다.\n"
     ]
    }
   ],
   "source": [
    "# 생성자 함수의 이해 및 활용\n",
    "\n",
    "class Car:\n",
    "    def __init__(self): # 생성자 함수\n",
    "        print(\"생성자 입니다.\")\n",
    "\n",
    "car = Car()\n",
    "car2 = Car()\n",
    "car3 = Car()"
   ]
  },
  {
   "cell_type": "code",
   "execution_count": 19,
   "metadata": {},
   "outputs": [
    {
     "name": "stdout",
     "output_type": "stream",
     "text": [
      "['__abs__', '__add__', '__and__', '__bool__', '__ceil__', '__class__', '__delattr__', '__dir__', '__divmod__', '__doc__', '__eq__', '__float__', '__floor__', '__floordiv__', '__format__', '__ge__', '__getattribute__', '__getnewargs__', '__gt__', '__hash__', '__index__', '__init__', '__init_subclass__', '__int__', '__invert__', '__le__', '__lshift__', '__lt__', '__mod__', '__mul__', '__ne__', '__neg__', '__new__', '__or__', '__pos__', '__pow__', '__radd__', '__rand__', '__rdivmod__', '__reduce__', '__reduce_ex__', '__repr__', '__rfloordiv__', '__rlshift__', '__rmod__', '__rmul__', '__ror__', '__round__', '__rpow__', '__rrshift__', '__rshift__', '__rsub__', '__rtruediv__', '__rxor__', '__setattr__', '__sizeof__', '__str__', '__sub__', '__subclasshook__', '__truediv__', '__trunc__', '__xor__', 'as_integer_ratio', 'bit_count', 'bit_length', 'conjugate', 'denominator', 'from_bytes', 'imag', 'numerator', 'real', 'to_bytes']\n"
     ]
    }
   ],
   "source": [
    "# int형의 예약함수\n",
    "a = 1\n",
    "print(dir(a))"
   ]
  },
  {
   "cell_type": "code",
   "execution_count": 20,
   "metadata": {},
   "outputs": [
    {
     "name": "stdout",
     "output_type": "stream",
     "text": [
      "['__class__', '__delattr__', '__dict__', '__dir__', '__doc__', '__eq__', '__format__', '__ge__', '__getattribute__', '__gt__', '__hash__', '__init__', '__init_subclass__', '__le__', '__lt__', '__module__', '__ne__', '__new__', '__reduce__', '__reduce_ex__', '__repr__', '__setattr__', '__sizeof__', '__str__', '__subclasshook__', '__weakref__']\n"
     ]
    }
   ],
   "source": [
    "class Car:\n",
    "    pass\n",
    "car = Car()\n",
    "print(dir(car))"
   ]
  },
  {
   "cell_type": "code",
   "execution_count": 23,
   "metadata": {},
   "outputs": [
    {
     "name": "stdout",
     "output_type": "stream",
     "text": [
      "삼성 red 생성\n",
      "현대 blue 생성\n",
      "소방차 red 생성\n",
      "대우\n"
     ]
    }
   ],
   "source": [
    "class Car:\n",
    "    def __init__(self, brand, color): # 생성자 함수\n",
    "        self.brand = brand\n",
    "        self.color = color\n",
    "        print(self.brand, self.color, '생성')\n",
    "\n",
    "    def get_brand(self):\n",
    "        return self.brand\n",
    "    \n",
    "    def set_brand(self, brand):\n",
    "        self.brand = brand\n",
    "\n",
    "car = Car('삼성', 'red')\n",
    "car2 = Car('현대', 'blue')\n",
    "car3 = Car('소방차', 'red')\n",
    "\n",
    "car.set_brand('대우')\n",
    "print(car.get_brand())"
   ]
  },
  {
   "cell_type": "code",
   "execution_count": 34,
   "metadata": {},
   "outputs": [
    {
     "name": "stdout",
     "output_type": "stream",
     "text": [
      "90\n",
      "점수의 총 합은 : 270\n",
      "점수의 평균은 : 90.0\n",
      "성적은 : 수\n"
     ]
    }
   ],
   "source": [
    "# 국영수를 입력받아, 평균과 총점, 성적을 출력하는 프로그램 작성하시오.\n",
    "# 단 객체지향적으로 작성하기\n",
    "\n",
    "class Score:\n",
    "    def __init__(self, kor, eng, math):\n",
    "\n",
    "        self.kor = kor\n",
    "        self.eng = eng\n",
    "        self.math = math\n",
    "        \n",
    "\n",
    "    def sum(self):\n",
    "        return self.kor + self.eng + self.math\n",
    "    \n",
    "    def avg(self):\n",
    "        return (self.kor + self.eng + self.math) / 3\n",
    "    \n",
    "    def grade(self, avg):\n",
    "        if avg >= 90:\n",
    "            return \"수\"\n",
    "        elif avg >= 80:\n",
    "            return \"우\"\n",
    "        elif avg >= 70:\n",
    "            return \"미\"\n",
    "        elif avg >= 60:\n",
    "            return \"양\"\n",
    "        else:\n",
    "            return \"가\"\n",
    "        \n",
    "\n",
    "kor, eng, math = input(\"국어 영어 수학 점수를 입력해주세요.\").split(\" \")\n",
    "\n",
    "kor = int(kor)\n",
    "eng = int(eng)\n",
    "math = int(math)\n",
    "\n",
    "score = Score(kor, eng, math)\n",
    "\n",
    "print('점수의 총 합은 :', score.sum())\n",
    "print('점수의 평균은 :', score.avg())\n",
    "print('성적은 :', score.grade(score.avg()))\n"
   ]
  },
  {
   "cell_type": "code",
   "execution_count": 47,
   "metadata": {},
   "outputs": [
    {
     "name": "stdout",
     "output_type": "stream",
     "text": [
      "총점 :  300\n",
      "평균 :  100.0\n",
      "학점 :  수\n",
      "총점 :  68\n",
      "평균 :  22.666666666666668\n",
      "학점 :  가\n",
      "총점 :  128\n",
      "평균 :  42.666666666666664\n",
      "학점 :  가\n"
     ]
    }
   ],
   "source": [
    "class Grade:\n",
    "    def __init__(self,kor,eng,math):\n",
    "        self.kor = kor\n",
    "        self.eng = eng\n",
    "        self.math = math\n",
    "\n",
    "    def get_total(self):\n",
    "        return self.kor + self.eng + self.math\n",
    "\n",
    "    def get_avg(self):\n",
    "        return self.get_total() / 3\n",
    "\n",
    "    def get_grade(self):\n",
    "\n",
    "        avg = self.get_avg()\n",
    "\n",
    "        if avg >= 90:\n",
    "            grade = '수'\n",
    "        elif avg >= 80:\n",
    "            grade = '우'\n",
    "        elif avg >= 70:\n",
    "            grade = '미'\n",
    "        elif avg >= 60:\n",
    "            grade = '양'\n",
    "        else:\n",
    "            grade ='가'\n",
    "\n",
    "        return grade\n",
    "\n",
    "\n",
    "def main():\n",
    "    while True:\n",
    "        kor = int(input(\"국어 점수 입력 : \"))\n",
    "        eng = int(input(\"영어 점수 입력 : \"))\n",
    "        math = int(input(\"수학 점수 입력 : \"))\n",
    "    \n",
    "        grade = Grade(kor,eng,math)\n",
    "\n",
    "        print(\"총점 : \",grade.get_total())\n",
    "        print(\"평균 : \",grade.get_avg())\n",
    "        print(\"학점 : \",grade.get_grade())\n",
    "\n",
    "        continue_yn = input(\"계속 하시겠습니까? (y/n) : \")\n",
    "\n",
    "        if continue_yn.upper() != 'Y' and continue_yn.upper() != 'YES':\n",
    "            break\n",
    "\n",
    "main()\n"
   ]
  },
  {
   "cell_type": "code",
   "execution_count": 2,
   "metadata": {},
   "outputs": [
    {
     "data": {
      "text/plain": [
       "10"
      ]
     },
     "execution_count": 2,
     "metadata": {},
     "output_type": "execute_result"
    }
   ],
   "source": [
    "n = 1000\n",
    "n.bit_length()\n",
    "\n",
    "f = 3.14\n",
    "f.is_integer()"
   ]
  },
  {
   "cell_type": "code",
   "execution_count": 13,
   "metadata": {},
   "outputs": [
    {
     "name": "stdout",
     "output_type": "stream",
     "text": [
      "['__class__', '__delattr__', '__dict__', '__dir__', '__doc__', '__eq__', '__format__', '__ge__', '__getattribute__', '__gt__', '__hash__', '__init__', '__init_subclass__', '__le__', '__lt__', '__module__', '__ne__', '__new__', '__reduce__', '__reduce_ex__', '__repr__', '__setattr__', '__sizeof__', '__str__', '__subclasshook__', '__weakref__', 'temp']\n",
      "<class '__main__.test'>\n",
      "2475177526256\n"
     ]
    },
    {
     "data": {
      "text/plain": [
       "2475177526256"
      ]
     },
     "execution_count": 13,
     "metadata": {},
     "output_type": "execute_result"
    }
   ],
   "source": [
    "# 객체에는 참조할 클래스의 메모리 주소가 들어있다.\n",
    "class test:\n",
    "    def __init__(self):\n",
    "        self.temp = 10\n",
    "\n",
    "ts = test()\n",
    "\n",
    "print(dir(ts))\n",
    "\n",
    "print(ts.__class__)\n",
    "\n",
    "\n",
    "print(id(ts.__class__))\n",
    "\n",
    "id(test)"
   ]
  },
  {
   "cell_type": "code",
   "execution_count": 11,
   "metadata": {},
   "outputs": [
    {
     "name": "stdout",
     "output_type": "stream",
     "text": [
      "<__main__.MyClass object at 0x000002404CF25810>\n",
      "2475192113168\n",
      "<class '__main__.MyClass'>\n",
      "<class '__main__.MyClass'>\n",
      "{'instanceType': '클래스'}\n"
     ]
    }
   ],
   "source": [
    "class MyClass(object) :\n",
    "    classType = \"MyClass\"\n",
    "    def __init__(self, name) :\n",
    "        self.instanceType = name\n",
    "\n",
    "c = MyClass(\"클래스\")\n",
    "\n",
    "print(c)\n",
    "print(id(c))        # 객체를 레퍼런스 정수로 변환\n",
    "print(type(c))      # 생성된 객체의 클래스 유형 확인\n",
    "print(c.__class__) \n",
    "print(c.__dict__)   # 객체 내 이름공간 확인"
   ]
  }
 ],
 "metadata": {
  "kernelspec": {
   "display_name": "env_django",
   "language": "python",
   "name": "python3"
  },
  "language_info": {
   "codemirror_mode": {
    "name": "ipython",
    "version": 3
   },
   "file_extension": ".py",
   "mimetype": "text/x-python",
   "name": "python",
   "nbconvert_exporter": "python",
   "pygments_lexer": "ipython3",
   "version": "3.10.16"
  }
 },
 "nbformat": 4,
 "nbformat_minor": 2
}
