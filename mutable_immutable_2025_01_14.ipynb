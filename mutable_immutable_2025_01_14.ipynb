{
 "cells": [
  {
   "cell_type": "code",
   "execution_count": 1,
   "metadata": {},
   "outputs": [
    {
     "name": "stdout",
     "output_type": "stream",
     "text": [
      "2250860841664\n",
      "[1, 2, 3, 4]\n",
      "2250860841664\n"
     ]
    }
   ],
   "source": [
    "# 리스트 주소 확인\n",
    "r = [1, 2]\n",
    "print(id(r))\n",
    "\n",
    "r += [3,4]\n",
    "print(r)\n",
    "print(id(r))"
   ]
  },
  {
   "cell_type": "code",
   "execution_count": 2,
   "metadata": {},
   "outputs": [
    {
     "name": "stdout",
     "output_type": "stream",
     "text": [
      "2250860805312\n",
      "(1, 2, 3, 4)\n",
      "2250860422912\n"
     ]
    }
   ],
   "source": [
    "# 튜플 주소 확인\n",
    "t = (1, 2)\n",
    "print(id(t))\n",
    "\n",
    "t += (3, 4)\n",
    "print(t)\n",
    "print(id(t))"
   ]
  },
  {
   "cell_type": "code",
   "execution_count": 4,
   "metadata": {},
   "outputs": [
    {
     "name": "stdout",
     "output_type": "stream",
     "text": [
      "[1, 2, 3, 4]\n",
      "(1, 3)\n"
     ]
    }
   ],
   "source": [
    "def add_last(m, n):\n",
    "    m += n\n",
    "\n",
    "r = [1, 2]\n",
    "add_last(r, [3, 4])\n",
    "print(r)\n",
    "\n",
    "t = (1, 3)\n",
    "add_last(t, (5, 7))\n",
    "print(t)"
   ]
  },
  {
   "cell_type": "code",
   "execution_count": 6,
   "metadata": {},
   "outputs": [
    {
     "name": "stdout",
     "output_type": "stream",
     "text": [
      "(1, 2, 3, 4)\n"
     ]
    }
   ],
   "source": [
    "def add_tuple(t1, t2):\n",
    "    return t1 + t2\n",
    "\n",
    "t = (1, 2)\n",
    "t = add_tuple(t, (3, 4))\n",
    "print(t)"
   ]
  },
  {
   "cell_type": "code",
   "execution_count": 7,
   "metadata": {},
   "outputs": [
    {
     "name": "stdout",
     "output_type": "stream",
     "text": [
      "1,5\n",
      "[1, 3, 4, 5]\n"
     ]
    }
   ],
   "source": [
    "def min_max(d):\n",
    "    d.sort()\n",
    "    print(d[0], d[-1], sep = \",\")\n",
    "\n",
    "l = [3, 1, 4, 5]\n",
    "min_max(l)\n",
    "print(l)"
   ]
  },
  {
   "cell_type": "code",
   "execution_count": 9,
   "metadata": {},
   "outputs": [
    {
     "name": "stdout",
     "output_type": "stream",
     "text": [
      "1,5\n",
      "[3, 1, 4, 5]\n"
     ]
    }
   ],
   "source": [
    "def min_max(d):\n",
    "    d = list(d)\n",
    "    d.sort()\n",
    "    print(d[0], d[-1], sep = \",\")\n",
    "\n",
    "l = [3, 1, 4, 5]\n",
    "min_max(l)\n",
    "print(l)"
   ]
  }
 ],
 "metadata": {
  "kernelspec": {
   "display_name": "env_django",
   "language": "python",
   "name": "python3"
  },
  "language_info": {
   "codemirror_mode": {
    "name": "ipython",
    "version": 3
   },
   "file_extension": ".py",
   "mimetype": "text/x-python",
   "name": "python",
   "nbconvert_exporter": "python",
   "pygments_lexer": "ipython3",
   "version": "3.10.16"
  }
 },
 "nbformat": 4,
 "nbformat_minor": 2
}
