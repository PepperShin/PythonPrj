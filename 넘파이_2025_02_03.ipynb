{
 "cells": [
  {
   "cell_type": "code",
   "execution_count": 1,
   "metadata": {},
   "outputs": [
    {
     "name": "stdout",
     "output_type": "stream",
     "text": [
      "Collecting numpy\n",
      "  Downloading numpy-2.2.2-cp310-cp310-win_amd64.whl.metadata (60 kB)\n",
      "Downloading numpy-2.2.2-cp310-cp310-win_amd64.whl (12.9 MB)\n",
      "   ---------------------------------------- 0.0/12.9 MB ? eta -:--:--\n",
      "   ------- -------------------------------- 2.4/12.9 MB 11.2 MB/s eta 0:00:01\n",
      "   -------------- ------------------------- 4.7/12.9 MB 11.0 MB/s eta 0:00:01\n",
      "   --------------------- ------------------ 7.1/12.9 MB 11.2 MB/s eta 0:00:01\n",
      "   ------------------------------ --------- 9.7/12.9 MB 11.4 MB/s eta 0:00:01\n",
      "   ------------------------------------- -- 12.1/12.9 MB 11.4 MB/s eta 0:00:01\n",
      "   ---------------------------------------- 12.9/12.9 MB 10.1 MB/s eta 0:00:00\n",
      "Installing collected packages: numpy\n",
      "Successfully installed numpy-2.2.2\n",
      "Note: you may need to restart the kernel to use updated packages.\n"
     ]
    }
   ],
   "source": [
    "pip install numpy"
   ]
  },
  {
   "cell_type": "code",
   "execution_count": 6,
   "metadata": {},
   "outputs": [
    {
     "name": "stdout",
     "output_type": "stream",
     "text": [
      "[1 2 3]\n"
     ]
    },
    {
     "data": {
      "text/plain": [
       "numpy.ndarray"
      ]
     },
     "execution_count": 6,
     "metadata": {},
     "output_type": "execute_result"
    }
   ],
   "source": [
    "import numpy as np # 넘파이 np로 줄여서 쓴다. 예전에도 그랬고 지금도 그렇고...\n",
    "\n",
    "# 넘파이 생성 방법\n",
    "\n",
    "arr = np.array([1, 2, 3])\n",
    "print(arr)\n",
    "type(arr)\n",
    "\n"
   ]
  },
  {
   "cell_type": "code",
   "execution_count": null,
   "metadata": {},
   "outputs": [],
   "source": [
    "import numpy as np\n",
    "\n",
    "# 2차원 배열 생성\n",
    "arr = np.array([ [1, 2, 3], [4, 5, 6] ])\n",
    "print(arr)"
   ]
  },
  {
   "cell_type": "code",
   "execution_count": 7,
   "metadata": {},
   "outputs": [
    {
     "name": "stdout",
     "output_type": "stream",
     "text": [
      "[[[1]\n",
      "  [2]]\n",
      "\n",
      " [[3]\n",
      "  [4]]]\n"
     ]
    }
   ],
   "source": [
    "import numpy as np\n",
    "\n",
    "# 3차원 배열 생성\n",
    "arr = np.array([ [ [1], [2] ], [ [3], [4] ] ])\n",
    "print(arr)"
   ]
  },
  {
   "cell_type": "code",
   "execution_count": 11,
   "metadata": {},
   "outputs": [
    {
     "name": "stdout",
     "output_type": "stream",
     "text": [
      "[0 0 0 0 0 0 0 0 0 0]\n",
      "[[0. 0. 0. 0. 0.]\n",
      " [0. 0. 0. 0. 0.]]\n"
     ]
    }
   ],
   "source": [
    "# 기본값이 있는 배열 만들기\n",
    "import numpy as np\n",
    "\n",
    "arr = np.zeros(10, dtype=np.int32) # 최소값 -21억 ~ 21억까지\n",
    "print(arr)\n",
    "\n",
    "arr = np.zeros((2, 5)) # 데이터 타입을 정하지 않으면 기본형을 실수로 한다.\n",
    "print(arr)"
   ]
  },
  {
   "cell_type": "code",
   "execution_count": 13,
   "metadata": {},
   "outputs": [
    {
     "name": "stdout",
     "output_type": "stream",
     "text": [
      "[1 1 1 1 1 1 1 1 1 1]\n",
      "[[1. 1. 1.]\n",
      " [1. 1. 1.]\n",
      " [1. 1. 1.]]\n"
     ]
    }
   ],
   "source": [
    "import numpy as np\n",
    "\n",
    "arr = np.ones(10, dtype=np.int32)\n",
    "print(arr)\n",
    "\n",
    "arr = np.ones((3, 3))\n",
    "print(arr)"
   ]
  },
  {
   "cell_type": "code",
   "execution_count": 17,
   "metadata": {},
   "outputs": [
    {
     "name": "stdout",
     "output_type": "stream",
     "text": [
      "[1 3 5 7 9]\n",
      "[  0  50 100]\n"
     ]
    }
   ],
   "source": [
    "import numpy as np\n",
    "\n",
    "arr = np.arange(1, 10, 2) # 2만큼 스텝 상승\n",
    "print(arr)\n",
    "\n",
    "# 0 ~ 100 까지 100을 포함해서 5개로 나눈 값들이 출력\n",
    "arr = np.linspace(0, 100, 3, dtype=np.int32)\n",
    "print(arr)"
   ]
  },
  {
   "cell_type": "code",
   "execution_count": 35,
   "metadata": {},
   "outputs": [
    {
     "name": "stdout",
     "output_type": "stream",
     "text": [
      "2\n",
      "(3, 2)\n",
      "1\n",
      "2\n",
      "3\n",
      "(5,)\n",
      "(2, 4)\n",
      "(3, 2, 3)\n"
     ]
    }
   ],
   "source": [
    "import numpy as np\n",
    "\n",
    "arr = np.ones((3, 2))\n",
    "\n",
    "print(arr.ndim) # 2 차원\n",
    "print(arr.shape) # 3열 3행\n",
    "\n",
    "a1 = np.array( [ 1, 2, 3, 4, 5 ])\n",
    "a2 = np.array( [ [ 1, 2, 3, 4 ] , [ 1, 2, 3, 4 ] ] )\n",
    "a3 = np.array( [ [ [ 1, 2, 3 ] , [ 1, 2, 3 ] ] ,\n",
    "                     [ [ 1, 2, 3 ] , [ 1, 2, 3 ] ] ,\n",
    "                     [ [ 1, 2, 3 ] , [ 1, 2, 3 ] ] ] )\n",
    "\n",
    "print(a1.ndim)\n",
    "print(a2.ndim)\n",
    "print(a3.ndim)\n",
    "print(a1.shape)\n",
    "print(a2.shape)\n",
    "print(a3.shape)\n",
    "\n",
    "#(5, ) 1행 5열\n",
    "#(2, 4) 2행 4열\n",
    "#(3, 2, 3) 높이, 행, 열"
   ]
  },
  {
   "cell_type": "code",
   "execution_count": 34,
   "metadata": {},
   "outputs": [
    {
     "name": "stdout",
     "output_type": "stream",
     "text": [
      "(3, 3)\n",
      "8\n"
     ]
    }
   ],
   "source": [
    "# 읽는 방법 = 인덱싱과 슬라이싱 지원\n",
    "\n",
    "arr = np.array( [ \n",
    "    [ 0, 1, 2 ], \n",
    "    [ 3, 4, 5 ], \n",
    "    [ 6, 7, 8 ] \n",
    "    ] )\n",
    "\n",
    "print(arr.shape)\n",
    "print(arr[2, 2])\n",
    "\n"
   ]
  },
  {
   "cell_type": "code",
   "execution_count": 36,
   "metadata": {},
   "outputs": [
    {
     "name": "stdout",
     "output_type": "stream",
     "text": [
      "[[ 0  1  2]\n",
      " [ 3  4 10]\n",
      " [ 6  7  8]]\n"
     ]
    }
   ],
   "source": [
    "# 값 수정\n",
    "arr = np.array( [ \n",
    "    [ 0, 1, 2 ], \n",
    "    [ 3, 4, 5 ], \n",
    "    [ 6, 7, 8 ] \n",
    "    ] )\n",
    "\n",
    "arr[1, 2] = 10\n",
    "print(arr)"
   ]
  },
  {
   "cell_type": "code",
   "execution_count": 43,
   "metadata": {},
   "outputs": [
    {
     "name": "stdout",
     "output_type": "stream",
     "text": [
      "(3, 5)\n",
      "[[ 7  8]\n",
      " [12 13]]\n",
      "[[ 6  7  8  9 10]]\n"
     ]
    }
   ],
   "source": [
    "# 슬라이싱\n",
    "arr = np.array( [ \n",
    "    [ 1, 2, 3, 4, 5 ],\n",
    "    [ 6, 7, 8, 9, 10 ],\n",
    "    [ 11, 12, 13, 14, 15] \n",
    "    ] )\n",
    "\n",
    "print(arr.shape)\n",
    "print(arr[1:3, 1:3]) # 1행 1열에서 부터 3 - 1열까지 출력\n",
    "print(arr[1:2, :])\n"
   ]
  },
  {
   "cell_type": "code",
   "execution_count": 44,
   "metadata": {},
   "outputs": [
    {
     "name": "stdout",
     "output_type": "stream",
     "text": [
      "[0 2 4]\n"
     ]
    }
   ],
   "source": [
    "# bool 인덱싱\n",
    "arr = np.array([0,1,2,3,4,5])\n",
    "bool_arr = np.array([True, False, True, False, True, False])\n",
    "\n",
    "print(arr[bool_arr])"
   ]
  },
  {
   "cell_type": "code",
   "execution_count": 49,
   "metadata": {},
   "outputs": [
    {
     "name": "stdout",
     "output_type": "stream",
     "text": [
      "[5 7 9]\n",
      "[6 7 8]\n",
      "[ 5 10 15]\n",
      "[21 25 29]\n"
     ]
    }
   ],
   "source": [
    "a = np.array([1, 2, 3])\n",
    "b = np.array([4, 5, 6])\n",
    "\n",
    "c = a + b\n",
    "print(c)\n",
    "\n",
    "c = a + 5\n",
    "print(c)\n",
    "\n",
    "c = 5 * a\n",
    "print(c)\n",
    "\n",
    "c = 2 + 5 * b - a\n",
    "\n",
    "print(c)"
   ]
  },
  {
   "cell_type": "code",
   "execution_count": 50,
   "metadata": {},
   "outputs": [
    {
     "data": {
      "text/plain": [
       "array([False,  True, False])"
      ]
     },
     "execution_count": 50,
     "metadata": {},
     "output_type": "execute_result"
    }
   ],
   "source": [
    "c = np.array([21, 25, 24])\n",
    "c == 25\n",
    "\n"
   ]
  },
  {
   "cell_type": "code",
   "execution_count": 51,
   "metadata": {},
   "outputs": [
    {
     "name": "stdout",
     "output_type": "stream",
     "text": [
      "(3, 3)\n",
      "8\n",
      "0\n",
      "8\n",
      "4\n",
      "5\n"
     ]
    }
   ],
   "source": [
    "arr = np.array([ \n",
    "                    [ 0, 1, 2 ],\n",
    "                    [ 3, 4, 5 ],\n",
    "                    [ 6, 7, 8 ] \n",
    "               ])\n",
    "\n",
    "print(arr.shape)\n",
    "print(arr[2,2])\n",
    "print(arr[0,0])\n",
    "\n",
    "print(arr[-1,-1])\n",
    "print(arr[-2,-2])\n",
    "print(arr[-2,2])"
   ]
  }
 ],
 "metadata": {
  "kernelspec": {
   "display_name": "env_django",
   "language": "python",
   "name": "python3"
  },
  "language_info": {
   "codemirror_mode": {
    "name": "ipython",
    "version": 3
   },
   "file_extension": ".py",
   "mimetype": "text/x-python",
   "name": "python",
   "nbconvert_exporter": "python",
   "pygments_lexer": "ipython3",
   "version": "3.10.16"
  }
 },
 "nbformat": 4,
 "nbformat_minor": 2
}
