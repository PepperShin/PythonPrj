{
 "cells": [
  {
   "cell_type": "code",
   "execution_count": 1,
   "metadata": {},
   "outputs": [
    {
     "ename": "IndexError",
     "evalue": "list index out of range",
     "output_type": "error",
     "traceback": [
      "\u001b[1;31m---------------------------------------------------------------------------\u001b[0m",
      "\u001b[1;31mIndexError\u001b[0m                                Traceback (most recent call last)",
      "Cell \u001b[1;32mIn[1], line 4\u001b[0m\n\u001b[0;32m      1\u001b[0m \u001b[38;5;66;03m# 예외처리에 대한 이해\u001b[39;00m\n\u001b[0;32m      3\u001b[0m lst \u001b[38;5;241m=\u001b[39m [\u001b[38;5;241m1\u001b[39m, \u001b[38;5;241m2\u001b[39m]\n\u001b[1;32m----> 4\u001b[0m \u001b[43mlst\u001b[49m\u001b[43m[\u001b[49m\u001b[38;5;241;43m3\u001b[39;49m\u001b[43m]\u001b[49m\n",
      "\u001b[1;31mIndexError\u001b[0m: list index out of range"
     ]
    }
   ],
   "source": [
    "# 예외처리에 대한 이해\n",
    "\n",
    "lst = [1, 2]\n",
    "lst[3]"
   ]
  },
  {
   "cell_type": "code",
   "execution_count": 3,
   "metadata": {},
   "outputs": [
    {
     "name": "stdout",
     "output_type": "stream",
     "text": [
      "입력이 잘못되었습니다.\n",
      "만나서 반가웠습니다.\n"
     ]
    }
   ],
   "source": [
    "# try ~except\n",
    "\n",
    "try:\n",
    "    age = int(input(\"나이를 입력하세요\"))\n",
    "    print(age)\n",
    "except ValueError:\n",
    "    print(\"입력이 잘못되었습니다.\")\n",
    "\n",
    "print(\"만나서 반가웠습니다.\")\n"
   ]
  },
  {
   "cell_type": "code",
   "execution_count": 4,
   "metadata": {},
   "outputs": [
    {
     "name": "stdout",
     "output_type": "stream",
     "text": [
      "입력이 잘못되었습니다.\n",
      "입력이 잘못되었습니다.\n",
      "입력이 잘못되었습니다.\n",
      "입력이 잘못되었습니다.\n",
      "입력이 잘못되었습니다.\n",
      "42\n",
      "만나서 반가웠습니다.\n"
     ]
    }
   ],
   "source": [
    "while True:\n",
    "    try:\n",
    "        age = int(input(\"나이를 입력하세요\"))\n",
    "        print(age)\n",
    "        break\n",
    "    except ValueError:\n",
    "        print(\"입력이 잘못되었습니다.\")\n",
    "\n",
    "print(\"만나서 반가웠습니다.\")"
   ]
  },
  {
   "cell_type": "code",
   "execution_count": 6,
   "metadata": {},
   "outputs": [
    {
     "name": "stdout",
     "output_type": "stream",
     "text": [
      "1인당 빵의 수 : 3.3333333333333335\n",
      "맛있게 드세요.\n",
      "프로그램 종료\n"
     ]
    }
   ],
   "source": [
    "def main():\n",
    "    bread = 10\n",
    "    try:\n",
    "        people = int(input(\"몇 명? :\"))\n",
    "        print(\"1인당 빵의 수 :\", bread / people)\n",
    "        print(\"맛있게 드세요.\")\n",
    "    except ValueError as msg:\n",
    "        print(\"입력이 잘못되었습니다.\")\n",
    "        print(msg)\n",
    "    except ZeroDivisionError as msg:\n",
    "        print(\"0으로 나눌 수 없습니다.\")\n",
    "        print(msg)\n",
    "    finally:\n",
    "        print(\"프로그램 종료\")\n",
    "\n",
    "main()"
   ]
  },
  {
   "cell_type": "code",
   "execution_count": 7,
   "metadata": {},
   "outputs": [
    {
     "name": "stdout",
     "output_type": "stream",
     "text": [
      "오류!\n",
      "프로그램 종료\n"
     ]
    }
   ],
   "source": [
    "def main():\n",
    "    bread = 10\n",
    "    try:\n",
    "        people = int(input(\"몇 명? :\"))\n",
    "        print(\"1인당 빵의 수 :\", bread / people)\n",
    "        print(\"맛있게 드세요.\")\n",
    "    except: # 에러 원인 객체를 적지 않으면 어떠한 에러가 나도 예외처리를 해준다.\n",
    "        print(\"오류!\")\n",
    "    finally:\n",
    "        print(\"프로그램 종료\")\n",
    "\n",
    "main()"
   ]
  },
  {
   "cell_type": "code",
   "execution_count": 9,
   "metadata": {},
   "outputs": [
    {
     "name": "stdout",
     "output_type": "stream",
     "text": [
      "잘못된 입력입니다.\n",
      "총점 :  130\n",
      "평균 :  43.333333333333336\n",
      "학점 :  가\n"
     ]
    }
   ],
   "source": [
    "# 9. 국영수 를 입력 받아, 평균과 총점 ,성적을 출력 프로그램을 작성하시오\n",
    "# 객체지향적으로(클래스 활용하여) 프로그램밍 하시오.\n",
    "\n",
    "class Grade:\n",
    "    def __init__(self,kor,eng,math):\n",
    "        self.kor = kor\n",
    "        self.eng = eng\n",
    "        self.math = math\n",
    "\n",
    "    def get_total(self):\n",
    "        return self.kor + self.eng + self.math\n",
    "\n",
    "    def get_avg(self):\n",
    "        return self.get_total() / 3\n",
    "\n",
    "    def get_grade(self):\n",
    "\n",
    "        avg = self.get_avg()\n",
    "\n",
    "        if avg >= 90:\n",
    "            grade = '수'\n",
    "        elif avg >= 80:\n",
    "            grade = '우'\n",
    "        elif avg >= 70:\n",
    "            grade = '미'\n",
    "        elif avg >= 60:\n",
    "            grade = '양'\n",
    "        else:\n",
    "            grade ='가'\n",
    "\n",
    "        return grade\n",
    "\n",
    "\n",
    "def main():\n",
    "    while True:\n",
    "        try:\n",
    "            kor = int(input(\"국어 점수 입력 : \"))\n",
    "            eng = int(input(\"영어 점수 입력 : \"))\n",
    "            math = int(input(\"수학 점수 입력 : \"))\n",
    "        \n",
    "            grade = Grade(kor,eng,math)\n",
    "\n",
    "            print(\"총점 : \",grade.get_total())\n",
    "            print(\"평균 : \",grade.get_avg())\n",
    "            print(\"학점 : \",grade.get_grade())\n",
    "\n",
    "        except:\n",
    "            print(\"잘못된 입력입니다.\")\n",
    "        \n",
    "        finally:\n",
    "            continue_yn = input(\"계속 하시겠습니까? (y/n) : \")\n",
    "\n",
    "            if continue_yn.upper() != 'Y' and continue_yn.upper() != 'YES':\n",
    "                break\n",
    "\n",
    "\n",
    "main()"
   ]
  }
 ],
 "metadata": {
  "kernelspec": {
   "display_name": "env_django",
   "language": "python",
   "name": "python3"
  },
  "language_info": {
   "codemirror_mode": {
    "name": "ipython",
    "version": 3
   },
   "file_extension": ".py",
   "mimetype": "text/x-python",
   "name": "python",
   "nbconvert_exporter": "python",
   "pygments_lexer": "ipython3",
   "version": "3.10.16"
  }
 },
 "nbformat": 4,
 "nbformat_minor": 2
}
