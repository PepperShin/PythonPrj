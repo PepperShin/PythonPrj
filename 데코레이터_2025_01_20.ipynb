{
 "cells": [
  {
   "cell_type": "code",
   "execution_count": 4,
   "metadata": {},
   "outputs": [
    {
     "name": "stdout",
     "output_type": "stream",
     "text": [
      "emotion!\n",
      "^_^\n",
      "emotion!\n",
      "emotion!\n",
      "@_@\n",
      "emotion!\n"
     ]
    }
   ],
   "source": [
    "\n",
    "def smile():\n",
    "    print('^_^')\n",
    "\n",
    "def confused():\n",
    "    print('@_@')\n",
    "\n",
    "def deco(func):\n",
    "    def wrapper():\n",
    "        print('emotion!')\n",
    "        func()\n",
    "        print('emotion!')\n",
    "\n",
    "    return wrapper\n",
    "\n",
    "smile = deco(smile) # 파라미터로 함수를 넘길때는 괄호를 뺀다. 결국에는 wrapper 함수에서 func()가 smile()로 대체된 상태로 smile이 된다\n",
    "\n",
    "smile()\n",
    "\n",
    "confused = deco(confused)\n",
    "\n",
    "confused()"
   ]
  },
  {
   "cell_type": "code",
   "execution_count": 6,
   "metadata": {},
   "outputs": [
    {
     "name": "stdout",
     "output_type": "stream",
     "text": [
      "emotion!\n",
      "^_^\n",
      "emotion!\n"
     ]
    }
   ],
   "source": [
    "# 데코레이터\n",
    "\n",
    "def smile():\n",
    "    print('^_^')\n",
    "\n",
    "def confused():\n",
    "    print('@_@')\n",
    "\n",
    "def deco(func):\n",
    "    def wrapper():\n",
    "        print('emotion!')\n",
    "        func()\n",
    "        print('emotion!')\n",
    "\n",
    "    return wrapper\n",
    "\n",
    "@deco # @ + 함수명으로 함수호출한다.\n",
    "def smile(): # 이 함수의 내용이 파라미터로 호출되고, wrapper 함수가 리턴되어 smile이 된다.\n",
    "    print('^_^')\n",
    "\n",
    "#smile = deco(smile)과 같다\n",
    "\n",
    "smile()\n",
    "\n"
   ]
  },
  {
   "cell_type": "code",
   "execution_count": 16,
   "metadata": {},
   "outputs": [
    {
     "name": "stdout",
     "output_type": "stream",
     "text": [
      "8\n",
      "6\n"
     ]
    }
   ],
   "source": [
    "# 파라미터가 붙은 데코레이터\n",
    "\n",
    "def adder_deco(func):\n",
    "    def add(*n):\n",
    "        print('{0}'.format(func(*n)))\n",
    "\n",
    "    return add\n",
    "\n",
    "\n",
    "@adder_deco\n",
    "def adder(n1, n2):\n",
    "    return n1 + n2\n",
    "\n",
    "adder(3, 5)\n",
    "\n",
    "@adder_deco\n",
    "def adder2(n1, n2, n3):\n",
    "    return n1 + n2 + n3\n",
    "\n",
    "adder2(1, 2, 3)"
   ]
  },
  {
   "cell_type": "code",
   "execution_count": 21,
   "metadata": {},
   "outputs": [
    {
     "name": "stdout",
     "output_type": "stream",
     "text": [
      "3\n"
     ]
    }
   ],
   "source": [
    "def adder_deco(func):\n",
    "    def add(*n):\n",
    "        print('{0}'.format(func(*n)))\n",
    "\n",
    "    return add\n",
    "\n",
    "def adder(n1, n2):\n",
    "    return n1 + n2\n",
    "\n",
    "adder = adder_deco(adder)\n",
    "\n",
    "adder(1, 2)"
   ]
  },
  {
   "cell_type": "code",
   "execution_count": 26,
   "metadata": {},
   "outputs": [
    {
     "name": "stdout",
     "output_type": "stream",
     "text": [
      "emotion!\n",
      "emotion!\n",
      "^_^\n",
      "emotion!\n",
      "emotion!\n"
     ]
    }
   ],
   "source": [
    "#이중 데코레이션\n",
    "\n",
    "def smile():\n",
    "    print('^_^')\n",
    "\n",
    "def confused():\n",
    "    print('@_@')\n",
    "\n",
    "def deco(func):\n",
    "    def wrapper():\n",
    "        print('emotion!')\n",
    "        func()\n",
    "        print('emotion!')\n",
    "\n",
    "    return wrapper\n",
    "\n",
    "@deco # deco(deco(smile))\n",
    "@deco \n",
    "def smile():\n",
    "    print('^_^')\n",
    "\n",
    "smile()\n"
   ]
  }
 ],
 "metadata": {
  "kernelspec": {
   "display_name": "env_django",
   "language": "python",
   "name": "python3"
  },
  "language_info": {
   "codemirror_mode": {
    "name": "ipython",
    "version": 3
   },
   "file_extension": ".py",
   "mimetype": "text/x-python",
   "name": "python",
   "nbconvert_exporter": "python",
   "pygments_lexer": "ipython3",
   "version": "3.10.16"
  }
 },
 "nbformat": 4,
 "nbformat_minor": 2
}
