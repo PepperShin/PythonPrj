{
 "cells": [
  {
   "cell_type": "code",
   "execution_count": 5,
   "metadata": {},
   "outputs": [
    {
     "name": "stdout",
     "output_type": "stream",
     "text": [
      "스레드 확인 MainThread\n"
     ]
    }
   ],
   "source": [
    "import threading\n",
    "\n",
    "print('스레드 확인', threading.current_thread().name)"
   ]
  },
  {
   "cell_type": "code",
   "execution_count": 13,
   "metadata": {},
   "outputs": [
    {
     "name": "stdout",
     "output_type": "stream",
     "text": [
      "1 a 2 b 3 4 c 5 d 6 7e  8 f 9 g 10 h i j "
     ]
    }
   ],
   "source": [
    "import threading\n",
    "import time\n",
    "\n",
    "def print_numbers():\n",
    "    for i in range(1, 11):\n",
    "        time.sleep(1)\n",
    "        print(i, end = ' ')\n",
    "\n",
    "def print_letters():\n",
    "    for letter in 'abcdefghij':\n",
    "        time.sleep(1.4)\n",
    "        print(letter, end = ' ')\n",
    "\n",
    "# 두개의 스레드를 생성하고 실행\n",
    "thread1 = threading.Thread(target=print_numbers)\n",
    "thread2 = threading.Thread(target=print_letters)\n",
    "thread1.start()\n",
    "thread2.start()"
   ]
  },
  {
   "cell_type": "code",
   "execution_count": 14,
   "metadata": {},
   "outputs": [
    {
     "name": "stdout",
     "output_type": "stream",
     "text": [
      "first_thread function START\n",
      "1\n",
      "1\n",
      "1\n",
      "1\n",
      "1\n",
      "first_thread function END\n",
      "스레드 확인 Thread-235 (first_thread)\n",
      "second_thread function START\n",
      "2\n",
      "2\n",
      "2\n",
      "2\n",
      "2\n",
      "second_thread function END\n",
      "스레드 확인 Thread-236 (second_thread)\n"
     ]
    }
   ],
   "source": [
    "# 전달 인자가 있을때\n",
    "\n",
    "import threading\n",
    "\n",
    "# 첫번째 실행할 스레드 함수\n",
    "def first_thread(num):\n",
    "    print(\"first_thread function START\")\n",
    "    for i in range(num):\n",
    "        print('1')\n",
    "    print(\"first_thread function END\")\n",
    "    print('스레드 확인', threading.current_thread().name)\n",
    "\n",
    "# 두번째 실행할 스레드 함수\n",
    "def second_thread(num):\n",
    "    print(\"second_thread function START\")\n",
    "    for i in range(num):\n",
    "        print('2')\n",
    "    print('second_thread function END')\n",
    "    print('스레드 확인', threading.current_thread().name)\n",
    "\n",
    "# thread 생성(각 숫자를 5회 출력)\n",
    "thread1 = threading.Thread(target=first_thread, args=(5,)) # 튜플로 인자를 받는다\n",
    "thread2 = threading.Thread(target=second_thread, args=(5,))\n",
    "\n",
    "thread1.start()\n",
    "thread2.start()"
   ]
  },
  {
   "cell_type": "code",
   "execution_count": 15,
   "metadata": {},
   "outputs": [
    {
     "name": "stdout",
     "output_type": "stream",
     "text": [
      "1\n",
      "2\n",
      "3\n",
      "4\n",
      "5\n",
      "6\n",
      "7\n",
      "8\n",
      "9\n",
      "10\n",
      "a\n",
      "b\n",
      "c\n",
      "d\n",
      "e\n",
      "f\n",
      "g\n",
      "h\n",
      "i\n",
      "j\n"
     ]
    }
   ],
   "source": [
    "import threading\n",
    "\n",
    "# 클래스 기반의 쓰레드는 threading.Thread를 상속받아야 함!\n",
    "# 사용자 정의 생성자(__init__)를 정의할 경우 반드시 super().__init()을 호출해야 함!\n",
    "class PrintNumbers(threading.Thread):\n",
    "    def __init__(self):\n",
    "        super().__init__()\n",
    "\n",
    "    def run(self):\n",
    "        for i in range(1, 11):\n",
    "            print(i)\n",
    "\n",
    "class PrintLetters(threading.Thread):\n",
    "    def run(self):\n",
    "        for letter in 'abcdefghij':\n",
    "            print(letter)\n",
    "\n",
    "# 쓰레드 생성 및 시작\n",
    "thread1 = PrintNumbers()\n",
    "thread2 = PrintLetters()\n",
    "\n",
    "'''\n",
    "run이 아닌 start인 이유\n",
    "run을 호출할 경우 새로운 쓰레드를 생성하는 것이 아닌 현재 쓰레드에서 함수 호출을 하게 됨.\n",
    "start를 호출할 경우 내부적으로 새로운 쓰레드를 요청하여 해당 쓰레드에서 run이 호출되도록 함.\n",
    "'''\n",
    "thread1.start()\n",
    "thread2.start()"
   ]
  },
  {
   "cell_type": "code",
   "execution_count": 21,
   "metadata": {},
   "outputs": [
    {
     "name": "stdout",
     "output_type": "stream",
     "text": [
      "쓰레드 확인 Thread-365\n",
      "0\n",
      "쓰레드 확인 Thread-366\n",
      "1\n",
      "쓰레드 확인 Thread-367\n",
      "2\n",
      "쓰레드 확인 Thread-368\n",
      "3\n",
      "쓰레드 확인 Thread-369\n",
      "4\n"
     ]
    },
    {
     "name": "stdout",
     "output_type": "stream",
     "text": [
      "쓰레드 종료 3\n",
      "쓰레드 종료 4\n",
      "쓰레드 종료 1\n",
      "쓰레드 종료 0\n",
      "쓰레드 종료 2\n"
     ]
    }
   ],
   "source": [
    "import threading\n",
    "import time\n",
    "\n",
    "# 다중 쓰레딩\n",
    "class PrintNums(threading.Thread):\n",
    "    def __init__(self, num):\n",
    "        super().__init__()\n",
    "        self.num = num\n",
    "\n",
    "    def run(self):\n",
    "        print('쓰레드 확인', threading.current_thread().name)\n",
    "        print(self.num)\n",
    "        time.sleep(1)\n",
    "        print('쓰레드 종료', self.num)\n",
    "        \n",
    "\n",
    "for i in range(5):\n",
    "    thread = PrintNums(i)\n",
    "    thread.start()"
   ]
  },
  {
   "cell_type": "code",
   "execution_count": 19,
   "metadata": {},
   "outputs": [
    {
     "name": "stdout",
     "output_type": "stream",
     "text": [
      "sub thread start!  thread number: 0\n",
      "sub thread start!  thread number: 1\n",
      "sub thread start!  thread number: 2\n",
      "sub thread start!  thread number: 3\n",
      "sub thread start!  thread number: 4\n"
     ]
    },
    {
     "name": "stdout",
     "output_type": "stream",
     "text": [
      "sub thread end!  thread number: 1\n",
      "sub thread end!  thread number: 4\n",
      "sub thread end!  thread number: 3\n",
      "sub thread end!  thread number: 2\n",
      "sub thread end!  thread number: 0\n"
     ]
    }
   ],
   "source": [
    "import threading\n",
    "\n",
    "#클래스기반으로 쓰레드 만들기\n",
    "# threading.Thread # 클래스를 상속받아서 새로운 클래스를 만든다.\n",
    "class Worker(threading.Thread):\n",
    "    def __init__(self, name):\n",
    "        super().__init__()\n",
    "        self.name = name\n",
    "\n",
    "    # run 메소드는 쓰레드가 실행할 코드를 포함한다\n",
    "    def run(self): # 메인 함수 역할\n",
    "        print(\"sub thread start! \", threading.current_thread().name)\n",
    "        time.sleep(3)\n",
    "        print(\"sub thread end! \", threading.current_thread().name)\n",
    "\n",
    "for i in range(5):\n",
    "    name = f'thread number: {i}'\n",
    "    t = Worker(name)\n",
    "    t.start() # 쓰레드 실행은 run 메소드가 아닌 start 메소드로 실행"
   ]
  }
 ],
 "metadata": {
  "kernelspec": {
   "display_name": "env_django",
   "language": "python",
   "name": "python3"
  },
  "language_info": {
   "codemirror_mode": {
    "name": "ipython",
    "version": 3
   },
   "file_extension": ".py",
   "mimetype": "text/x-python",
   "name": "python",
   "nbconvert_exporter": "python",
   "pygments_lexer": "ipython3",
   "version": "3.10.16"
  }
 },
 "nbformat": 4,
 "nbformat_minor": 2
}
