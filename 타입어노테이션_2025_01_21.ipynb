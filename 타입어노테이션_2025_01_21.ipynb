{
 "cells": [
  {
   "cell_type": "code",
   "execution_count": null,
   "metadata": {},
   "outputs": [],
   "source": [
    "num : int = 3\n",
    "print(num)\n",
    "\n",
    "# 다른 언어의 int num = 3 과 같다.\n",
    "\n",
    "num : int = 3.14 # 강제성이 없어서 문제가 없다... 단지 알려주기 용\n",
    "print(num)\n",
    "\n",
    "def add(a : int, b : int) -> int: # return int타입\n",
    "    return a + b"
   ]
  }
 ],
 "metadata": {
  "kernelspec": {
   "display_name": "env_django",
   "language": "python",
   "name": "python3"
  },
  "language_info": {
   "name": "python",
   "version": "3.10.16"
  }
 },
 "nbformat": 4,
 "nbformat_minor": 2
}
