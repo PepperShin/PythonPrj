{
 "cells": [
  {
   "cell_type": "code",
   "execution_count": 3,
   "metadata": {},
   "outputs": [
    {
     "data": {
      "text/plain": [
       "range"
      ]
     },
     "execution_count": 3,
     "metadata": {},
     "output_type": "execute_result"
    }
   ],
   "source": [
    "type(3.0)\n",
    "type([1, 2, 3])\n",
    "type(range(3)) #레인지는 리스트로 구성된 객체"
   ]
  },
  {
   "cell_type": "code",
   "execution_count": 14,
   "metadata": {},
   "outputs": [
    {
     "name": "stdout",
     "output_type": "stream",
     "text": [
      "9\n",
      "27\n",
      "2.5\n",
      "0.75\n",
      "2\n",
      "1\n"
     ]
    }
   ],
   "source": [
    "print(3**2)\n",
    "print(3**3)\n",
    "\n",
    "print(5/2)\n",
    "print(3/4)\n",
    "print(5//2) #print(int(5/2)) 몫 계산\n",
    "\n",
    "print(5%2) #나머지"
   ]
  },
  {
   "cell_type": "code",
   "execution_count": 9,
   "metadata": {},
   "outputs": [
    {
     "name": "stdout",
     "output_type": "stream",
     "text": [
      "3.14\n"
     ]
    }
   ],
   "source": [
    "height = float(input(\"숫자를 입력해주세요 :\"))\n",
    "print(height)"
   ]
  },
  {
   "cell_type": "code",
   "execution_count": 13,
   "metadata": {},
   "outputs": [
    {
     "name": "stdout",
     "output_type": "stream",
     "text": [
      "5.0\n",
      "625.0\n"
     ]
    }
   ],
   "source": [
    "num = 10\n",
    "num /= 2\n",
    "\n",
    "print(num)\n",
    "\n",
    "num **= 4\n",
    "\n",
    "print(num)"
   ]
  }
 ],
 "metadata": {
  "kernelspec": {
   "display_name": "env_django",
   "language": "python",
   "name": "python3"
  },
  "language_info": {
   "codemirror_mode": {
    "name": "ipython",
    "version": 3
   },
   "file_extension": ".py",
   "mimetype": "text/x-python",
   "name": "python",
   "nbconvert_exporter": "python",
   "pygments_lexer": "ipython3",
   "version": "3.10.16"
  }
 },
 "nbformat": 4,
 "nbformat_minor": 2
}
