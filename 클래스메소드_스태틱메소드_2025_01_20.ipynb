{
 "cells": [
  {
   "cell_type": "code",
   "execution_count": 6,
   "metadata": {},
   "outputs": [
    {
     "name": "stdout",
     "output_type": "stream",
     "text": [
      "0\n",
      "0\n",
      "1\n",
      "2\n",
      "{'num': 10, 'count': 2}\n",
      "10\n"
     ]
    }
   ],
   "source": [
    "# 클래스 변수, 클래스 함수, 스태틱 함수\n",
    "\n",
    "class Simple:\n",
    "\n",
    "    count = 0 # 클래스 변수\n",
    "\n",
    "    def __init__(self, num):\n",
    "        self.num = num\n",
    "\n",
    "    def get_num(self):\n",
    "        return self.num\n",
    "\n",
    "    def set_num(self, num):\n",
    "        self.num = num\n",
    "\n",
    "# 클래스 변수 접근하는 법\n",
    "print(Simple.count)\n",
    "\n",
    "s = Simple(10)\n",
    "\n",
    "# 객체로도 접근 가능하다.\n",
    "print(s.count)\n",
    "\n",
    "Simple.count += 1\n",
    "\n",
    "print(Simple.count)\n",
    "\n",
    "s.count += 1\n",
    "print(s.count)\n",
    "\n",
    "print(s.__dict__)"
   ]
  },
  {
   "cell_type": "code",
   "execution_count": 10,
   "metadata": {},
   "outputs": [
    {
     "name": "stdout",
     "output_type": "stream",
     "text": [
      "1\n",
      "2\n",
      "78.5\n"
     ]
    }
   ],
   "source": [
    "# 어떨때 클래스 변수를 활용하는가?\n",
    "\n",
    "# 객체 생성횟수 카운트\n",
    "\n",
    "class Simple:\n",
    "\n",
    "    count = 0 # 클래스 변수\n",
    "\n",
    "    def __init__(self, num):\n",
    "        self.num = num\n",
    "        Simple.count += 1 # 객체가 생성될때마다 +1\n",
    "\n",
    "    def get_num(self):\n",
    "        return self.num\n",
    "\n",
    "    def set_num(self, num):\n",
    "        self.num = num\n",
    "\n",
    "s = Simple(10)\n",
    "print(Simple.count)\n",
    "\n",
    "t = Simple(20)\n",
    "print(Simple.count)\n",
    "\n",
    "\n",
    "class Circle:\n",
    "    PI = 3.14 # 클래스 내부에서 상수 지정할때 변수를 대문자로 표현.\n",
    "\n",
    "    def get_area(self, r):\n",
    "        return Circle.PI * r * r # 객체를 생성할 필요 없이 클래스 선언할 때 한번만 사용하면 해결\n",
    "    \n",
    "c = Circle()\n",
    "\n",
    "print(c.get_area(5))\n",
    "\n",
    "\n",
    "# 카드게임\n",
    "class Card:\n",
    "    # 카드 크기 고정\n",
    "    WIDTH = 30\n",
    "    HEIGHT = 60\n",
    "\n",
    "    def __init__(self, kind, num):\n",
    "        self.kind = kind\n",
    "        self.num = num\n",
    "\n",
    "    def __str__(self):\n",
    "        return f'{self.kind} {self.num}'\n",
    "        pass\n"
   ]
  },
  {
   "cell_type": "code",
   "execution_count": 12,
   "metadata": {},
   "outputs": [
    {
     "name": "stdout",
     "output_type": "stream",
     "text": [
      "30\n",
      "30\n",
      "200\n"
     ]
    }
   ],
   "source": [
    "# 클래스 메소드와 스태틱 메소드\n",
    "\n",
    "class Calculator:\n",
    "\n",
    "    @staticmethod # 스태틱 메소드 = 정적 메소드 (간단한 함수들)\n",
    "    def add(n1, n2): # 스태틱 메소드는 self가 안들어간다.\n",
    "        return n1 + n2\n",
    "    \n",
    "    def add2(self, n1, n2): # 인스턴스 메소드\n",
    "        return n1 + n2\n",
    "\n",
    "    @staticmethod\n",
    "    def mul(n1, n2):\n",
    "        return n1 * n2\n",
    "    \n",
    "cal = Calculator()\n",
    "\n",
    "print(cal.add(10, 20))\n",
    "\n",
    "print(Calculator.add(10, 20))\n",
    "print(Calculator.mul(10, 20))\n",
    "\n",
    "# print(Calculator.add2(10, 20)) # 클래스로 인스턴스 메소드는 접근 불가."
   ]
  },
  {
   "cell_type": "code",
   "execution_count": 18,
   "metadata": {},
   "outputs": [
    {
     "name": "stdout",
     "output_type": "stream",
     "text": [
      "30\n",
      "200\n",
      "30\n"
     ]
    }
   ],
   "source": [
    "\n",
    "class Calculator:\n",
    "\n",
    "    @staticmethod # 스태틱 메소드 = 정적 메소드 (간단한 함수들)\n",
    "    def add(n1, n2): # 스태틱 메소드는 self가 안들어간다.\n",
    "        return n1 + n2\n",
    "    \n",
    "    def add2(self, n1, n2): # 인스턴스 메소드\n",
    "        return n1 + n2\n",
    "\n",
    "    @staticmethod\n",
    "    def mul(n1, n2):\n",
    "        return n1 * n2\n",
    "    \n",
    "print(Calculator.add(10, 20))\n",
    "print(Calculator.mul(10, 20))\n",
    "\n",
    "cal = Calculator()\n",
    "\n",
    "print(cal.add(10, 20))\n",
    "\n",
    "\n",
    "\n",
    "# print(Calculator.add2(10, 20)) # 클래스로 인스턴스 메소드는 접근 불가."
   ]
  },
  {
   "cell_type": "code",
   "execution_count": null,
   "metadata": {},
   "outputs": [],
   "source": [
    "# 응용\n",
    "\n",
    "import math\n",
    "math.sin(90)"
   ]
  },
  {
   "cell_type": "code",
   "execution_count": 16,
   "metadata": {},
   "outputs": [
    {
     "name": "stdout",
     "output_type": "stream",
     "text": [
      "3.14\n",
      "78.5\n",
      "3.14\n",
      "78.5\n"
     ]
    }
   ],
   "source": [
    "class Circle2:\n",
    "    PI = 3.14\n",
    "\n",
    "    @classmethod # 클래스 자체 메소드\n",
    "    def get_area(cls, radius): # 인자로 클래스를 받는다.\n",
    "        return cls.PI * radius * radius\n",
    "\n",
    "print(Circle2.PI)\n",
    "result = Circle2.get_area(5) # Circle2.get_area(Circle2, 5)\n",
    "print(result)\n",
    "\n",
    "c2 = Circle2()\n",
    "print(c2.PI)\n",
    "\n",
    "result = c2.get_area(5) # c2.get_area(c2, 5)\n",
    "print(result)"
   ]
  },
  {
   "cell_type": "code",
   "execution_count": 1,
   "metadata": {},
   "outputs": [
    {
     "name": "stdout",
     "output_type": "stream",
     "text": [
      "1\n",
      "2\n",
      "3\n",
      "3\n",
      "4\n",
      "5\n",
      "6\n",
      "6\n"
     ]
    }
   ],
   "source": [
    "#클래스 메소드 = 클래스 변수 컨트롤 하기위해 \n",
    "\n",
    "class Simple:\n",
    "    count = 0  # Private class variable\n",
    "\n",
    "    def __init__(self):\n",
    "        self.count2 = 0\n",
    "\n",
    "    @classmethod\n",
    "    def increment(cls):\n",
    "        cls.count += 1\n",
    "        return cls.count\n",
    "\n",
    "    @classmethod\n",
    "    def get_count(cls):\n",
    "        return cls.count\n",
    "\n",
    "Simple._Simplecount = 42\n",
    "\n",
    "s = Simple()\n",
    "s.__dict__['_Simple__count2'] = 100\n",
    "\n",
    "print(s.increment())\n",
    "print(s.increment())\n",
    "print(s.increment())\n",
    "print(s.get_count())\n",
    "\n",
    "\n",
    "print(Simple.increment())\n",
    "print(Simple.increment())\n",
    "print(Simple.increment())\n",
    "print(Simple.get_count())"
   ]
  }
 ],
 "metadata": {
  "kernelspec": {
   "display_name": "env_django",
   "language": "python",
   "name": "python3"
  },
  "language_info": {
   "codemirror_mode": {
    "name": "ipython",
    "version": 3
   },
   "file_extension": ".py",
   "mimetype": "text/x-python",
   "name": "python",
   "nbconvert_exporter": "python",
   "pygments_lexer": "ipython3",
   "version": "3.10.16"
  }
 },
 "nbformat": 4,
 "nbformat_minor": 2
}
