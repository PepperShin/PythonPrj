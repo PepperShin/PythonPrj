{
 "cells": [
  {
   "cell_type": "code",
   "execution_count": 1,
   "metadata": {},
   "outputs": [
    {
     "name": "stdout",
     "output_type": "stream",
     "text": [
      "Collecting pandas\n",
      "  Downloading pandas-2.2.3-cp310-cp310-win_amd64.whl.metadata (19 kB)\n",
      "Requirement already satisfied: numpy>=1.22.4 in c:\\users\\peep1\\anaconda3\\envs\\env_django\\lib\\site-packages (from pandas) (2.2.2)\n",
      "Requirement already satisfied: python-dateutil>=2.8.2 in c:\\users\\peep1\\anaconda3\\envs\\env_django\\lib\\site-packages (from pandas) (2.9.0.post0)\n",
      "Collecting pytz>=2020.1 (from pandas)\n",
      "  Downloading pytz-2025.1-py2.py3-none-any.whl.metadata (22 kB)\n",
      "Collecting tzdata>=2022.7 (from pandas)\n",
      "  Downloading tzdata-2025.1-py2.py3-none-any.whl.metadata (1.4 kB)\n",
      "Requirement already satisfied: six>=1.5 in c:\\users\\peep1\\anaconda3\\envs\\env_django\\lib\\site-packages (from python-dateutil>=2.8.2->pandas) (1.17.0)\n",
      "Downloading pandas-2.2.3-cp310-cp310-win_amd64.whl (11.6 MB)\n",
      "   ---------------------------------------- 0.0/11.6 MB ? eta -:--:--\n",
      "   -------- ------------------------------- 2.4/11.6 MB 11.2 MB/s eta 0:00:01\n",
      "   ---------------- ----------------------- 4.7/11.6 MB 11.9 MB/s eta 0:00:01\n",
      "   ------------------------- -------------- 7.3/11.6 MB 11.6 MB/s eta 0:00:01\n",
      "   --------------------------------- ------ 9.7/11.6 MB 11.6 MB/s eta 0:00:01\n",
      "   ---------------------------------------- 11.6/11.6 MB 11.5 MB/s eta 0:00:00\n",
      "Downloading pytz-2025.1-py2.py3-none-any.whl (507 kB)\n",
      "Downloading tzdata-2025.1-py2.py3-none-any.whl (346 kB)\n",
      "Installing collected packages: pytz, tzdata, pandas\n",
      "Successfully installed pandas-2.2.3 pytz-2025.1 tzdata-2025.1\n",
      "Note: you may need to restart the kernel to use updated packages.\n"
     ]
    }
   ],
   "source": [
    "pip install pandas"
   ]
  },
  {
   "cell_type": "code",
   "execution_count": 2,
   "metadata": {},
   "outputs": [
    {
     "name": "stdout",
     "output_type": "stream",
     "text": [
      "0    10\n",
      "1    20\n",
      "2    30\n",
      "dtype: int64\n",
      "0    고가\n",
      "1    시가\n",
      "dtype: object\n"
     ]
    }
   ],
   "source": [
    "import pandas as pd\n",
    "\n",
    "s = pd.Series([10, 20, 30])\n",
    "print(s)\n",
    "\n",
    "s = pd.Series(['고가','시가'])\n",
    "print(s)"
   ]
  },
  {
   "cell_type": "code",
   "execution_count": 3,
   "metadata": {},
   "outputs": [
    {
     "name": "stdout",
     "output_type": "stream",
     "text": [
      "0       삼성\n",
      "1    80000\n",
      "dtype: object\n"
     ]
    }
   ],
   "source": [
    "s = pd.Series(['삼성', 80000])\n",
    "print(s)"
   ]
  },
  {
   "cell_type": "code",
   "execution_count": 5,
   "metadata": {},
   "outputs": [
    {
     "name": "stdout",
     "output_type": "stream",
     "text": [
      "0    1000\n",
      "1    2000\n",
      "2    3000\n",
      "dtype: int64\n",
      "RangeIndex(start=0, stop=3, step=1)\n",
      "[1000 2000 3000]\n",
      "[0, 1, 2]\n"
     ]
    }
   ],
   "source": [
    "# 인덱스\n",
    "s = pd.Series([1000, 2000, 3000])\n",
    "print(s)\n",
    "\n",
    "print(s.index)\n",
    "print(s.values)\n",
    "print(s.index.to_list())"
   ]
  },
  {
   "cell_type": "code",
   "execution_count": 9,
   "metadata": {},
   "outputs": [
    {
     "name": "stdout",
     "output_type": "stream",
     "text": [
      "메로나     1000\n",
      "구구콘     2000\n",
      "하겐다즈    3000\n",
      "dtype: object\n",
      "Index(['메로나', '구구콘', '하겐다즈'], dtype='object')\n",
      "[1000 2000 '3000']\n",
      "['메로나', '구구콘', '하겐다즈']\n",
      "메로나     1000\n",
      "구구콘     2000\n",
      "하겐다즈    3000\n",
      "dtype: int64\n",
      "1000     메로나\n",
      "2000     구구콘\n",
      "3000    하겐다즈\n",
      "dtype: object\n"
     ]
    }
   ],
   "source": [
    "# 인덱스 수정\n",
    "s = pd.Series([1000, 2000, 3000])\n",
    "s.index = ['메로나', '구구콘', '하겐다즈']\n",
    "\n",
    "print(s)\n",
    "print(s.index)\n",
    "print(s.values)\n",
    "print(s.index.to_list())\n",
    "\n",
    "ss = pd.Series([1000, 2000, 3000], ['메로나', '구구콘', '하겐다즈'])\n",
    "print(ss)\n",
    "\n",
    "sss = pd.Series(index = [1000, 2000, 3000], data = ['메로나', '구구콘', '하겐다즈']) # 위치기반 말고 키워드로도 가능\n",
    "print(sss)"
   ]
  },
  {
   "cell_type": "code",
   "execution_count": 11,
   "metadata": {},
   "outputs": [
    {
     "name": "stdout",
     "output_type": "stream",
     "text": [
      "2019-05-31    42500\n",
      "2019-05-30    42550\n",
      "2019-05-29    41800\n",
      "2019-05-28    42550\n",
      "2019-05-27    42650\n",
      "dtype: int64\n",
      "[42500 42550 41800 42550 42650]\n",
      "['2019-05-31', '2019-05-30', '2019-05-29', '2019-05-28', '2019-05-27']\n"
     ]
    }
   ],
   "source": [
    "data = {\n",
    "    \"2019-05-31\" : 42500,\n",
    "    \"2019-05-30\" : 42550,\n",
    "    \"2019-05-29\" : 41800,\n",
    "    \"2019-05-28\" : 42550,\n",
    "    \"2019-05-27\" : 42650\n",
    "}\n",
    "\n",
    "s_samsung = pd.Series(data)\n",
    "print(s_samsung)\n",
    "print(s_samsung.values) # 넘파이\n",
    "print(s_samsung.index.to_list()) # list"
   ]
  },
  {
   "cell_type": "code",
   "execution_count": 2,
   "metadata": {},
   "outputs": [
    {
     "ename": "IndentationError",
     "evalue": "unexpected indent (4116205467.py, line 14)",
     "output_type": "error",
     "traceback": [
      "\u001b[1;36m  Cell \u001b[1;32mIn[7], line 14\u001b[1;36m\u001b[0m\n\u001b[1;33m    print(s.loc[-1]) #얘는 오류난다\u001b[0m\n\u001b[1;37m    ^\u001b[0m\n\u001b[1;31mIndentationError\u001b[0m\u001b[1;31m:\u001b[0m unexpected indent\n"
     ]
    }
   ],
   "source": [
    "import pandas as pd\n",
    "# read 인덱싱\n",
    "s = pd.Series([1000, 2000, 3000], ['메로나', '구구콘', '하겐다즈']) # 인덱스는 데이터 타입이 같을 필요가 없다. ['메로나', '구구콘', -1]\n",
    "\n",
    "print(s.iloc[0])\n",
    "print(s.iloc[1])\n",
    "print(s.iloc[2])\n",
    "print(s.iloc[-1])\n",
    "\n",
    "# 인덱스 이름으로 검색\n",
    "print(s.loc['메로나'])\n",
    "print(s.loc['구구콘'])\n",
    "print(s.loc['하겐다즈'])\n",
    "# print(s.loc[-1]) 얘는 오류난다"
   ]
  },
  {
   "cell_type": "code",
   "execution_count": 3,
   "metadata": {},
   "outputs": [
    {
     "name": "stdout",
     "output_type": "stream",
     "text": [
      "메로나    1000\n",
      "구구콘    2000\n",
      "dtype: int64\n",
      "메로나    1000\n",
      "구구콘    2000\n",
      "dtype: int64\n",
      "메로나     1000\n",
      "하겐다즈    3000\n",
      "dtype: int64\n"
     ]
    }
   ],
   "source": [
    "# read 슬라이싱\n",
    "s = pd.Series([1000, 2000, 3000], ['메로나', '구구콘', '하겐다즈'])\n",
    "\n",
    "print(s.iloc[0 : 2])\n",
    "\n",
    "# 슬라이싱으로 끌고 오면 -> 시리즈 객체로 리턴이 된다.\n",
    "print(s.loc['메로나' : '구구콘'])\n",
    "\n",
    "indice = [0, 2]\n",
    "print(s.iloc[indice])"
   ]
  },
  {
   "cell_type": "code",
   "execution_count": 2,
   "metadata": {},
   "outputs": [
    {
     "name": "stdout",
     "output_type": "stream",
     "text": [
      "메로나      500\n",
      "구구콘     2000\n",
      "하겐다즈    3000\n",
      "dtype: int64\n",
      "메로나     1000\n",
      "구구콘     2000\n",
      "하겐다즈    3000\n",
      "dtype: int64\n"
     ]
    }
   ],
   "source": [
    "# 수정 추가 삭제\n",
    "from pandas import Series\n",
    "\n",
    "data = [1000, 2000, 3000]\n",
    "index = [\"메로나\", \"구구콘\", \"하겐다즈\"]\n",
    "s = Series(data=data, index=index)\n",
    "\n",
    "s.loc['메로나'] = 500 # 인덱스로 접근\n",
    "print(s)\n",
    "\n",
    "s.iloc[0] = 1000 # 행 번호로 접근\n",
    "print(s)"
   ]
  },
  {
   "cell_type": "code",
   "execution_count": 3,
   "metadata": {},
   "outputs": [
    {
     "name": "stdout",
     "output_type": "stream",
     "text": [
      "메로나     1000\n",
      "구구콘     2000\n",
      "하겐다즈    3000\n",
      "비비빅      500\n",
      "dtype: int64\n"
     ]
    }
   ],
   "source": [
    "from pandas import Series\n",
    "\n",
    "data = [1000, 2000, 3000]\n",
    "index = [\"메로나\", \"구구콘\", \"하겐다즈\"]\n",
    "s = Series(data=data, index=index)\n",
    "\n",
    "# 추가는 딕셔너리처럼 동적으로 가능하다.\n",
    "s.loc['비비빅'] = 500\n",
    "print(s)"
   ]
  },
  {
   "cell_type": "code",
   "execution_count": 9,
   "metadata": {},
   "outputs": [
    {
     "name": "stdout",
     "output_type": "stream",
     "text": [
      "구구콘     2000\n",
      "하겐다즈    3000\n",
      "dtype: int64\n",
      "메로나     1000\n",
      "구구콘     2000\n",
      "하겐다즈    3000\n",
      "dtype: int64\n",
      "구구콘     2000\n",
      "하겐다즈    3000\n",
      "dtype: int64\n",
      "메로나     1000\n",
      "구구콘     2000\n",
      "하겐다즈    3000\n",
      "dtype: int64\n"
     ]
    }
   ],
   "source": [
    "from pandas import Series\n",
    "\n",
    "data = [1000, 2000, 3000]\n",
    "index = [\"메로나\", \"구구콘\", \"하겐다즈\"]\n",
    "s = Series(data=data, index=index)\n",
    "\n",
    "print(s.drop('메로나')) # 옵션을 주지 않게 되면 원본은 지우지 않고, 지운 값만 리턴한다.\n",
    "print(s)\n",
    "\n",
    "t = s.drop('메로나')\n",
    "print(t)\n",
    "print(s)"
   ]
  },
  {
   "cell_type": "code",
   "execution_count": 10,
   "metadata": {},
   "outputs": [
    {
     "name": "stdout",
     "output_type": "stream",
     "text": [
      "구구콘     2000\n",
      "하겐다즈    3000\n",
      "dtype: int64\n"
     ]
    }
   ],
   "source": [
    "from pandas import Series\n",
    "\n",
    "data = [1000, 2000, 3000]\n",
    "index = [\"메로나\", \"구구콘\", \"하겐다즈\"]\n",
    "s = Series(data=data, index=index)\n",
    "\n",
    "s.drop('메로나', inplace=True)\n",
    "print(s)"
   ]
  },
  {
   "cell_type": "code",
   "execution_count": 14,
   "metadata": {},
   "outputs": [
    {
     "name": "stdout",
     "output_type": "stream",
     "text": [
      "KT       60\n",
      "NAVER    20\n",
      "SKT      40\n",
      "dtype: int64\n",
      "KT       0\n",
      "NAVER    0\n",
      "SKT      0\n",
      "dtype: int64\n"
     ]
    }
   ],
   "source": [
    "# 시리즈 연산\n",
    "# 넘파이와 동일하게 브로드캐스팅이 적용되며, 같은 인덱스를 갖는 데이터끼리 연산을 수행한다.\n",
    "import pandas as pd\n",
    "\n",
    "# 인덱스 순서가 다르다.\n",
    "s_1 = pd.Series([10, 20, 30], index = ['NAVER', 'SKT', 'KT'])\n",
    "s_2 = pd.Series([20, 30, 10], index = ['SKT', 'KT', 'NAVER'])\n",
    "\n",
    "# 동일한 인덱스끼리 연산되었다.\n",
    "s_3 = s_1 + s_2\n",
    "print(s_3)\n",
    "\n",
    "s_3 = s_1 - s_2\n",
    "print(s_3)"
   ]
  },
  {
   "cell_type": "code",
   "execution_count": 13,
   "metadata": {},
   "outputs": [
    {
     "name": "stdout",
     "output_type": "stream",
     "text": [
      "NAVER    100\n",
      "SKT      200\n",
      "KT       300\n",
      "dtype: int64\n"
     ]
    }
   ],
   "source": [
    "# 브로드캐스팅\n",
    "import pandas as pd\n",
    "\n",
    "s_1 = pd.Series([10, 20, 30], index = ['NAVER', 'SKT', 'KT'])\n",
    "s_2 = pd.Series([20, 30, 10], index = ['SKT', 'KT', 'NAVER'])\n",
    "\n",
    "print(10 * s_1)"
   ]
  },
  {
   "cell_type": "code",
   "execution_count": 22,
   "metadata": {},
   "outputs": [
    {
     "name": "stdout",
     "output_type": "stream",
     "text": [
      "0    650\n",
      "1    550\n",
      "2    750\n",
      "3    800\n",
      "4    650\n",
      "dtype: int64\n"
     ]
    },
    {
     "data": {
      "text/plain": [
       "0                650\n",
       "1             357500\n",
       "2          268125000\n",
       "3       214500000000\n",
       "4    139425000000000\n",
       "dtype: int64"
      ]
     },
     "execution_count": 22,
     "metadata": {},
     "output_type": "execute_result"
    }
   ],
   "source": [
    "# 삼성전자 5일 주가\n",
    "import pandas as pd\n",
    "\n",
    "high = pd.Series([42800, 42700, 42050, 42950, 43000])\n",
    "low = pd.Series([42150, 42150, 41300, 42150, 42350])\n",
    "\n",
    "s_diff = high - low\n",
    "print(s_diff)\n",
    "\n",
    "s_diff.max()\n",
    "s_diff.min()\n",
    "\n",
    "s_diff.mean() # 평균\n",
    "s_diff.median() # 중간값\n",
    "s_diff.var() # 분산\n",
    "s_diff.std() # 표준편차\n",
    "\n",
    "s_diff.cumprod() # 누적곱"
   ]
  },
  {
   "cell_type": "code",
   "execution_count": 25,
   "metadata": {},
   "outputs": [
    {
     "name": "stdout",
     "output_type": "stream",
     "text": [
      "['전기,전자' '운수장비' '서비스업']\n",
      "<class 'numpy.ndarray'>\n"
     ]
    },
    {
     "data": {
      "text/plain": [
       "전기,전자    2\n",
       "서비스업     2\n",
       "운수장비     1\n",
       "Name: count, dtype: int64"
      ]
     },
     "execution_count": 25,
     "metadata": {},
     "output_type": "execute_result"
    }
   ],
   "source": [
    "import pandas as pd\n",
    "\n",
    "data = {\n",
    "    \"삼성전자\": \"전기,전자\",\n",
    "    \"LG전자\": \"전기,전자\",\n",
    "    \"현대차\": \"운수장비\",\n",
    "    \"NAVER\": \"서비스업\",\n",
    "    \"카카오\": \"서비스업\"\n",
    "}\n",
    "s = pd.Series(data)\n",
    "\n",
    "print(s.unique()) # 넘파이로 리턴해준다\n",
    "print(type(s.unique()))\n",
    "\n",
    "s.value_counts() # 시리즈로 리턴"
   ]
  },
  {
   "cell_type": "code",
   "execution_count": 28,
   "metadata": {},
   "outputs": [
    {
     "name": "stdout",
     "output_type": "stream",
     "text": [
      "1,234 in function\n",
      "5,678 in function\n",
      "9,876 in function\n",
      "0    1234\n",
      "1    5678\n",
      "2    9876\n",
      "dtype: int64\n",
      "16788\n"
     ]
    }
   ],
   "source": [
    "# 시리즈 Map\n",
    "# 시리즈를 사용하다 보면 시리즈가 지원하는 기본연산 의외에도\n",
    "# 복잡한 형태의 사용자 정의 코드를 적용하고 싶은 경우\n",
    "\n",
    "s = pd.Series(['1,234', '5,678', '9,876'])\n",
    "\n",
    "# print(int(s)) 컴마인데 당연히 안된다.\n",
    "\n",
    "def remove_comma(x):\n",
    "    print(x, \"in function\")\n",
    "    return int(x.replace(',', ''))\n",
    "\n",
    "result = s.map(remove_comma) # 시리즈 클래스에서 제공해주는 맵핑 함수\n",
    "print(result)\n",
    "\n",
    "print(result.sum())"
   ]
  },
  {
   "cell_type": "code",
   "execution_count": 29,
   "metadata": {},
   "outputs": [
    {
     "name": "stdout",
     "output_type": "stream",
     "text": [
      "0    작다\n",
      "1    크다\n",
      "2    크다\n",
      "dtype: object\n"
     ]
    }
   ],
   "source": [
    "s = pd.Series([1234, 5678, 9876])\n",
    "\n",
    "def size_check(x):\n",
    "    if x > 5000:\n",
    "        return \"크다\"\n",
    "    else:\n",
    "        return \"작다\"\n",
    "    \n",
    "s = s.map(size_check)\n",
    "print(s)"
   ]
  },
  {
   "cell_type": "code",
   "execution_count": 31,
   "metadata": {},
   "outputs": [
    {
     "name": "stdout",
     "output_type": "stream",
     "text": [
      "2019-05-31     True\n",
      "2019-05-30     True\n",
      "2019-05-29    False\n",
      "2019-05-28     True\n",
      "2019-05-27     True\n",
      "dtype: bool\n",
      "2019-05-31    42500\n",
      "2019-05-30    42550\n",
      "2019-05-28    42550\n",
      "2019-05-27    42650\n",
      "dtype: int64\n"
     ]
    }
   ],
   "source": [
    "# 시리즈 필터링\n",
    "\n",
    "data = [42500, 42550, 41800, 42550, 42650]\n",
    "index = ['2019-05-31', '2019-05-30', '2019-05-29', '2019-05-28', '2019-05-27']\n",
    "\n",
    "s = pd.Series(data=data, index=index)\n",
    "\n",
    "cond = s > 42000 # ????? 미쳐버린 오버로딩...\n",
    "print(cond)\n",
    "print(s[cond]) # True만 출력한다\n"
   ]
  },
  {
   "cell_type": "code",
   "execution_count": 34,
   "metadata": {},
   "outputs": [
    {
     "name": "stdout",
     "output_type": "stream",
     "text": [
      "2019-05-30    42550\n",
      "2019-05-27    42650\n",
      "dtype: int64\n"
     ]
    }
   ],
   "source": [
    "close = [42500, 42550, 41800, 42550, 42650]\n",
    "open = [42600, 42200, 41850, 42550, 42500]\n",
    "index = ['2019-05-31', '2019-05-30', '2019-05-29', '2019-05-28', '2019-05-27']\n",
    "\n",
    "open = Series(data=open, index=index)\n",
    "close = Series(data=close, index=index)\n",
    "\n",
    "# 종가가 시가보다 높을때만 출력\n",
    "cond = close > open\n",
    "print(s[cond])"
   ]
  },
  {
   "cell_type": "code",
   "execution_count": 40,
   "metadata": {},
   "outputs": [
    {
     "name": "stdout",
     "output_type": "stream",
     "text": [
      "['T', '_AXIS_LEN', '_AXIS_ORDERS', '_AXIS_TO_AXIS_NUMBER', '_HANDLED_TYPES', '__abs__', '__add__', '__and__', '__annotations__', '__array__', '__array_priority__', '__array_ufunc__', '__bool__', '__class__', '__column_consortium_standard__', '__contains__', '__copy__', '__deepcopy__', '__delattr__', '__delitem__', '__dict__', '__dir__', '__divmod__', '__doc__', '__eq__', '__finalize__', '__float__', '__floordiv__', '__format__', '__ge__', '__getattr__', '__getattribute__', '__getitem__', '__getstate__', '__gt__', '__hash__', '__iadd__', '__iand__', '__ifloordiv__', '__imod__', '__imul__', '__init__', '__init_subclass__', '__int__', '__invert__', '__ior__', '__ipow__', '__isub__', '__iter__', '__itruediv__', '__ixor__', '__le__', '__len__', '__lt__', '__matmul__', '__mod__', '__module__', '__mul__', '__ne__', '__neg__', '__new__', '__nonzero__', '__or__', '__pandas_priority__', '__pos__', '__pow__', '__radd__', '__rand__', '__rdivmod__', '__reduce__', '__reduce_ex__', '__repr__', '__rfloordiv__', '__rmatmul__', '__rmod__', '__rmul__', '__ror__', '__round__', '__rpow__', '__rsub__', '__rtruediv__', '__rxor__', '__setattr__', '__setitem__', '__setstate__', '__sizeof__', '__str__', '__sub__', '__subclasshook__', '__truediv__', '__weakref__', '__xor__', '_accessors', '_accum_func', '_agg_examples_doc', '_agg_see_also_doc', '_align_for_op', '_align_frame', '_align_series', '_append', '_arith_method', '_as_manager', '_attrs', '_binop', '_can_hold_na', '_check_inplace_and_allows_duplicate_labels', '_check_is_chained_assignment_possible', '_check_label_or_level_ambiguity', '_check_setitem_copy', '_clear_item_cache', '_clip_with_one_bound', '_clip_with_scalar', '_cmp_method', '_consolidate', '_consolidate_inplace', '_construct_axes_dict', '_construct_result', '_constructor', '_constructor_expanddim', '_constructor_expanddim_from_mgr', '_constructor_from_mgr', '_data', '_deprecate_downcast', '_dir_additions', '_dir_deletions', '_drop_axis', '_drop_labels_or_levels', '_duplicated', '_find_valid_index', '_flags', '_flex_method', '_from_mgr', '_get_axis', '_get_axis_name', '_get_axis_number', '_get_axis_resolvers', '_get_block_manager_axis', '_get_bool_data', '_get_cacher', '_get_cleaned_column_resolvers', '_get_index_resolvers', '_get_label_or_level_values', '_get_numeric_data', '_get_rows_with_mask', '_get_value', '_get_values_tuple', '_get_with', '_getitem_slice', '_gotitem', '_hidden_attrs', '_indexed_same', '_info_axis', '_info_axis_name', '_info_axis_number', '_init_dict', '_init_mgr', '_inplace_method', '_internal_names', '_internal_names_set', '_is_cached', '_is_copy', '_is_label_or_level_reference', '_is_label_reference', '_is_level_reference', '_is_mixed_type', '_is_view', '_is_view_after_cow_rules', '_item_cache', '_ixs', '_logical_func', '_logical_method', '_map_values', '_maybe_update_cacher', '_memory_usage', '_metadata', '_mgr', '_min_count_stat_function', '_name', '_needs_reindex_multi', '_pad_or_backfill', '_protect_consolidate', '_reduce', '_references', '_reindex_axes', '_reindex_indexer', '_reindex_multi', '_reindex_with_indexers', '_rename', '_replace_single', '_repr_data_resource_', '_repr_latex_', '_reset_cache', '_reset_cacher', '_set_as_cached', '_set_axis', '_set_axis_name', '_set_axis_nocheck', '_set_is_copy', '_set_labels', '_set_name', '_set_value', '_set_values', '_set_with', '_set_with_engine', '_shift_with_freq', '_slice', '_stat_function', '_stat_function_ddof', '_take_with_is_copy', '_to_latex_via_styler', '_typ', '_update_inplace', '_validate_dtype', '_values', '_where', 'abs', 'add', 'add_prefix', 'add_suffix', 'agg', 'aggregate', 'align', 'all', 'any', 'apply', 'argmax', 'argmin', 'argsort', 'array', 'asfreq', 'asof', 'astype', 'at', 'at_time', 'attrs', 'autocorr', 'axes', 'backfill', 'between', 'between_time', 'bfill', 'bool', 'case_when', 'clip', 'combine', 'combine_first', 'compare', 'convert_dtypes', 'copy', 'corr', 'count', 'cov', 'cummax', 'cummin', 'cumprod', 'cumsum', 'describe', 'diff', 'div', 'divide', 'divmod', 'dot', 'drop', 'drop_duplicates', 'droplevel', 'dropna', 'dtype', 'dtypes', 'duplicated', 'empty', 'eq', 'equals', 'ewm', 'expanding', 'explode', 'factorize', 'ffill', 'fillna', 'filter', 'first', 'first_valid_index', 'flags', 'floordiv', 'ge', 'get', 'groupby', 'gt', 'hasnans', 'head', 'hist', 'iat', 'idxmax', 'idxmin', 'iloc', 'index', 'infer_objects', 'info', 'interpolate', 'is_monotonic_decreasing', 'is_monotonic_increasing', 'is_unique', 'isin', 'isna', 'isnull', 'item', 'items', 'keys', 'kurt', 'kurtosis', 'last', 'last_valid_index', 'le', 'list', 'loc', 'lt', 'map', 'mask', 'max', 'mean', 'median', 'memory_usage', 'min', 'mod', 'mode', 'mul', 'multiply', 'name', 'nbytes', 'ndim', 'ne', 'nlargest', 'notna', 'notnull', 'nsmallest', 'nunique', 'pad', 'pct_change', 'pipe', 'plot', 'pop', 'pow', 'prod', 'product', 'quantile', 'radd', 'rank', 'ravel', 'rdiv', 'rdivmod', 'reindex', 'reindex_like', 'rename', 'rename_axis', 'reorder_levels', 'repeat', 'replace', 'resample', 'reset_index', 'rfloordiv', 'rmod', 'rmul', 'rolling', 'round', 'rpow', 'rsub', 'rtruediv', 'sample', 'searchsorted', 'sem', 'set_axis', 'set_flags', 'shape', 'shift', 'size', 'skew', 'sort_index', 'sort_values', 'squeeze', 'std', 'struct', 'sub', 'subtract', 'sum', 'swapaxes', 'swaplevel', 'tail', 'take', 'to_clipboard', 'to_csv', 'to_dict', 'to_excel', 'to_frame', 'to_hdf', 'to_json', 'to_latex', 'to_list', 'to_markdown', 'to_numpy', 'to_period', 'to_pickle', 'to_sql', 'to_string', 'to_timestamp', 'to_xarray', 'transform', 'transpose', 'truediv', 'truncate', 'tz_convert', 'tz_localize', 'unique', 'unstack', 'update', 'value_counts', 'values', 'var', 'view', 'where', 'xs']\n"
     ]
    }
   ],
   "source": [
    "import pandas as pd\n",
    "\n",
    "open = [42600, 42200, 41850, 42550, 42500]\n",
    "index = ['2019-05-31', '2019-05-30', '2019-05-29', '2019-05-28', '2019-05-27']\n",
    "\n",
    "open = Series(data=open, index=index)\n",
    "\n",
    "print(dir(open))"
   ]
  },
  {
   "cell_type": "code",
   "execution_count": 43,
   "metadata": {},
   "outputs": [
    {
     "name": "stdout",
     "output_type": "stream",
     "text": [
      "000020     2.0\n",
      "000010     3.1\n",
      "000040     5.1\n",
      "000030    10.1\n",
      "dtype: float64\n",
      "000010     3.1\n",
      "000020     2.0\n",
      "000030    10.1\n",
      "000040     5.1\n",
      "dtype: float64\n"
     ]
    }
   ],
   "source": [
    "# 정렬 및 순위\n",
    "\n",
    "data = [3.1, 2.0, 10.1, 5.1]\n",
    "index = ['000010', '000020', '000030', '000040']\n",
    "s = pd.Series(data=data, index=index)\n",
    "\n",
    "# 정렬\n",
    "s1 = s.sort_values() # 내림차순은 s.sort_values(ascending=False) 파라미터 주면 된다.\n",
    "print(s1)\n",
    "\n",
    "s2 = s.sort_index()\n",
    "print(s2)"
   ]
  },
  {
   "cell_type": "code",
   "execution_count": 45,
   "metadata": {},
   "outputs": [
    {
     "name": "stdout",
     "output_type": "stream",
     "text": [
      "000010    2.5\n",
      "000020    1.0\n",
      "000030    4.0\n",
      "000040    2.5\n",
      "dtype: float64\n",
      "000010    2.5\n",
      "000020    4.0\n",
      "000030    1.0\n",
      "000040    2.5\n",
      "dtype: float64\n"
     ]
    }
   ],
   "source": [
    "#순위\n",
    "data = [3.1, 2.0, 10.1, 3.1]\n",
    "index = ['000010', '000020', '000030', '000040']\n",
    "s = pd.Series(data=data, index=index)\n",
    "\n",
    "print(s.rank()) # 작은 순자순으로 랭크. float64로 저장된다.\n",
    "print(s.rank(ascending=False)) # 높은 숫자 순으로."
   ]
  },
  {
   "cell_type": "code",
   "execution_count": 49,
   "metadata": {},
   "outputs": [
    {
     "name": "stdout",
     "output_type": "stream",
     "text": [
      "   시가  고가  저가  종가\n",
      "0  30  40  20  90\n",
      "1  90  70  60  80\n",
      "2  80  90  80  80\n",
      "      시가  고가  저가  종가\n",
      "삼성전자  30  40  20  90\n",
      "카카오   90  70  60  80\n",
      "네이버   80  90  80  80\n"
     ]
    }
   ],
   "source": [
    "# 데이터프레임\n",
    "# 컬럼 단위로 데이터 표현\n",
    "data = { # 딕셔너리\n",
    "    '시가' : [30, 90, 80],\n",
    "    '고가' : [40, 70, 90],\n",
    "    '저가' : [20, 60, 80],\n",
    "    '종가' : [90, 80, 80]\n",
    "}\n",
    "index = ['삼성전자', '카카오', '네이버']\n",
    "\n",
    "stock_df = pd.DataFrame(data) # df_stock 이런 식으로도 이름 짓는다. df 가 꼭 들어간다.\n",
    "print(stock_df)\n",
    "\n",
    "df_stock = pd.DataFrame(data = data, index = index)\n",
    "print(df_stock)"
   ]
  },
  {
   "cell_type": "code",
   "execution_count": 50,
   "metadata": {},
   "outputs": [
    {
     "data": {
      "text/html": [
       "<div>\n",
       "<style scoped>\n",
       "    .dataframe tbody tr th:only-of-type {\n",
       "        vertical-align: middle;\n",
       "    }\n",
       "\n",
       "    .dataframe tbody tr th {\n",
       "        vertical-align: top;\n",
       "    }\n",
       "\n",
       "    .dataframe thead th {\n",
       "        text-align: right;\n",
       "    }\n",
       "</style>\n",
       "<table border=\"1\" class=\"dataframe\">\n",
       "  <thead>\n",
       "    <tr style=\"text-align: right;\">\n",
       "      <th></th>\n",
       "      <th>시가</th>\n",
       "      <th>고가</th>\n",
       "      <th>저가</th>\n",
       "      <th>종가</th>\n",
       "    </tr>\n",
       "  </thead>\n",
       "  <tbody>\n",
       "    <tr>\n",
       "      <th>삼성전자</th>\n",
       "      <td>30</td>\n",
       "      <td>90</td>\n",
       "      <td>80</td>\n",
       "      <td>90</td>\n",
       "    </tr>\n",
       "    <tr>\n",
       "      <th>카카오</th>\n",
       "      <td>30</td>\n",
       "      <td>90</td>\n",
       "      <td>80</td>\n",
       "      <td>90</td>\n",
       "    </tr>\n",
       "    <tr>\n",
       "      <th>네이버</th>\n",
       "      <td>30</td>\n",
       "      <td>90</td>\n",
       "      <td>80</td>\n",
       "      <td>90</td>\n",
       "    </tr>\n",
       "  </tbody>\n",
       "</table>\n",
       "</div>"
      ],
      "text/plain": [
       "      시가  고가  저가  종가\n",
       "삼성전자  30  90  80  90\n",
       "카카오   30  90  80  90\n",
       "네이버   30  90  80  90"
      ]
     },
     "execution_count": 50,
     "metadata": {},
     "output_type": "execute_result"
    }
   ],
   "source": [
    "# 로우 단위로 데이터 표현\n",
    "data = [ # 리스트\n",
    "    [30, 90, 80, 90],\n",
    "    [30, 90, 80, 90],\n",
    "    [30, 90, 80, 90]\n",
    "]\n",
    "column = ['시가', '고가', '저가', '종가']\n",
    "index = ['삼성전자', '카카오', '네이버']\n",
    "\n",
    "df_stock = pd.DataFrame(data = data, columns = column, index = index)\n",
    "df_stock"
   ]
  },
  {
   "cell_type": "code",
   "execution_count": 52,
   "metadata": {},
   "outputs": [
    {
     "data": {
      "text/html": [
       "<div>\n",
       "<style scoped>\n",
       "    .dataframe tbody tr th:only-of-type {\n",
       "        vertical-align: middle;\n",
       "    }\n",
       "\n",
       "    .dataframe tbody tr th {\n",
       "        vertical-align: top;\n",
       "    }\n",
       "\n",
       "    .dataframe thead th {\n",
       "        text-align: right;\n",
       "    }\n",
       "</style>\n",
       "<table border=\"1\" class=\"dataframe\">\n",
       "  <thead>\n",
       "    <tr style=\"text-align: right;\">\n",
       "      <th></th>\n",
       "      <th>시가</th>\n",
       "      <th>고가</th>\n",
       "      <th>저가</th>\n",
       "      <th>종가</th>\n",
       "    </tr>\n",
       "  </thead>\n",
       "  <tbody>\n",
       "    <tr>\n",
       "      <th>삼성전자</th>\n",
       "      <td>980</td>\n",
       "      <td>80</td>\n",
       "      <td>70</td>\n",
       "      <td>90</td>\n",
       "    </tr>\n",
       "    <tr>\n",
       "      <th>카카오</th>\n",
       "      <td>880</td>\n",
       "      <td>80</td>\n",
       "      <td>70</td>\n",
       "      <td>90</td>\n",
       "    </tr>\n",
       "    <tr>\n",
       "      <th>네이버</th>\n",
       "      <td>780</td>\n",
       "      <td>80</td>\n",
       "      <td>70</td>\n",
       "      <td>90</td>\n",
       "    </tr>\n",
       "  </tbody>\n",
       "</table>\n",
       "</div>"
      ],
      "text/plain": [
       "       시가  고가  저가  종가\n",
       "삼성전자  980  80  70  90\n",
       "카카오   880  80  70  90\n",
       "네이버   780  80  70  90"
      ]
     },
     "execution_count": 52,
     "metadata": {},
     "output_type": "execute_result"
    }
   ],
   "source": [
    "# 로우 단위를 딕셔너리로 표현\n",
    "data2 = [\n",
    "    {'시가' : 980, '고가' : 80, '저가' : 70, '종가' : 90},\n",
    "    {'시가' : 880, '고가' : 80, '저가' : 70, '종가' : 90},\n",
    "    {'시가' : 780, '고가' : 80, '저가' : 70, '종가' : 90}\n",
    "]\n",
    "index = ['삼성전자', '카카오', '네이버']\n",
    "\n",
    "df_stock = pd.DataFrame(data = data2, index = index)\n",
    "df_stock"
   ]
  },
  {
   "cell_type": "code",
   "execution_count": 53,
   "metadata": {},
   "outputs": [
    {
     "data": {
      "text/html": [
       "<div>\n",
       "<style scoped>\n",
       "    .dataframe tbody tr th:only-of-type {\n",
       "        vertical-align: middle;\n",
       "    }\n",
       "\n",
       "    .dataframe tbody tr th {\n",
       "        vertical-align: top;\n",
       "    }\n",
       "\n",
       "    .dataframe thead th {\n",
       "        text-align: right;\n",
       "    }\n",
       "</style>\n",
       "<table border=\"1\" class=\"dataframe\">\n",
       "  <thead>\n",
       "    <tr style=\"text-align: right;\">\n",
       "      <th></th>\n",
       "      <th>나이</th>\n",
       "      <th>직책</th>\n",
       "    </tr>\n",
       "  </thead>\n",
       "  <tbody>\n",
       "    <tr>\n",
       "      <th>김은수</th>\n",
       "      <td>35</td>\n",
       "      <td>과장</td>\n",
       "    </tr>\n",
       "    <tr>\n",
       "      <th>박정민</th>\n",
       "      <td>30</td>\n",
       "      <td>대리</td>\n",
       "    </tr>\n",
       "    <tr>\n",
       "      <th>이하나</th>\n",
       "      <td>28</td>\n",
       "      <td>대리</td>\n",
       "    </tr>\n",
       "  </tbody>\n",
       "</table>\n",
       "</div>"
      ],
      "text/plain": [
       "     나이  직책\n",
       "김은수  35  과장\n",
       "박정민  30  대리\n",
       "이하나  28  대리"
      ]
     },
     "execution_count": 53,
     "metadata": {},
     "output_type": "execute_result"
    }
   ],
   "source": [
    "import pandas as pd\n",
    "\n",
    "data = {\n",
    "    '나이' : [35, 30, 28],\n",
    "    '직책' : ['과장', '대리', '대리']\n",
    "}\n",
    "index = ['김은수', '박정민', '이하나']\n",
    "\n",
    "df_emp = pd.DataFrame(data = data, index = index)\n",
    "df_emp"
   ]
  },
  {
   "cell_type": "code",
   "execution_count": 58,
   "metadata": {},
   "outputs": [
    {
     "name": "stdout",
     "output_type": "stream",
     "text": [
      "<class 'pandas.core.frame.DataFrame'>\n",
      "Index: 3 entries, 김은수 to 이하나\n",
      "Data columns (total 2 columns):\n",
      " #   Column  Non-Null Count  Dtype \n",
      "---  ------  --------------  ----- \n",
      " 0   나이      3 non-null      int64 \n",
      " 1   직책      3 non-null      object\n",
      "dtypes: int64(1), object(1)\n",
      "memory usage: 72.0+ bytes\n"
     ]
    },
    {
     "data": {
      "text/plain": [
       "(3, 2)"
      ]
     },
     "execution_count": 58,
     "metadata": {},
     "output_type": "execute_result"
    }
   ],
   "source": [
    "# 데이터 프레임 전체적인 개괄요약 함수\n",
    "df_emp.info()\n",
    "\n",
    "df_emp.describe()\n",
    "df_emp.shape"
   ]
  },
  {
   "cell_type": "code",
   "execution_count": 64,
   "metadata": {},
   "outputs": [
    {
     "name": "stdout",
     "output_type": "stream",
     "text": [
      "    이름  나이  도시\n",
      "0  김철수  25  서울\n",
      "1  이영희  32  부산\n",
      "2  박민수  19  대구\n",
      "0    서울\n",
      "1    부산\n",
      "2    대구\n",
      "Name: 도시, dtype: object\n",
      "   도시   이름\n",
      "0  서울  김철수\n",
      "1  부산  이영희\n",
      "2  대구  박민수\n",
      "<class 'pandas.core.frame.DataFrame'>\n",
      "이름    김철수\n",
      "나이     25\n",
      "도시     서울\n",
      "Name: 0, dtype: object\n",
      "<class 'pandas.core.series.Series'>\n"
     ]
    }
   ],
   "source": [
    "import pandas as pd\n",
    "\n",
    "# 고객 데이터를 담은 딕셔너리 생성\n",
    "data = {\n",
    "    \"이름\": [\"김철수\", \"이영희\", \"박민수\"],\n",
    "    \"나이\": [25, 32, 19],\n",
    "    \"도시\": [\"서울\", \"부산\", \"대구\"]\n",
    "}\n",
    "\n",
    "# 딕셔너리를 사용해 데이터프레임 생성\n",
    "df = pd.DataFrame(data)\n",
    "\n",
    "# 데이터프레임 출력\n",
    "print(df)\n",
    "\n",
    "# 도시 열 선택\n",
    "column_data = df[\"도시\"]\n",
    "print(column_data) # 시리즈로 리턴된다.\n",
    "\n",
    "# 도시 이름 두개를 선택\n",
    "selected_columns = df[['도시', '이름']] # 두개 이상은 리스트 형태로 넣어줘야 한다.\n",
    "print(selected_columns)\n",
    "print(type(selected_columns)) # 데이터 프레임으로 리턴\n",
    "\n",
    "# 행 선택\n",
    "df.head() # 기본적으로 위에서부터 5개의 행을 뽑아낸다.\n",
    "df.tail() # 밑에서부터 5개.\n",
    "\n",
    "df.head(10) # 파라미터에 넣은 값 만큼 출력한다.\n",
    "\n",
    "# 한 줄 뽑기\n",
    "row = df.loc[0] # 시리즈 형태로 바뀐다.\n",
    "print(row)\n",
    "print(type(row))\n",
    "\n",
    "\n"
   ]
  }
 ],
 "metadata": {
  "kernelspec": {
   "display_name": "env_django",
   "language": "python",
   "name": "python3"
  },
  "language_info": {
   "codemirror_mode": {
    "name": "ipython",
    "version": 3
   },
   "file_extension": ".py",
   "mimetype": "text/x-python",
   "name": "python",
   "nbconvert_exporter": "python",
   "pygments_lexer": "ipython3",
   "version": "3.10.16"
  }
 },
 "nbformat": 4,
 "nbformat_minor": 2
}
