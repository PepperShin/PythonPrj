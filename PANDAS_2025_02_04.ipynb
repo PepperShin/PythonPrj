{
 "cells": [
  {
   "cell_type": "code",
   "execution_count": 1,
   "metadata": {},
   "outputs": [
    {
     "name": "stdout",
     "output_type": "stream",
     "text": [
      "Collecting pandas\n",
      "  Downloading pandas-2.2.3-cp310-cp310-win_amd64.whl.metadata (19 kB)\n",
      "Requirement already satisfied: numpy>=1.22.4 in c:\\users\\peep1\\anaconda3\\envs\\env_django\\lib\\site-packages (from pandas) (2.2.2)\n",
      "Requirement already satisfied: python-dateutil>=2.8.2 in c:\\users\\peep1\\anaconda3\\envs\\env_django\\lib\\site-packages (from pandas) (2.9.0.post0)\n",
      "Collecting pytz>=2020.1 (from pandas)\n",
      "  Downloading pytz-2025.1-py2.py3-none-any.whl.metadata (22 kB)\n",
      "Collecting tzdata>=2022.7 (from pandas)\n",
      "  Downloading tzdata-2025.1-py2.py3-none-any.whl.metadata (1.4 kB)\n",
      "Requirement already satisfied: six>=1.5 in c:\\users\\peep1\\anaconda3\\envs\\env_django\\lib\\site-packages (from python-dateutil>=2.8.2->pandas) (1.17.0)\n",
      "Downloading pandas-2.2.3-cp310-cp310-win_amd64.whl (11.6 MB)\n",
      "   ---------------------------------------- 0.0/11.6 MB ? eta -:--:--\n",
      "   -------- ------------------------------- 2.4/11.6 MB 11.2 MB/s eta 0:00:01\n",
      "   ---------------- ----------------------- 4.7/11.6 MB 11.9 MB/s eta 0:00:01\n",
      "   ------------------------- -------------- 7.3/11.6 MB 11.6 MB/s eta 0:00:01\n",
      "   --------------------------------- ------ 9.7/11.6 MB 11.6 MB/s eta 0:00:01\n",
      "   ---------------------------------------- 11.6/11.6 MB 11.5 MB/s eta 0:00:00\n",
      "Downloading pytz-2025.1-py2.py3-none-any.whl (507 kB)\n",
      "Downloading tzdata-2025.1-py2.py3-none-any.whl (346 kB)\n",
      "Installing collected packages: pytz, tzdata, pandas\n",
      "Successfully installed pandas-2.2.3 pytz-2025.1 tzdata-2025.1\n",
      "Note: you may need to restart the kernel to use updated packages.\n"
     ]
    }
   ],
   "source": [
    "pip install pandas"
   ]
  },
  {
   "cell_type": "code",
   "execution_count": 2,
   "metadata": {},
   "outputs": [
    {
     "name": "stdout",
     "output_type": "stream",
     "text": [
      "0    10\n",
      "1    20\n",
      "2    30\n",
      "dtype: int64\n",
      "0    고가\n",
      "1    시가\n",
      "dtype: object\n"
     ]
    }
   ],
   "source": [
    "import pandas as pd\n",
    "\n",
    "s = pd.Series([10, 20, 30])\n",
    "print(s)\n",
    "\n",
    "s = pd.Series(['고가','시가'])\n",
    "print(s)"
   ]
  },
  {
   "cell_type": "code",
   "execution_count": 3,
   "metadata": {},
   "outputs": [
    {
     "name": "stdout",
     "output_type": "stream",
     "text": [
      "0       삼성\n",
      "1    80000\n",
      "dtype: object\n"
     ]
    }
   ],
   "source": [
    "s = pd.Series(['삼성', 80000])\n",
    "print(s)"
   ]
  },
  {
   "cell_type": "code",
   "execution_count": 5,
   "metadata": {},
   "outputs": [
    {
     "name": "stdout",
     "output_type": "stream",
     "text": [
      "0    1000\n",
      "1    2000\n",
      "2    3000\n",
      "dtype: int64\n",
      "RangeIndex(start=0, stop=3, step=1)\n",
      "[1000 2000 3000]\n",
      "[0, 1, 2]\n"
     ]
    }
   ],
   "source": [
    "# 인덱스\n",
    "s = pd.Series([1000, 2000, 3000])\n",
    "print(s)\n",
    "\n",
    "print(s.index)\n",
    "print(s.values)\n",
    "print(s.index.to_list())"
   ]
  },
  {
   "cell_type": "code",
   "execution_count": 9,
   "metadata": {},
   "outputs": [
    {
     "name": "stdout",
     "output_type": "stream",
     "text": [
      "메로나     1000\n",
      "구구콘     2000\n",
      "하겐다즈    3000\n",
      "dtype: object\n",
      "Index(['메로나', '구구콘', '하겐다즈'], dtype='object')\n",
      "[1000 2000 '3000']\n",
      "['메로나', '구구콘', '하겐다즈']\n",
      "메로나     1000\n",
      "구구콘     2000\n",
      "하겐다즈    3000\n",
      "dtype: int64\n",
      "1000     메로나\n",
      "2000     구구콘\n",
      "3000    하겐다즈\n",
      "dtype: object\n"
     ]
    }
   ],
   "source": [
    "# 인덱스 수정\n",
    "s = pd.Series([1000, 2000, 3000])\n",
    "s.index = ['메로나', '구구콘', '하겐다즈']\n",
    "\n",
    "print(s)\n",
    "print(s.index)\n",
    "print(s.values)\n",
    "print(s.index.to_list())\n",
    "\n",
    "ss = pd.Series([1000, 2000, 3000], ['메로나', '구구콘', '하겐다즈'])\n",
    "print(ss)\n",
    "\n",
    "sss = pd.Series(index = [1000, 2000, 3000], data = ['메로나', '구구콘', '하겐다즈']) # 위치기반 말고 키워드로도 가능\n",
    "print(sss)"
   ]
  },
  {
   "cell_type": "code",
   "execution_count": 11,
   "metadata": {},
   "outputs": [
    {
     "name": "stdout",
     "output_type": "stream",
     "text": [
      "2019-05-31    42500\n",
      "2019-05-30    42550\n",
      "2019-05-29    41800\n",
      "2019-05-28    42550\n",
      "2019-05-27    42650\n",
      "dtype: int64\n",
      "[42500 42550 41800 42550 42650]\n",
      "['2019-05-31', '2019-05-30', '2019-05-29', '2019-05-28', '2019-05-27']\n"
     ]
    }
   ],
   "source": [
    "data = {\n",
    "    \"2019-05-31\" : 42500,\n",
    "    \"2019-05-30\" : 42550,\n",
    "    \"2019-05-29\" : 41800,\n",
    "    \"2019-05-28\" : 42550,\n",
    "    \"2019-05-27\" : 42650\n",
    "}\n",
    "\n",
    "s_samsung = pd.Series(data)\n",
    "print(s_samsung)\n",
    "print(s_samsung.values) # 넘파이\n",
    "print(s_samsung.index.to_list()) # list"
   ]
  },
  {
   "cell_type": "code",
   "execution_count": 2,
   "metadata": {},
   "outputs": [
    {
     "ename": "IndentationError",
     "evalue": "unexpected indent (4116205467.py, line 14)",
     "output_type": "error",
     "traceback": [
      "\u001b[1;36m  Cell \u001b[1;32mIn[7], line 14\u001b[1;36m\u001b[0m\n\u001b[1;33m    print(s.loc[-1]) #얘는 오류난다\u001b[0m\n\u001b[1;37m    ^\u001b[0m\n\u001b[1;31mIndentationError\u001b[0m\u001b[1;31m:\u001b[0m unexpected indent\n"
     ]
    }
   ],
   "source": [
    "import pandas as pd\n",
    "# read 인덱싱\n",
    "s = pd.Series([1000, 2000, 3000], ['메로나', '구구콘', '하겐다즈']) # 인덱스는 데이터 타입이 같을 필요가 없다. ['메로나', '구구콘', -1]\n",
    "\n",
    "print(s.iloc[0])\n",
    "print(s.iloc[1])\n",
    "print(s.iloc[2])\n",
    "print(s.iloc[-1])\n",
    "\n",
    "# 인덱스 이름으로 검색\n",
    "print(s.loc['메로나'])\n",
    "print(s.loc['구구콘'])\n",
    "print(s.loc['하겐다즈'])\n",
    "# print(s.loc[-1]) 얘는 오류난다"
   ]
  },
  {
   "cell_type": "code",
   "execution_count": 3,
   "metadata": {},
   "outputs": [
    {
     "name": "stdout",
     "output_type": "stream",
     "text": [
      "메로나    1000\n",
      "구구콘    2000\n",
      "dtype: int64\n",
      "메로나    1000\n",
      "구구콘    2000\n",
      "dtype: int64\n",
      "메로나     1000\n",
      "하겐다즈    3000\n",
      "dtype: int64\n"
     ]
    }
   ],
   "source": [
    "# read 슬라이싱\n",
    "s = pd.Series([1000, 2000, 3000], ['메로나', '구구콘', '하겐다즈'])\n",
    "\n",
    "print(s.iloc[0 : 2])\n",
    "\n",
    "# 슬라이싱으로 끌고 오면 -> 시리즈 객체로 리턴이 된다.\n",
    "print(s.loc['메로나' : '구구콘'])\n",
    "\n",
    "indice = [0, 2]\n",
    "print(s.iloc[indice])"
   ]
  },
  {
   "cell_type": "code",
   "execution_count": null,
   "metadata": {},
   "outputs": [],
   "source": []
  }
 ],
 "metadata": {
  "kernelspec": {
   "display_name": "env_django",
   "language": "python",
   "name": "python3"
  },
  "language_info": {
   "codemirror_mode": {
    "name": "ipython",
    "version": 3
   },
   "file_extension": ".py",
   "mimetype": "text/x-python",
   "name": "python",
   "nbconvert_exporter": "python",
   "pygments_lexer": "ipython3",
   "version": "3.10.16"
  }
 },
 "nbformat": 4,
 "nbformat_minor": 2
}
